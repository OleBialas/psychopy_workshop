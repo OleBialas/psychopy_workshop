{
 "cells": [
  {
   "cell_type": "markdown",
   "metadata": {
    "vscode": {
     "languageId": "plaintext"
    }
   },
   "source": [
    "# II. Experimental Flow Control"
   ]
  },
  {
   "cell_type": "markdown",
   "metadata": {
    "vscode": {
     "languageId": "plaintext"
    }
   },
   "source": [
    "## 1. Iterating trials\n",
    "\n",
    "\n",
    "| Code                                         | Description                                                          |\n",
    "| ---                                          | ---                                                                  |\n",
    "| `for letter in [\"a\", \"b\", \"c\"]:` <br> &nbsp;&nbsp;&nbsp;&nbsp; `print(letter)` | Print every `letter` in the list `[\"a\", \"b\", \"c\"]`|\n",
    "| `for i in range(5):` <br> &nbsp;&nbsp;&nbsp;&nbsp; `print(i)` | Print the numbers 0 through 4|\n",
    "| `for i in range(2, 7):` <br> &nbsp;&nbsp;&nbsp;&nbsp; `print(i)` | Print the numbers 2 through 6|\n",
    "| `for i in range(1, 10, 2):` <br> &nbsp;&nbsp;&nbsp;&nbsp; `print(i)` | Print the numbers 2 through 6|\n",
    "| `for x_i in x:` <br> &nbsp;&nbsp;&nbsp;&nbsp; `print(x_i)` | Print every element `x_i` in the collection `x`|\n"
   ]
  },
  {
   "cell_type": "code",
   "execution_count": 4,
   "metadata": {},
   "outputs": [
    {
     "data": {
      "text/plain": [
       "[0, 1, 4, 9, 16, 25, 36, 49, 64, 81]"
      ]
     },
     "execution_count": 4,
     "metadata": {},
     "output_type": "execute_result"
    }
   ],
   "source": [
    "[i**2 for i in range(10)]\n"
   ]
  },
  {
   "cell_type": "code",
   "execution_count": 1,
   "metadata": {},
   "outputs": [
    {
     "name": "stdout",
     "output_type": "stream",
     "text": [
      "1\n",
      "3\n",
      "5\n",
      "7\n",
      "9\n"
     ]
    }
   ],
   "source": [
    "for i in range(1, 10, 2):\n",
    "    print(i)"
   ]
  },
  {
   "cell_type": "code",
   "execution_count": 1,
   "metadata": {},
   "outputs": [],
   "source": [
    "import random\n",
    "import pandas as pd"
   ]
  },
  {
   "cell_type": "code",
   "execution_count": null,
   "metadata": {},
   "outputs": [],
   "source": [
    "# Print out the each animal ID in a loop\n",
    "animal_ids = [\"23\", \"59\", \"145\"]\n",
    "\n",
    "# Solution\n",
    "for animal_id in animal_ids:\n",
    "    print(animal_id)"
   ]
  },
  {
   "cell_type": "code",
   "execution_count": null,
   "metadata": {},
   "outputs": [],
   "source": [
    "# Repeat the process above and add a counter variable that starts at 0 and adds one on every iteration of the loop.\n",
    "# Print the value of the counter together with the animal ID.\n",
    "\n",
    "# Solution\n",
    "count = 0\n",
    "for animal_id in animal_ids:\n",
    "    count += 1\n",
    "    print(animal_id)\n",
    "    print(count)"
   ]
  },
  {
   "cell_type": "code",
   "execution_count": null,
   "metadata": {},
   "outputs": [],
   "source": [
    "# Write a loop that prints out \"This is trial n\" for all number n between 0 and 100\n",
    "\n",
    "for i_trial in range(100):\n",
    "    print(\"This is trial \" + str(i_trial)) "
   ]
  },
  {
   "cell_type": "code",
   "execution_count": null,
   "metadata": {},
   "outputs": [],
   "source": [
    "# Write a loop that prints out \"This is trial n\" for all number n between 1 and 50.\n",
    "# Make sure the number 50 is included\n",
    "\n",
    "for i_trial in range(1, 51):\n",
    "    print(\"This is trial \" + str(i_trial)) "
   ]
  },
  {
   "cell_type": "code",
   "execution_count": null,
   "metadata": {},
   "outputs": [
    {
     "name": "stdout",
     "output_type": "stream",
     "text": [
      "Animal23\n",
      "This is trial 1\n",
      "This is trial 2\n",
      "This is trial 3\n",
      "This is trial 4\n",
      "This is trial 5\n",
      "This is trial 6\n",
      "This is trial 7\n",
      "This is trial 8\n",
      "This is trial 9\n",
      "This is trial 10\n",
      "Animal59\n",
      "This is trial 1\n",
      "This is trial 2\n",
      "This is trial 3\n",
      "This is trial 4\n",
      "This is trial 5\n",
      "This is trial 6\n",
      "This is trial 7\n",
      "This is trial 8\n",
      "This is trial 9\n",
      "This is trial 10\n",
      "Animal145\n",
      "This is trial 1\n",
      "This is trial 2\n",
      "This is trial 3\n",
      "This is trial 4\n",
      "This is trial 5\n",
      "This is trial 6\n",
      "This is trial 7\n",
      "This is trial 8\n",
      "This is trial 9\n",
      "This is trial 10\n"
     ]
    }
   ],
   "source": [
    "# Use two nested loops to print out all trials for every block. On each iteration print\n",
    "# \"This is block b trial t\" where b and t are the number of the respective block and trial\n",
    "\n",
    "blocks = range(1, 4)\n",
    "trials = range(1, 11)\n",
    "\n",
    "# Solution\n",
    "for animal_id in animal_ids:\n",
    "    print(\"Animal\" + str(animal_id))\n",
    "    for i_trial in trials:\n",
    "        print(\"This is trial \" + str(i_trial))"
   ]
  },
  {
   "cell_type": "code",
   "execution_count": null,
   "metadata": {},
   "outputs": [],
   "source": [
    "# Write a loop that prints out each condition in the list an the number of the trial\n",
    "conditions = [\"a\", \"c\", \"b\", \"a\", \"a\", \"c\"]\n",
    "\n",
    "# Solution\n",
    "for i_c, condition in enumerate(conditions):\n",
    "    print(\"This is trial \" + str(i_c + 1)+ \" with condition \" + condition)"
   ]
  },
  {
   "cell_type": "code",
   "execution_count": null,
   "metadata": {},
   "outputs": [],
   "source": [
    "# Write a loop that prints \"Play frequency f with intensity i\" where f and i are the elements in the lists below\n",
    "\n",
    "frequencies = [600, 1000, 600, 1000]\n",
    "intensities = [70, 70, 65, 65]\n",
    "\n",
    "for f, i in zip(frequencies, intensities):\n",
    "    print(\"Play frequency \" + str(i) + \" with intensity \" + str(i))\n"
   ]
  },
  {
   "cell_type": "code",
   "execution_count": 3,
   "metadata": {},
   "outputs": [
    {
     "name": "stdout",
     "output_type": "stream",
     "text": [
      "[0.5612304478240929, 0.973466869858606, 0.9598158248515753, 0.981435621006662, 0.9107438027289283, 0.5325311061221163, 0.9140584416430001, 0.36157889935482634, 0.05746323450727109, 0.2683661373042341]\n"
     ]
    }
   ],
   "source": [
    "# create an empty list and append the reaction time to that list on every trial. At the end, print the list of reaction times\n",
    "\n",
    "for i_trial in range(10):\n",
    "    reaction_time = random.random()\n",
    "\n",
    "# Solution\n",
    "reaction_times = []\n",
    "for i_trial in range(10):\n",
    "    reaction_time = random.random()\n",
    "    reaction_times.append(reaction_time)\n",
    "print(reaction_times)\n"
   ]
  },
  {
   "cell_type": "code",
   "execution_count": null,
   "metadata": {},
   "outputs": [],
   "source": [
    "# Re-write the loop above in a single line using list comprehension\n",
    "\n",
    "# Solution\n",
    "reaction_times = [random.random() for i in range(10)]"
   ]
  },
  {
   "cell_type": "markdown",
   "metadata": {},
   "source": [
    "## 2. Storing Data in Pandas\n",
    "\n",
    "| Code                                         | Description                                                          |\n",
    "| ---                                          | ---                                                                  |\n",
    "| `[1,2,3] * n`                                | Multiplying a list by an integer `n` will repeat the list n times    |\n",
    "| `df = pd.DataFrame({\"x\":[1,2,3], \"y\":None})` | Create a data frame from a dictionary (the \"y\" column will be empty) |\n",
    "| `df[\"x\"]`                                    | Get the column \"x\"                                                   |\n",
    "| `df.iloc[0, \"x\"]`                            | Get the data frame value in the 1st row in the column \"x\"            |\n",
    "| `df.to_csv(\"table.csv\")`                     | Write the data frame to a file called \"table.csv\"                    |\n",
    "| `for i in df.index:`                         | Iterates the indices (i.e. row numbers) of the data frame            |"
   ]
  },
  {
   "cell_type": "code",
   "execution_count": null,
   "metadata": {},
   "outputs": [],
   "source": [
    "# Create a data frame from this dictionary and print out the first 3 rows.\n",
    "# Try this with and without passing the `trial_nr` as `index`.\n",
    "trials = {\"frequency\": [1000, 800, 1200, 1000, 1200], \"intensity\": [70, 65, 65, 60, 60], \"response\": None}\n",
    "trial_nr = [1, 2, 3, 4, 5]\n",
    "\n",
    "# Solution\n",
    "df = pd.DataFrame(data=trials)\n",
    "df.head(3)\n",
    "df = pd.DataFrame(data=trials, index=trial_nr)\n",
    "df.head(3)"
   ]
  },
  {
   "cell_type": "code",
   "execution_count": null,
   "metadata": {},
   "outputs": [],
   "source": [
    "# create a data frame that for the conditions and durations defined below. \n",
    "# Save the data frame to a csv file called \"trial_durations.csv\".\n",
    "# Try saying it with and without the index and open the respective files in your text editor.\n",
    "# How do they differ?\n",
    "condition = [\"a\", \"b\", \"a\", \"a\", \"c\"]\n",
    "duration = [0.5, 0.6, 0.3, 0.5, 0.6]\n",
    "\n",
    "# Solution\n",
    "df = pd.DataFrame(data={\"condition\":condition, \"duration\":duration})\n",
    "df.to_csv(\"trial_durations.csv\", index=True)\n",
    "df.to_csv(\"trial_durations.csv\", index=False)"
   ]
  },
  {
   "cell_type": "code",
   "execution_count": 36,
   "metadata": {},
   "outputs": [],
   "source": [
    "# In the data frame below, where the `index` represents the trial number, print the `condition` of the 3rd trial.\n",
    "# Set the condition of the last trial to 2\n",
    "\n",
    "df = pd.DataFrame(data={\"is_omitted\": [0, 0, 1, 0, 1, 0], \"condition\":[1, 1, 1, 2, 2, 3]}, index=[1, 2, 3, 4, 5, 6])\n",
    "\n",
    "# Solution\n",
    "print(df.loc[3, \"condition\"])\n",
    "print(df.iloc[2][\"condition\"])  # alternatively\n",
    "df.loc[6, \"condition\"] = 2"
   ]
  },
  {
   "cell_type": "code",
   "execution_count": null,
   "metadata": {},
   "outputs": [],
   "source": [
    "# Append the variables `is_omitted` and `condition` as a new row to the data frame. Print the new, extended, data frame\n",
    "df = pd.DataFrame(data={\"is_omitted\": [0, 0, 1, 0, 1, 0], \"condition\":[1, 1, 1, 2, 2, 3]})\n",
    "is_omitted = 0\n",
    "condition = 3\n",
    "\n",
    "# Solution\n",
    "new_row = pd.DataFrame({\"is_omitted\": [is_omitted], \"condition\":[condition]})\n",
    "df = pd.concat([df, new_row])\n",
    "print(df)"
   ]
  },
  {
   "cell_type": "code",
   "execution_count": null,
   "metadata": {},
   "outputs": [],
   "source": [
    "# Use a for loop to print \"Play frequency f with intensity i\", for the frequency f and intensity i in each row of the data frame below\n",
    "trials = pd.DataFrame({\"frequency\": [800, 1000, 800, 1200, 1000, 1200], \"intensity\": [70, 70, 65, 65, 60, 60]})\n",
    "\n",
    "# Solution\n",
    "for i in trials.index:\n",
    "    f = trials.iloc[i].frequency\n",
    "    i = trials.iloc[i].intensity\n",
    "    print(\"Play frequency \" + str(f) + \" with intensity \" + str(i))"
   ]
  },
  {
   "cell_type": "code",
   "execution_count": null,
   "metadata": {},
   "outputs": [],
   "source": [
    "# Loop through the data frame defined below. \n",
    "# On every iteration, generate a random number and write it to the respective row within the `reaction_time` column.\n",
    "# Print the dataframe with the reaction times.\n",
    "\n",
    "trials = pd.DataFrame({\n",
    "    \"frequency\": [800, 1000, 800, 1200, 1000, 1200],\n",
    "    \"intensity\": [70, 70, 65, 65, 60, 60],\n",
    "    \"reaction_time\": None})\n",
    "\n",
    "# Solution\n",
    "for i in trials.index:\n",
    "    trials.loc[i, \"reaction_times\"] = random.random()\n",
    "print(trials)"
   ]
  },
  {
   "cell_type": "code",
   "execution_count": null,
   "metadata": {},
   "outputs": [],
   "source": [
    "# Repeat the `conditions` so that the resulting list is of length `n_trials`.\n",
    "# Put that list into a data frame with an empty colum for responses.\n",
    "# Shuffle the data frame so the conditions are in random order and write it to a .csv file.\n",
    "# View the that file in you editor\n",
    "\n",
    "conditions = [\"a\", \"b\", \"c\"]\n",
    "n_trials = 12\n",
    "\n",
    "# Solution\n",
    "n_repeat = int(n_trials/len(conditions))\n",
    "df = pd.DataFrame({\"condition\":conditions*n_repeat, \"response\": None})\n",
    "df = df.sample(frac=1, replace=False)\n",
    "df.to_csv(\"randomized_trials.csv\", index=False)"
   ]
  },
  {
   "cell_type": "markdown",
   "metadata": {},
   "source": [
    "## 3. Conditional Expressions"
   ]
  },
  {
   "cell_type": "code",
   "execution_count": null,
   "metadata": {},
   "outputs": [],
   "source": [
    "# In the code below, what happend when x is an integer, a list of integers or a dictionary?\n",
    "\n",
    "x = \n",
    "n = 2\n",
    "\n",
    "if isinstance(x, int):\n",
    "    result = x * n\n",
    "elif isinstance(x, list):\n",
    "    results = [x_i * n for x_i in x]\n",
    "else:\n",
    "    print(\"ERROR! Data type is not supported!\")\n",
    "print(result)\n",
    "\n",
    "# Solution\n",
    "# int and list of int gets multiplied by n, everything else throws an error"
   ]
  },
  {
   "cell_type": "code",
   "execution_count": null,
   "metadata": {},
   "outputs": [],
   "source": [
    "# In the loop below, write an if statement that prints \"beep\" whenever `play_tone` is 1\n",
    "\n",
    "play_tone = [0, 1, 1, 0, 0, 0, 1]\n",
    "for p in play_tone:\n",
    "    print(p)\n",
    "\n",
    "# Solution\n",
    "play_tone = [0, 1, 1, 0, 0, 0, 1]\n",
    "for p in play_tone:\n",
    "    if p:\n",
    "        print(\"beep\")\n",
    "    print(p)"
   ]
  },
  {
   "cell_type": "code",
   "execution_count": null,
   "metadata": {},
   "outputs": [
    {
     "name": "stdout",
     "output_type": "stream",
     "text": [
      "This is iteration 1\n",
      "This is iteration 2\n",
      "This is iteration 3\n",
      "This is iteration 4\n",
      "This is iteration 5\n"
     ]
    }
   ],
   "source": [
    "# Modify the while loop below so that it counts to 10.\n",
    "# What happens if you remove the line that adds 1 to `count`\n",
    "\n",
    "max_count = 5\n",
    "count = 0\n",
    "\n",
    "while count < max_count:\n",
    "    count += 1\n",
    "    print(\"This is iteration \" + str(count))\n"
   ]
  }
 ],
 "metadata": {
  "kernelspec": {
   "display_name": "psychopy",
   "language": "python",
   "name": "python3"
  },
  "language_info": {
   "codemirror_mode": {
    "name": "ipython",
    "version": 3
   },
   "file_extension": ".py",
   "mimetype": "text/x-python",
   "name": "python",
   "nbconvert_exporter": "python",
   "pygments_lexer": "ipython3",
   "version": "3.9.20"
  }
 },
 "nbformat": 4,
 "nbformat_minor": 2
}
