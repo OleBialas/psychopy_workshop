{
 "cells": [
  {
   "cell_type": "markdown",
   "metadata": {},
   "source": [
    "## 1. Data Types and Variables\n",
    "\n",
    "### Reference Table\n",
    "| Code                | Description                                                      |\n",
    "| ---                 | ---                                                              |\n",
    "| `x = 3`             | Assign the integer number `3` to the variable `x`                    |\n",
    "| `x = 3.14`          | Assign the floating number `3.14` to the variable `x`                |\n",
    "| `x = \"hi\"`          | Assign the string `\"hi\"` to the variable `x`                         |\n",
    "| `x = True`          | Assign the boolean value `True` to the variable `x`                  |\n",
    "| `type(x)`           | Get the data type of variable `x`                                  |\n",
    "| `int(x)`, `float(x)`, `str(x)`, `bool(x)`          | Convert the variable `x` to an integer, float, string, boolean  |"
   ]
  },
  {
   "cell_type": "code",
   "execution_count": null,
   "metadata": {},
   "outputs": [],
   "source": [
    "# Determine the type of the variable `x`\n",
    "x = 123\n",
    "\n",
    "# Solution\n",
    "type(x)"
   ]
  },
  {
   "cell_type": "code",
   "execution_count": null,
   "metadata": {},
   "outputs": [],
   "source": [
    "# Determine the type of the variable `x``\n",
    "x = True\n",
    "\n",
    "# Solution\n",
    "type(x)"
   ]
  },
  {
   "cell_type": "code",
   "execution_count": null,
   "metadata": {},
   "outputs": [],
   "source": [
    "# Convert the variable `x` to a float\n",
    "x = 13\n",
    "\n",
    "# Solution\n",
    "float(x)"
   ]
  },
  {
   "cell_type": "code",
   "execution_count": null,
   "metadata": {},
   "outputs": [],
   "source": [
    "# Convert the variable `x` to a string \n",
    "x = 0.75\n",
    "\n",
    "# Solution\n",
    "str(x)"
   ]
  },
  {
   "cell_type": "code",
   "execution_count": 15,
   "metadata": {},
   "outputs": [
    {
     "data": {
      "text/plain": [
       "False"
      ]
     },
     "execution_count": 15,
     "metadata": {},
     "output_type": "execute_result"
    }
   ],
   "source": [
    "# Convert the variable `x` to a boolean\n",
    "\n",
    "x = \"\"\n",
    "\n",
    "# Solution\n",
    "bool(x)"
   ]
  },
  {
   "cell_type": "code",
   "execution_count": 6,
   "metadata": {},
   "outputs": [
    {
     "data": {
      "text/plain": [
       "True"
      ]
     },
     "execution_count": 6,
     "metadata": {},
     "output_type": "execute_result"
    }
   ],
   "source": [
    "# Create a variable and assign it the boolean value False. Then convert that variable to an integer\n",
    "\n",
    "# Solution\n",
    "x = False\n",
    "int(x)"
   ]
  },
  {
   "cell_type": "code",
   "execution_count": 16,
   "metadata": {},
   "outputs": [
    {
     "data": {
      "text/plain": [
       "'0.001'"
      ]
     },
     "execution_count": 16,
     "metadata": {},
     "output_type": "execute_result"
    }
   ],
   "source": [
    "# Create a variable and assign it the float value 0.001. Then convert that variable to a string\n",
    "\n",
    "# Solution\n",
    "x = 0.001\n",
    "str(x)"
   ]
  },
  {
   "cell_type": "code",
   "execution_count": 9,
   "metadata": {},
   "outputs": [
    {
     "data": {
      "text/plain": [
       "False"
      ]
     },
     "execution_count": 9,
     "metadata": {},
     "output_type": "execute_result"
    }
   ],
   "source": [
    "# Create a variable and assign it the string value \"Hello\". Then convert it to a boolean\n",
    "\n",
    "# Solution\n",
    "x = \"Hello\"\n",
    "bool(x)"
   ]
  },
  {
   "cell_type": "code",
   "execution_count": 1,
   "metadata": {},
   "outputs": [
    {
     "data": {
      "text/plain": [
       "1.0"
      ]
     },
     "execution_count": 1,
     "metadata": {},
     "output_type": "execute_result"
    }
   ],
   "source": [
    "# Convert the variable `x` to an integer and then back to a sting\n",
    "x = 1.3\n",
    "\n",
    "# Solution\n",
    "float(int(x))"
   ]
  },
  {
   "cell_type": "markdown",
   "metadata": {},
   "source": [
    "## 2. Operators\n",
    "\n",
    "### Reference Table\n",
    "\n",
    "|Code|Description|\n",
    "|---|---|\n",
    "|`x+y`,`x-y`,`x/y`, `x*y` | Add, subtract, divide, multiply two numbers `x` and `y` |\n",
    "| `x<y`, `x>y`, `x==y`, `x!=y`    | Check whether `x` is smaller, larger, equal to, not equal to `y` |\n",
    "| `x<=y`, `x>=y`          | Check whether `x` is smaller than or equal to, larger than or equal to `y` |\n",
    "| `\"Psycho\"+\"Py\"`         | Concatenate the two strings (result: `\"PsychoPy\"`) |\n",
    "| `\"pew\" * 2`             | Repeat the string two times (result: `\"pewpew\"`) |\n",
    "| `9 ** 2`                | Square the number `9` (result: `81`) |\n",
    "| `7 % 3`                 | Get the remainder of dividing `7` by `3` (result: `1`) |"
   ]
  },
  {
   "cell_type": "code",
   "execution_count": 11,
   "metadata": {},
   "outputs": [
    {
     "data": {
      "text/plain": [
       "float"
      ]
     },
     "execution_count": 11,
     "metadata": {},
     "output_type": "execute_result"
    }
   ],
   "source": [
    "# Add the two variables defined below. What is the data type of the result?\n",
    "\n",
    "x = 3\n",
    "y = 1.2\n",
    "\n",
    "# Solution\n",
    "type(x+y)"
   ]
  },
  {
   "cell_type": "code",
   "execution_count": null,
   "metadata": {},
   "outputs": [],
   "source": [
    "# Calculate the remainder of dividing 13 by 5\n",
    "\n",
    "# Solution\n",
    "13 % 5"
   ]
  },
  {
   "cell_type": "code",
   "execution_count": 12,
   "metadata": {},
   "outputs": [
    {
     "data": {
      "text/plain": [
       "'Hello World!'"
      ]
     },
     "execution_count": 12,
     "metadata": {},
     "output_type": "execute_result"
    }
   ],
   "source": [
    "# Append to the string variable below so the result reads \"Hello World!\"\n",
    "\n",
    "x = \"Hello\"\n",
    "\n",
    "# Solution\n",
    "x + \"World!\""
   ]
  },
  {
   "cell_type": "code",
   "execution_count": 13,
   "metadata": {},
   "outputs": [
    {
     "data": {
      "text/plain": [
       "float"
      ]
     },
     "execution_count": 13,
     "metadata": {},
     "output_type": "execute_result"
    }
   ],
   "source": [
    "# Divide x by y. What is the type of the result?\n",
    "\n",
    "x = 6\n",
    "y = 2\n",
    "\n",
    "# Solution\n",
    "type(x/y)"
   ]
  },
  {
   "cell_type": "code",
   "execution_count": 18,
   "metadata": {},
   "outputs": [
    {
     "data": {
      "text/plain": [
       "True"
      ]
     },
     "execution_count": 18,
     "metadata": {},
     "output_type": "execute_result"
    }
   ],
   "source": [
    "# Test whether x and y are equal\n",
    "x = True\n",
    "y = 1\n",
    "\n",
    "# Solution \n",
    "x == y"
   ]
  },
  {
   "cell_type": "code",
   "execution_count": null,
   "metadata": {},
   "outputs": [
    {
     "data": {
      "text/plain": [
       "False"
      ]
     },
     "execution_count": 57,
     "metadata": {},
     "output_type": "execute_result"
    }
   ],
   "source": [
    "# Which multiplication gives the larger result: 23 times 81 or 44 squared ?\n",
    "\n",
    "# Solution\n",
    "(23*81) > 44**2"
   ]
  },
  {
   "cell_type": "code",
   "execution_count": 25,
   "metadata": {},
   "outputs": [
    {
     "data": {
      "text/plain": [
       "2.875"
      ]
     },
     "execution_count": 25,
     "metadata": {},
     "output_type": "execute_result"
    }
   ],
   "source": [
    "# Divide 23 by the sum of 3 and 5\n",
    "\n",
    "# Solution\n",
    "23 / (3+5)"
   ]
  },
  {
   "cell_type": "code",
   "execution_count": 28,
   "metadata": {},
   "outputs": [
    {
     "data": {
      "text/plain": [
       "True"
      ]
     },
     "execution_count": 28,
     "metadata": {},
     "output_type": "execute_result"
    }
   ],
   "source": [
    "# Which of the two variables below is larger?\n",
    "\n",
    "x = 12 / 3 / 2\n",
    "y = 12 / (3 / 2)\n",
    "\n",
    "# Solution\n",
    "x < y"
   ]
  },
  {
   "cell_type": "code",
   "execution_count": 29,
   "metadata": {},
   "outputs": [
    {
     "data": {
      "text/plain": [
       "'HeHeHe'"
      ]
     },
     "execution_count": 29,
     "metadata": {},
     "output_type": "execute_result"
    }
   ],
   "source": [
    "# Repeat the string below 3 times\n",
    "\n",
    "x = \"He\"\n",
    "\n",
    "# Solution\n",
    "x*3"
   ]
  },
  {
   "cell_type": "code",
   "execution_count": 22,
   "metadata": {},
   "outputs": [
    {
     "data": {
      "text/plain": [
       "False"
      ]
     },
     "execution_count": 22,
     "metadata": {},
     "output_type": "execute_result"
    }
   ],
   "source": [
    "# Which of the two variables below is larger?\n",
    "\n",
    "x = \"a\"\n",
    "y = \"b\"\n",
    "\n",
    "# Solution\n",
    "y > x"
   ]
  },
  {
   "cell_type": "code",
   "execution_count": null,
   "metadata": {},
   "outputs": [
    {
     "data": {
      "text/plain": [
       "56.0"
      ]
     },
     "metadata": {},
     "output_type": "display_data"
    }
   ],
   "source": [
    "# What is the square root of 3136?\n",
    "\n",
    "# Solution\n",
    "3136 ** (1/2)"
   ]
  },
  {
   "cell_type": "code",
   "execution_count": 67,
   "metadata": {},
   "outputs": [
    {
     "data": {
      "text/plain": [
       "False"
      ]
     },
     "execution_count": 67,
     "metadata": {},
     "output_type": "execute_result"
    }
   ],
   "source": [
    "# Check if x can be evenly divided by 3\n",
    "x = 2761\n",
    "\n",
    "# Solution\n",
    "x%3 == 0"
   ]
  },
  {
   "cell_type": "markdown",
   "metadata": {},
   "source": [
    "## 3. Collections\n",
    "\n",
    "### Reference Table\n",
    "|Code|Description|\n",
    "|---|---|\n",
    "| `[7, 1, 4]` | Define a list containing three values |\n",
    "| `(2, 3) + (1)` | Concatenate two tuples (result: `(2,3,1)`)|\n",
    "| `x.sort()` | Sort the list `x` |\n",
    "| `x.append(1)` |  Append the numner `1` to the list `x`|\n",
    "| `tuple(x)`, `list(x)` | Convert x to a list, tuple|\n",
    "| `len(x)` | Get the length (i.e. number of elements in) a tuple or list `x`| \n",
    "| `sum(x)`  | Get the sum of a tuple or list `x` |\n"
   ]
  },
  {
   "cell_type": "code",
   "execution_count": null,
   "metadata": {},
   "outputs": [],
   "source": [
    "# Define a tuple that contains the numbers 1 to 4\n",
    "\n",
    "# Solution\n",
    "x = (1, 2, 3, 4)"
   ]
  },
  {
   "cell_type": "code",
   "execution_count": 63,
   "metadata": {},
   "outputs": [
    {
     "data": {
      "text/plain": [
       "[True, False, False, True]"
      ]
     },
     "execution_count": 63,
     "metadata": {},
     "output_type": "execute_result"
    }
   ],
   "source": [
    "# Concatenate the two lists defined below\n",
    "\n",
    "x = [True, False]\n",
    "y = [False, True]\n",
    "\n",
    "# Solution\n",
    "x + y"
   ]
  },
  {
   "cell_type": "code",
   "execution_count": 72,
   "metadata": {},
   "outputs": [
    {
     "data": {
      "text/plain": [
       "['a', 'h', 't', 'v']"
      ]
     },
     "execution_count": 72,
     "metadata": {},
     "output_type": "execute_result"
    }
   ],
   "source": [
    "# Sort the list defined below\n",
    "x = [\"v\", \"a\", \"t\", \"h\"]\n",
    "\n",
    "# Solution\n",
    "x.sort()\n",
    "x"
   ]
  },
  {
   "cell_type": "code",
   "execution_count": 82,
   "metadata": {},
   "outputs": [
    {
     "data": {
      "text/plain": [
       "[0, 1, 1, 2, 3, 5, 8]"
      ]
     },
     "execution_count": 82,
     "metadata": {},
     "output_type": "execute_result"
    }
   ],
   "source": [
    "# Append the next element of the Fibonnaci sequence to the list x\n",
    "x = [0, 1, 1, 2, 3, 5]\n",
    "\n",
    "# Solution\n",
    "x.append(8)\n",
    "x"
   ]
  },
  {
   "cell_type": "code",
   "execution_count": 84,
   "metadata": {},
   "outputs": [
    {
     "data": {
      "text/plain": [
       "6"
      ]
     },
     "execution_count": 84,
     "metadata": {},
     "output_type": "execute_result"
    }
   ],
   "source": [
    "# Get the last element of x\n",
    "\n",
    "x = (0, 1, 2, 3, 4, 5, 6)\n",
    "\n",
    "# Solution\n",
    "x[-1]\n",
    "x[len(x)-1]"
   ]
  },
  {
   "cell_type": "code",
   "execution_count": null,
   "metadata": {},
   "outputs": [],
   "source": [
    "# What happens if you try to add 1 to the first element of x?\n",
    "\n",
    "x = (0.5, 1.3)\n",
    "\n",
    "# Solution\n",
    "x[1] = x[1]+1"
   ]
  },
  {
   "cell_type": "code",
   "execution_count": 90,
   "metadata": {},
   "outputs": [
    {
     "data": {
      "text/plain": [
       "['b', 'c', 'd', 'e']"
      ]
     },
     "execution_count": 90,
     "metadata": {},
     "output_type": "execute_result"
    }
   ],
   "source": [
    "# Get the 2nd to 5th letter of the alphabet\n",
    "x = ['a', 'b', 'c', 'd', 'e', 'f', 'g', 'h', 'i', 'j', 'k', 'l', 'm', 'n', 'o', 'p', 'q', 'r', 's', 't', 'u', 'v', 'w', 'x', 'y', 'z']\n",
    "\n",
    "# Solution\n",
    "x[1:5]"
   ]
  },
  {
   "cell_type": "code",
   "execution_count": 73,
   "metadata": {},
   "outputs": [
    {
     "data": {
      "text/plain": [
       "[0, 0, 0, 0, 0, 0, 0, 0, 0, 0]"
      ]
     },
     "execution_count": 73,
     "metadata": {},
     "output_type": "execute_result"
    }
   ],
   "source": [
    "# Repeat the list below to create a list of 10 zeros\n",
    "x = [0, 0]\n",
    "\n",
    "# Solution\n",
    "x * 5"
   ]
  },
  {
   "cell_type": "code",
   "execution_count": 80,
   "metadata": {},
   "outputs": [
    {
     "data": {
      "text/plain": [
       "True"
      ]
     },
     "execution_count": 80,
     "metadata": {},
     "output_type": "execute_result"
    }
   ],
   "source": [
    "# Is the list x longer than the list y?\n",
    "\n",
    "x = [4, 2, 5, 6, 7] * 7\n",
    "y = [1, 3, 4] * 11\n",
    "\n",
    "# Solution\n",
    "len(x) > len(y)"
   ]
  },
  {
   "cell_type": "code",
   "execution_count": null,
   "metadata": {},
   "outputs": [],
   "source": [
    "# How many elements in this list are True and how many are False\n",
    "x = [True, False, False, True, False, True, False, True, False, True]\n",
    "#TODO: exercise that shows that True can be summed\n",
    "\n",
    "# Solution\n",
    "sum(x)  # number of True elements\n",
    "len(x) - sum(x) # number of False elements"
   ]
  },
  {
   "cell_type": "code",
   "execution_count": 77,
   "metadata": {},
   "outputs": [
    {
     "data": {
      "text/plain": [
       "True"
      ]
     },
     "execution_count": 77,
     "metadata": {},
     "output_type": "execute_result"
    }
   ],
   "source": [
    "# Determine if the lists x and y contain the same elements irrespective of their order\n",
    "\n",
    "x = [6, 3, 8, 7, 9, 1, 2]\n",
    "y = [7, 2, 8, 9, 1, 3, 6]\n",
    "\n",
    "# Solution\n",
    "x.sort()\n",
    "y.sort()\n",
    "x==y"
   ]
  },
  {
   "cell_type": "markdown",
   "metadata": {},
   "source": [
    "## 4. BONUS: Puzzles and Curiosities "
   ]
  },
  {
   "cell_type": "code",
   "execution_count": 64,
   "metadata": {},
   "outputs": [
    {
     "data": {
      "text/plain": [
       "True"
      ]
     },
     "execution_count": 64,
     "metadata": {},
     "output_type": "execute_result"
    }
   ],
   "source": [
    "# Convert the variable `x` to a string and then back to a boolean\n",
    "x = False\n",
    "\n",
    "# Solution\n",
    "bool(str(x))"
   ]
  },
  {
   "cell_type": "code",
   "execution_count": 43,
   "metadata": {},
   "outputs": [
    {
     "data": {
      "text/plain": [
       "99999999999999997704951326524533662844684271992415000612999597473199345218078991130326129448151154688"
      ]
     },
     "execution_count": 43,
     "metadata": {},
     "output_type": "execute_result"
    }
   ],
   "source": [
    "# Convert the variable `x` which has the value 10^100 to an integer\n",
    "\n",
    "x = 10e100\n",
    "\n",
    "# Solution\n",
    "int(x)"
   ]
  },
  {
   "cell_type": "code",
   "execution_count": 66,
   "metadata": {},
   "outputs": [
    {
     "data": {
      "text/plain": [
       "1"
      ]
     },
     "execution_count": 66,
     "metadata": {},
     "output_type": "execute_result"
    }
   ],
   "source": [
    "# Extract the number 1 from the list defined below\n",
    "x = [[[3]], [[1]], [[2]]]\n",
    "\n",
    "# Solution\n",
    "x[1][0][0]"
   ]
  },
  {
   "cell_type": "code",
   "execution_count": null,
   "metadata": {},
   "outputs": [
    {
     "name": "stdout",
     "output_type": "stream",
     "text": [
      "(0, 1)\n"
     ]
    }
   ],
   "source": [
    "# Add 1 to the second element of the tuple defined below so the result is (0, 1)\n",
    "\n",
    "x = (0, 0)\n",
    "\n",
    "# Solution\n",
    "x = list(x)\n",
    "x[1] += 1\n",
    "x = tuple(x)\n",
    "print(x)"
   ]
  },
  {
   "cell_type": "code",
   "execution_count": null,
   "metadata": {},
   "outputs": [],
   "source": [
    "# Rename the variable x. Try including special characters and number. Which names are allowed and which aren't?\n",
    "x = 1\n",
    "\n",
    "# Solution\n",
    "# Lower and upper case letters, numbers (not at the start) and underscore are allowed\n"
   ]
  }
 ],
 "metadata": {
  "kernelspec": {
   "display_name": "psychopy",
   "language": "python",
   "name": "python3"
  },
  "language_info": {
   "codemirror_mode": {
    "name": "ipython",
    "version": 3
   },
   "file_extension": ".py",
   "mimetype": "text/x-python",
   "name": "python",
   "nbconvert_exporter": "python",
   "pygments_lexer": "ipython3",
   "version": "3.9.20"
  }
 },
 "nbformat": 4,
 "nbformat_minor": 2
}
