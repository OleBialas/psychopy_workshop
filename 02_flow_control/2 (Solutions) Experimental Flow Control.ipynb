{
 "cells": [
  {
   "cell_type": "markdown",
   "metadata": {
    "vscode": {
     "languageId": "plaintext"
    }
   },
   "source": [
    "# II. Experimental Flow Control\n",
    "\n",
    "The structure of experiments has a certain flow: specific components must be executed repetitively a certain number of times and different things may have to happen depending on the state of the experiment. For example, an experiment may consist of multiple trials and depending on the response of the animal, we may or may not want to give a reward on any given trial.\n",
    "In this notebook we are going to explore the fundamental building blocks that allow us to translate this flow into code: loops and conditional expressions."
   ]
  },
  {
   "cell_type": "markdown",
   "metadata": {
    "vscode": {
     "languageId": "plaintext"
    }
   },
   "source": [
    "## 1. Iterating trials\n",
    "\n",
    "Many programs contain components that must be repeated a certain number of times, like trials in experiments.\n",
    "`for` loops allow us to do exactly - they repeat code `for` a certain number of times.\n",
    "They work on sequences of data, like lists, pull out one value after another and then do something with that value.\n",
    "This is very close to our everyday language: if you are throwing a party and inviting your friends, you are essentially executing a loop:\n",
    "`for` every person in the list of people I know: invite that person to the party.\n",
    "\n",
    "\n",
    "| Code                                         | Description                                                          |\n",
    "| ---                                          | ---                                                                  |\n",
    "| `for letter in [\"a\", \"b\", \"c\"]:` <br> &nbsp;&nbsp;&nbsp;&nbsp; `print(letter)` | Print every `letter` in the list `[\"a\", \"b\", \"c\"]`|\n",
    "| `for i in range(5):` <br> &nbsp;&nbsp;&nbsp;&nbsp; `print(i)` | Print every number `i` between 0 and 5 (not including 5)|\n",
    "| `for i in range(2, 7):` <br> &nbsp;&nbsp;&nbsp;&nbsp; `print(i)` | Print every number `i` between 2 and 7 (not including 7)|\n",
    "| `for i in range(1, 10, 2):` <br> &nbsp;&nbsp;&nbsp;&nbsp; `print(i)` | Print eververy **second** number `i` between 1 and 10 (not including 10)|\n",
    "| `for x_i in x:` <br> &nbsp;&nbsp;&nbsp;&nbsp; `print(x_i)` | Print every element `x_i` in the collection `x`|\n"
   ]
  },
  {
   "cell_type": "markdown",
   "metadata": {},
   "source": [
    "**Exercise**: Write a for loop that prints the numbers **0** to **9**."
   ]
  },
  {
   "cell_type": "code",
   "execution_count": 35,
   "metadata": {},
   "outputs": [
    {
     "name": "stdout",
     "output_type": "stream",
     "text": [
      "0\n",
      "1\n",
      "2\n",
      "3\n",
      "4\n",
      "5\n",
      "6\n",
      "7\n",
      "8\n",
      "9\n"
     ]
    }
   ],
   "source": [
    "# Solution\n",
    "for i in range(10):\n",
    "    print(i) "
   ]
  },
  {
   "cell_type": "markdown",
   "metadata": {},
   "source": [
    "**Exercise**: Write a for loop that prints the numbers **5** to **10**."
   ]
  },
  {
   "cell_type": "code",
   "execution_count": 36,
   "metadata": {},
   "outputs": [
    {
     "name": "stdout",
     "output_type": "stream",
     "text": [
      "5\n",
      "6\n",
      "7\n",
      "8\n",
      "9\n",
      "10\n"
     ]
    }
   ],
   "source": [
    "# Solution\n",
    "for i in range(5, 11):\n",
    "    print(i) "
   ]
  },
  {
   "cell_type": "markdown",
   "metadata": {},
   "source": [
    "**Excercise**: Write a for loop that counts from **0** to **100** in steps of **10**."
   ]
  },
  {
   "cell_type": "code",
   "execution_count": 37,
   "metadata": {},
   "outputs": [
    {
     "name": "stdout",
     "output_type": "stream",
     "text": [
      "10\n",
      "20\n",
      "30\n",
      "40\n",
      "50\n",
      "60\n",
      "70\n",
      "80\n",
      "90\n",
      "100\n"
     ]
    }
   ],
   "source": [
    "# Solution\n",
    "for i in range(10, 110, 10):\n",
    "    print(i)"
   ]
  },
  {
   "cell_type": "markdown",
   "metadata": {},
   "source": [
    "**Exercise**: Use a loop to print all `fruits` and `colors`, for example `banana is yellow\"`."
   ]
  },
  {
   "cell_type": "code",
   "execution_count": 38,
   "metadata": {},
   "outputs": [],
   "source": [
    "fruits = [\"banana\", \"orange\", \"cherry\"]\n",
    "colors= [\"yellow\", \"orange\", \"green\"];"
   ]
  },
  {
   "cell_type": "code",
   "execution_count": 39,
   "metadata": {},
   "outputs": [
    {
     "name": "stdout",
     "output_type": "stream",
     "text": [
      "banana is yellow\n",
      "orange is orange\n",
      "cherry is green\n"
     ]
    }
   ],
   "source": [
    "for i in range(len(fruits)):\n",
    "    print(fruits[i] + \" is \" + colors[i])"
   ]
  },
  {
   "cell_type": "markdown",
   "metadata": {},
   "source": [
    "**Exercise**: Write a loop that prints the square of each element in `numbers`.\n"
   ]
  },
  {
   "cell_type": "code",
   "execution_count": 40,
   "metadata": {},
   "outputs": [],
   "source": [
    "numbers = [4, 13, 56, 676]"
   ]
  },
  {
   "cell_type": "code",
   "execution_count": 41,
   "metadata": {},
   "outputs": [
    {
     "name": "stdout",
     "output_type": "stream",
     "text": [
      "16\n",
      "169\n",
      "3136\n",
      "456976\n"
     ]
    }
   ],
   "source": [
    "# Solution\n",
    "for n in numbers:\n",
    "    print(n**2)"
   ]
  },
  {
   "cell_type": "markdown",
   "metadata": {},
   "source": [
    "**Exercise**: Write a loop that print out `\"Run experiment for animal n\"` for each animal id in the list below."
   ]
  },
  {
   "cell_type": "code",
   "execution_count": 42,
   "metadata": {},
   "outputs": [],
   "source": [
    "animal_ids = [\"m23\", \"m59\", \"m145\"]"
   ]
  },
  {
   "cell_type": "code",
   "execution_count": 43,
   "metadata": {},
   "outputs": [
    {
     "name": "stdout",
     "output_type": "stream",
     "text": [
      "Run experiment for m23\n",
      "Run experiment for m59\n",
      "Run experiment for m145\n"
     ]
    }
   ],
   "source": [
    "# Solution\n",
    "for a in animal_ids:\n",
    "    print(\"Run experiment for \" + str(a))"
   ]
  },
  {
   "cell_type": "markdown",
   "metadata": {},
   "source": [
    "**Excercise**: Use a `for` loop within another `for` loop to print `\"This is block b\"` for each block in `blocks` and <br>`\"This is trial t\"` for each t in `trials`."
   ]
  },
  {
   "cell_type": "code",
   "execution_count": 44,
   "metadata": {},
   "outputs": [],
   "source": [
    "blocks = [1, 2, 3]\n",
    "trials = [1, 2, 3, 4, 5, 6, 7, 8 , 9 ,10]"
   ]
  },
  {
   "cell_type": "code",
   "execution_count": 45,
   "metadata": {},
   "outputs": [
    {
     "name": "stdout",
     "output_type": "stream",
     "text": [
      "Block1\n",
      "This is trial 1\n",
      "This is trial 2\n",
      "This is trial 3\n",
      "This is trial 4\n",
      "This is trial 5\n",
      "This is trial 6\n",
      "This is trial 7\n",
      "This is trial 8\n",
      "This is trial 9\n",
      "This is trial 10\n",
      "Block2\n",
      "This is trial 1\n",
      "This is trial 2\n",
      "This is trial 3\n",
      "This is trial 4\n",
      "This is trial 5\n",
      "This is trial 6\n",
      "This is trial 7\n",
      "This is trial 8\n",
      "This is trial 9\n",
      "This is trial 10\n",
      "Block3\n",
      "This is trial 1\n",
      "This is trial 2\n",
      "This is trial 3\n",
      "This is trial 4\n",
      "This is trial 5\n",
      "This is trial 6\n",
      "This is trial 7\n",
      "This is trial 8\n",
      "This is trial 9\n",
      "This is trial 10\n"
     ]
    }
   ],
   "source": [
    "# Solution\n",
    "for block in blocks:\n",
    "    print(\"Block\" + str(block))\n",
    "    for trial in trials:\n",
    "        print(\"This is trial \" + str(trial))"
   ]
  },
  {
   "cell_type": "markdown",
   "metadata": {},
   "source": [
    "## 2. Conditional Expressions\n",
    "\n",
    "Another key component are conditional expressions. They allow us to write programs that behave differently under different circumstances.\n",
    "For example, under certain conditions in an experiment, you may want to give a reward or increase the difficulty of the task.\n",
    "An `if` statment can be accompanied by an `else` statement that tells the program what to do in case the `if` condition is not `True`.\n",
    "Additionally, the statement can have multiple `elifs`: other conditions that are only checked in case the `if` condition is not `True`.\n",
    "We could incorporate the `if` statement in our everyday example from the previous section and say:\n",
    "`for` every person in the list of people I know, `if` that person is a friend, invite that person to the party.\n",
    "\n",
    "\n",
    "### Reference Table\n",
    "\n",
    "|Code|Description|\n",
    "|---|---|\n",
    "|`if x > 0:` <br> &nbsp;&nbsp;&nbsp;&nbsp; `print(\"positive\")` <br> `elif x < 0:` <br> &nbsp;&nbsp;&nbsp;&nbsp; `print(\"negative\")` <br> `else:` <br> &nbsp;&nbsp;&nbsp;&nbsp; `print(\"zero\")`| Prints whether the number `x` is `\"positive\"`, `\"negative\"` or `\"zero\"`|\n",
    "| `x in [1, 2, 3]` | Returns `True` if the value of `x` appears in the list `[1,2,3]`|\n",
    "| `x==1 and y==0` | Returns `True` both expressions are `True` (i.e. `x` is 1 AND `y` is 0)|\n",
    "| `x==1 or y==0` | Returns `True` if AT LEAST one expression is `True` |\n",
    "| `not False` | Invert a boolean value (Returns: `True`) |\n"
   ]
  },
  {
   "cell_type": "markdown",
   "metadata": {},
   "source": [
    "**Exercise**: Assign different values to `x` so that each `print` statement is executed once."
   ]
  },
  {
   "cell_type": "code",
   "execution_count": 46,
   "metadata": {},
   "outputs": [
    {
     "name": "stdout",
     "output_type": "stream",
     "text": [
      "High positive number\n"
     ]
    }
   ],
   "source": [
    "x = 20\n",
    "if x > 10:\n",
    "    print(\"High positive number\")\n",
    "elif x > 0:\n",
    "    print(\"Small positive number\")\n",
    "elif x == 0:\n",
    "    print(\"Zero!\")\n",
    "elif x < -10:\n",
    "    print(\"Large negative number\")\n",
    "else:\n",
    "    print(\"Small negative number\")"
   ]
  },
  {
   "cell_type": "markdown",
   "metadata": {},
   "source": [
    "**Exercise**: Add one `elif` statement to `print(\"This is a string\")` when `x` is a string and one `elif` statement to `print(\"This is a float\")` when `x` is a float. Assign different values to `x` so that each `print` statement is executed once."
   ]
  },
  {
   "cell_type": "code",
   "execution_count": 47,
   "metadata": {},
   "outputs": [
    {
     "name": "stdout",
     "output_type": "stream",
     "text": [
      "I don't know what this is\n"
     ]
    }
   ],
   "source": [
    "x = \"hi\"\n",
    "if isinstance(x, int):\n",
    "    print(\"This is an integer\")\n",
    "else:\n",
    "    print(\"I don't know what this is\")"
   ]
  },
  {
   "cell_type": "code",
   "execution_count": 48,
   "metadata": {},
   "outputs": [
    {
     "name": "stdout",
     "output_type": "stream",
     "text": [
      "This is an integer\n",
      "This is a string\n",
      "This is a float\n",
      "I don't know what this is\n"
     ]
    }
   ],
   "source": [
    "# Solution\n",
    "for x in [1, \"1\", 1.0, []]:\n",
    "    if isinstance(x, int):\n",
    "        print(\"This is an integer\")\n",
    "    elif isinstance(x, str):\n",
    "        print(\"This is a string\")\n",
    "    elif isinstance(x, float):\n",
    "        print(\"This is a float\")\n",
    "    else:\n",
    "        print(\"I don't know what this is\")"
   ]
  },
  {
   "cell_type": "markdown",
   "metadata": {},
   "source": [
    "**Exercise**: Write an `if`/`else` statement that prints `\"long\"` when the list `zeros` is longer than 50 and `\"short\"` when it is shorter."
   ]
  },
  {
   "cell_type": "code",
   "execution_count": 49,
   "metadata": {},
   "outputs": [],
   "source": [
    "zeros = [0, 0, 0] *17;"
   ]
  },
  {
   "cell_type": "code",
   "execution_count": 50,
   "metadata": {},
   "outputs": [
    {
     "name": "stdout",
     "output_type": "stream",
     "text": [
      "This list is long\n"
     ]
    }
   ],
   "source": [
    "# Solution\n",
    "if len(zeros)>50:\n",
    "    print(\"This list is long\")\n",
    "else:\n",
    "    print(\"This list is short\")"
   ]
  },
  {
   "cell_type": "markdown",
   "metadata": {},
   "source": [
    "**Exercise**: Write an if/else statement to print`\"large value\"` if the absolute value of\n",
    "a variable `x` is larger than 10 (i.e. it is greater than 10 OR smaller than -10). Execute this statement while setting x to **5** and **-13**."
   ]
  },
  {
   "cell_type": "code",
   "execution_count": 51,
   "metadata": {},
   "outputs": [
    {
     "name": "stdout",
     "output_type": "stream",
     "text": [
      "This number has a large value\n"
     ]
    }
   ],
   "source": [
    "# Solution\n",
    "x = -13\n",
    "if x > 10 or x < -10:\n",
    "    print(\"This number has a large value\")"
   ]
  },
  {
   "cell_type": "markdown",
   "metadata": {},
   "source": [
    " **Exercise**: Write an `if`/`else` statement that prints out `\"small value\"` if the absolute value of\n",
    " x is smaller than 10 (i.e. it is smaller than 1 AND greater than -1). Execute this statement while setting x to **1.2** and **-0.5**."
   ]
  },
  {
   "cell_type": "code",
   "execution_count": 52,
   "metadata": {},
   "outputs": [],
   "source": [
    "# Solution\n",
    "if x < 1 and x > -1:\n",
    "    print(\"This number has a small value\")\n",
    "# OR\n",
    "if 1 > x > -1:\n",
    "    print(\"This number has a small value\")"
   ]
  },
  {
   "cell_type": "markdown",
   "metadata": {},
   "source": [
    "**Exercise**: Use an `if`/`else` statement within a `for` loop to `print(\"vowel\")` or `print(\"consonant\")` for each letter in the list `letters`."
   ]
  },
  {
   "cell_type": "code",
   "execution_count": 53,
   "metadata": {},
   "outputs": [],
   "source": [
    "letters = ['w', 'q', 'x', 'k', 'g', 'm', 'f', 'i', 'w', 'j', 'h', 't', 'b', 'z', 'u', 'r', 'q', 'b', 'a', 'z']\n",
    "vowels = ['a', 'e', 'i', 'o', 'u'];"
   ]
  },
  {
   "cell_type": "code",
   "execution_count": 54,
   "metadata": {},
   "outputs": [
    {
     "name": "stdout",
     "output_type": "stream",
     "text": [
      "w is a consonant\n",
      "q is a consonant\n",
      "x is a consonant\n",
      "k is a consonant\n",
      "g is a consonant\n",
      "m is a consonant\n",
      "f is a consonant\n",
      "i is a vowel\n",
      "w is a consonant\n",
      "j is a consonant\n",
      "h is a consonant\n",
      "t is a consonant\n",
      "b is a consonant\n",
      "z is a consonant\n",
      "u is a vowel\n",
      "r is a consonant\n",
      "q is a consonant\n",
      "b is a consonant\n",
      "a is a vowel\n",
      "z is a consonant\n"
     ]
    }
   ],
   "source": [
    "# Solution\n",
    "for l in letters:\n",
    "    if l in vowels:\n",
    "        print(l + ' is a vowel')\n",
    "    else:\n",
    "        print(l + ' is a consonant')"
   ]
  },
  {
   "cell_type": "markdown",
   "metadata": {},
   "source": [
    "**Exercise**: Use a `for` loop to iterate the list `play_tone` and an `if`/`else` statement to `print(\"silence...\")` or `print(\"beep\")` depending on whether the value in the list is True."
   ]
  },
  {
   "cell_type": "code",
   "execution_count": 55,
   "metadata": {},
   "outputs": [],
   "source": [
    "play_tone = [True, True, False, True, False, True, True, True];"
   ]
  },
  {
   "cell_type": "code",
   "execution_count": 56,
   "metadata": {},
   "outputs": [
    {
     "name": "stdout",
     "output_type": "stream",
     "text": [
      "beep\n",
      "beep\n",
      "silence...\n",
      "beep\n",
      "silence...\n",
      "beep\n",
      "beep\n",
      "beep\n"
     ]
    }
   ],
   "source": [
    "# Solution\n",
    "for p in play_tone:\n",
    "    if not p:\n",
    "        print(\"silence...\")\n",
    "    else:\n",
    "        print(\"beep\")"
   ]
  },
  {
   "cell_type": "markdown",
   "metadata": {},
   "source": [
    "**Exercise**: Use a `for` loop and `if`/`else` statement to determine whether each number in `numbers` is odd or even"
   ]
  },
  {
   "cell_type": "code",
   "execution_count": 57,
   "metadata": {},
   "outputs": [],
   "source": [
    "numbers = [4, 18, 32, 13, 155, 56]"
   ]
  },
  {
   "cell_type": "code",
   "execution_count": 58,
   "metadata": {},
   "outputs": [
    {
     "name": "stdout",
     "output_type": "stream",
     "text": [
      "4 is even\n",
      "18 is even\n",
      "32 is even\n",
      "13 is odd\n",
      "155 is odd\n",
      "56 is even\n"
     ]
    }
   ],
   "source": [
    "# Solution\n",
    "for n in numbers:\n",
    "    if n%2 == 0:\n",
    "        print(str(n) + \" is even\")\n",
    "    else:\n",
    "        print(str(n) + \" is odd\")"
   ]
  },
  {
   "cell_type": "markdown",
   "metadata": {},
   "source": [
    "## 3. Conditional Loops\n",
    "\n",
    "We can also combine loops and conditionals and create a procedure that is repeatedly executed for as long as a certain condition is `True`.\n",
    "This is exactly what `while` loops do.\n",
    "In an experiment, you may use them to wait while the subject is responding or to keep running the experiment until a certain finishing condition is met.\n",
    "Sticking to our party metaphor, we may say: `while` there are slices of pizza left, `if` you see a guest without pizza, offer them a slice of pizza.\n",
    "\n",
    "### Reference Table\n",
    "\n",
    "|Code | Description                       |\n",
    "| --- | ---                               |\n",
    "|`while x>y`: <br> &nbsp;&nbsp;&nbsp;&nbsp; `print(\"x is bigger\")` | Prints `\"x is bigger\"` as long as `x>y` is `True`|\n",
    "|`break`          | Exit the current loop |\n",
    "| `time.time()`   | Get the current time  |\n",
    "| `time.sleep(1)` | Wait for one second   |"
   ]
  },
  {
   "cell_type": "markdown",
   "metadata": {},
   "source": [
    "**Exercise**: Run This cell. Then, change the value of `max_count` to **500** and run it again. Finally, change `True` to `False` and run a third time."
   ]
  },
  {
   "cell_type": "code",
   "execution_count": 59,
   "metadata": {},
   "outputs": [
    {
     "name": "stdout",
     "output_type": "stream",
     "text": [
      "Ran 100 iterations\n"
     ]
    }
   ],
   "source": [
    "max_count = 100\n",
    "count = 0\n",
    "while True:\n",
    "    count = count+1\n",
    "    if count >= max_count:\n",
    "        break\n",
    "print(\"Ran \" +str(count) +\" iterations\")"
   ]
  },
  {
   "cell_type": "markdown",
   "metadata": {},
   "source": [
    "**Exercise**: Define a variable `n_trials=100` and write a `while` loop that subtracts 1 from `number_of_trials` until it is **0**."
   ]
  },
  {
   "cell_type": "code",
   "execution_count": 60,
   "metadata": {},
   "outputs": [
    {
     "data": {
      "text/plain": [
       "0"
      ]
     },
     "execution_count": 60,
     "metadata": {},
     "output_type": "execute_result"
    }
   ],
   "source": [
    "# Solution\n",
    "number_of_trials = 100\n",
    "while number_of_trials:\n",
    "    number_of_trials -= 1\n",
    "number_of_trials"
   ]
  },
  {
   "cell_type": "markdown",
   "metadata": {},
   "source": [
    "**Exercise**: Define a variable `count=0` and use a `while` loop to add 1 to it as long as it is smaller than **60**."
   ]
  },
  {
   "cell_type": "code",
   "execution_count": 61,
   "metadata": {},
   "outputs": [],
   "source": [
    "# Solution\n",
    "count = 0\n",
    "while count < 60:\n",
    "    count += 1"
   ]
  },
  {
   "cell_type": "markdown",
   "metadata": {},
   "source": [
    "**Exercise**: Write a `while` loop that does the same as the `for` loop defined below."
   ]
  },
  {
   "cell_type": "code",
   "execution_count": 62,
   "metadata": {},
   "outputs": [
    {
     "name": "stdout",
     "output_type": "stream",
     "text": [
      "0\n",
      "1\n",
      "2\n",
      "3\n",
      "4\n",
      "5\n",
      "6\n",
      "7\n",
      "8\n",
      "9\n"
     ]
    }
   ],
   "source": [
    "for i in range(0, 10):\n",
    "    print(i)"
   ]
  },
  {
   "cell_type": "code",
   "execution_count": 63,
   "metadata": {},
   "outputs": [
    {
     "name": "stdout",
     "output_type": "stream",
     "text": [
      "0\n",
      "1\n",
      "2\n",
      "3\n",
      "4\n",
      "5\n",
      "6\n",
      "7\n",
      "8\n",
      "9\n"
     ]
    }
   ],
   "source": [
    "\n",
    "# Solution\n",
    "i=0\n",
    "while i < 10:\n",
    "    print(i)\n",
    "    i = i+1"
   ]
  },
  {
   "cell_type": "markdown",
   "metadata": {},
   "source": [
    "## 4. Advanced Iteration\n",
    "\n",
    "In some cases, we want to keep counting the number of iterations as we use a `for` loop to go through a list.\n",
    "This is what `enumerate()` does: it does not only return the elements in the sequence but also the number of each element in that sequence.\n",
    "Another useful tool is `zip()` which allows us to iterate through multiple sequences at once, for example: experimental conditions and stimulus intensities.\n",
    "\n",
    "### Reference Table\n",
    "|Code | Description |\n",
    "| --- | ---         |\n",
    "| `for x_i, y_i in zip(x, y):` <br> &nbsp;&nbsp;&nbsp;&nbsp; `print(x_i, y_i)` | Prints every element `x_i` in `x` and every element `y_i` in `y`|\n",
    "| `for i, x_i in enumerate(x):` <br> &nbsp;&nbsp;&nbsp;&nbsp; `print(i, x_i)` | Print every element `x_i` and it's index `i` in the list `x`|\n"
   ]
  },
  {
   "cell_type": "markdown",
   "metadata": {},
   "source": [
    "**Exercise**: Write a `for` loop with `zip` that prints each frequency and intensity in the lists `frequencies` and `intensities`."
   ]
  },
  {
   "cell_type": "code",
   "execution_count": 64,
   "metadata": {},
   "outputs": [],
   "source": [
    "frequencies = [600, 1000, 600, 1000]\n",
    "intensities = [70, 70, 65, 65]"
   ]
  },
  {
   "cell_type": "code",
   "execution_count": 65,
   "metadata": {},
   "outputs": [
    {
     "name": "stdout",
     "output_type": "stream",
     "text": [
      "Play frequency 70 with intensity 70\n",
      "Play frequency 70 with intensity 70\n",
      "Play frequency 65 with intensity 65\n",
      "Play frequency 65 with intensity 65\n"
     ]
    }
   ],
   "source": [
    "# Solution\n",
    "for f, i in zip(frequencies, intensities):\n",
    "    print(\"Play frequency \" + str(i) + \" with intensity \" + str(i))"
   ]
  },
  {
   "cell_type": "markdown",
   "metadata": {},
   "source": [
    "**Exercise**: What happens if the lists inside `zip()` do not have the same length?"
   ]
  },
  {
   "cell_type": "markdown",
   "metadata": {},
   "source": [
    "**Exercise**: Use a `for` loop with `enumerate` to print each element in `conditions` as well as the index of that element in the list."
   ]
  },
  {
   "cell_type": "code",
   "execution_count": 66,
   "metadata": {},
   "outputs": [],
   "source": [
    "conditions = [\"a\", \"b\", \"a \", \"b\", \"c\", \"c\"]"
   ]
  },
  {
   "cell_type": "code",
   "execution_count": 67,
   "metadata": {},
   "outputs": [
    {
     "name": "stdout",
     "output_type": "stream",
     "text": [
      "0 a\n",
      "1 b\n",
      "2 a \n",
      "3 b\n",
      "4 c\n",
      "5 c\n"
     ]
    }
   ],
   "source": [
    "# Solution\n",
    "for i, c in enumerate(conditions):\n",
    "    print(i, c)"
   ]
  },
  {
   "cell_type": "markdown",
   "metadata": {},
   "source": [
    "**Exercise**: Use `enumerate` to iterate the list below and print out every **second** name"
   ]
  },
  {
   "cell_type": "code",
   "execution_count": 68,
   "metadata": {},
   "outputs": [],
   "source": [
    "names = [\"Julia\", \"Matt\", \"Kyle\", \"Lisa\"]"
   ]
  },
  {
   "cell_type": "code",
   "execution_count": 69,
   "metadata": {},
   "outputs": [
    {
     "name": "stdout",
     "output_type": "stream",
     "text": [
      "Julia\n",
      "Kyle\n"
     ]
    }
   ],
   "source": [
    "# Solution\n",
    "for i, n in enumerate(names):\n",
    "    if i%2 == 0:\n",
    "        print(n)"
   ]
  },
  {
   "cell_type": "markdown",
   "metadata": {},
   "source": [
    "## BONUS: Puzzles\n",
    "\n",
    "Even though the individual components we talked about are fairly simple, their interplay can produce a lot of complexity and allows us to achieve various things. This bonus section is intended to provide you with some challenging exercises that will put your knowledge of Python fundamentals to the test."
   ]
  },
  {
   "cell_type": "markdown",
   "metadata": {},
   "source": [
    "**Exercise**: Use `for` loops and `if` statements to find all prime number between 1 and 1000."
   ]
  },
  {
   "cell_type": "code",
   "execution_count": 70,
   "metadata": {},
   "outputs": [
    {
     "name": "stdout",
     "output_type": "stream",
     "text": [
      "1 is a prime number\n",
      "2 is a prime number\n",
      "3 is a prime number\n",
      "5 is a prime number\n",
      "7 is a prime number\n",
      "11 is a prime number\n",
      "13 is a prime number\n",
      "17 is a prime number\n",
      "19 is a prime number\n",
      "23 is a prime number\n",
      "29 is a prime number\n",
      "31 is a prime number\n",
      "37 is a prime number\n",
      "41 is a prime number\n",
      "43 is a prime number\n",
      "47 is a prime number\n",
      "53 is a prime number\n",
      "59 is a prime number\n",
      "61 is a prime number\n",
      "67 is a prime number\n",
      "71 is a prime number\n",
      "73 is a prime number\n",
      "79 is a prime number\n",
      "83 is a prime number\n",
      "89 is a prime number\n",
      "97 is a prime number\n",
      "101 is a prime number\n",
      "103 is a prime number\n",
      "107 is a prime number\n",
      "109 is a prime number\n",
      "113 is a prime number\n",
      "127 is a prime number\n",
      "131 is a prime number\n",
      "137 is a prime number\n",
      "139 is a prime number\n",
      "149 is a prime number\n",
      "151 is a prime number\n",
      "157 is a prime number\n",
      "163 is a prime number\n",
      "167 is a prime number\n",
      "173 is a prime number\n",
      "179 is a prime number\n",
      "181 is a prime number\n",
      "191 is a prime number\n",
      "193 is a prime number\n",
      "197 is a prime number\n",
      "199 is a prime number\n",
      "211 is a prime number\n",
      "223 is a prime number\n",
      "227 is a prime number\n",
      "229 is a prime number\n",
      "233 is a prime number\n",
      "239 is a prime number\n",
      "241 is a prime number\n",
      "251 is a prime number\n",
      "257 is a prime number\n",
      "263 is a prime number\n",
      "269 is a prime number\n",
      "271 is a prime number\n",
      "277 is a prime number\n",
      "281 is a prime number\n",
      "283 is a prime number\n",
      "293 is a prime number\n",
      "307 is a prime number\n",
      "311 is a prime number\n",
      "313 is a prime number\n",
      "317 is a prime number\n",
      "331 is a prime number\n",
      "337 is a prime number\n",
      "347 is a prime number\n",
      "349 is a prime number\n",
      "353 is a prime number\n",
      "359 is a prime number\n",
      "367 is a prime number\n",
      "373 is a prime number\n",
      "379 is a prime number\n",
      "383 is a prime number\n",
      "389 is a prime number\n",
      "397 is a prime number\n",
      "401 is a prime number\n",
      "409 is a prime number\n",
      "419 is a prime number\n",
      "421 is a prime number\n",
      "431 is a prime number\n",
      "433 is a prime number\n",
      "439 is a prime number\n",
      "443 is a prime number\n",
      "449 is a prime number\n",
      "457 is a prime number\n",
      "461 is a prime number\n",
      "463 is a prime number\n",
      "467 is a prime number\n",
      "479 is a prime number\n",
      "487 is a prime number\n",
      "491 is a prime number\n",
      "499 is a prime number\n",
      "503 is a prime number\n",
      "509 is a prime number\n",
      "521 is a prime number\n",
      "523 is a prime number\n",
      "541 is a prime number\n",
      "547 is a prime number\n",
      "557 is a prime number\n",
      "563 is a prime number\n",
      "569 is a prime number\n",
      "571 is a prime number\n",
      "577 is a prime number\n",
      "587 is a prime number\n",
      "593 is a prime number\n",
      "599 is a prime number\n",
      "601 is a prime number\n",
      "607 is a prime number\n",
      "613 is a prime number\n",
      "617 is a prime number\n",
      "619 is a prime number\n",
      "631 is a prime number\n",
      "641 is a prime number\n",
      "643 is a prime number\n",
      "647 is a prime number\n",
      "653 is a prime number\n",
      "659 is a prime number\n",
      "661 is a prime number\n",
      "673 is a prime number\n",
      "677 is a prime number\n",
      "683 is a prime number\n",
      "691 is a prime number\n",
      "701 is a prime number\n",
      "709 is a prime number\n",
      "719 is a prime number\n",
      "727 is a prime number\n",
      "733 is a prime number\n",
      "739 is a prime number\n",
      "743 is a prime number\n",
      "751 is a prime number\n",
      "757 is a prime number\n",
      "761 is a prime number\n",
      "769 is a prime number\n",
      "773 is a prime number\n",
      "787 is a prime number\n",
      "797 is a prime number\n",
      "809 is a prime number\n",
      "811 is a prime number\n",
      "821 is a prime number\n",
      "823 is a prime number\n",
      "827 is a prime number\n",
      "829 is a prime number\n",
      "839 is a prime number\n",
      "853 is a prime number\n",
      "857 is a prime number\n",
      "859 is a prime number\n",
      "863 is a prime number\n",
      "877 is a prime number\n",
      "881 is a prime number\n",
      "883 is a prime number\n",
      "887 is a prime number\n",
      "907 is a prime number\n",
      "911 is a prime number\n",
      "919 is a prime number\n",
      "929 is a prime number\n",
      "937 is a prime number\n",
      "941 is a prime number\n",
      "947 is a prime number\n",
      "953 is a prime number\n",
      "967 is a prime number\n",
      "971 is a prime number\n",
      "977 is a prime number\n",
      "983 is a prime number\n",
      "991 is a prime number\n",
      "997 is a prime number\n"
     ]
    }
   ],
   "source": [
    "# Solution\n",
    "for i in range(1, 1000):\n",
    "    is_prime = True\n",
    "    for j in range(2, i):\n",
    "        if i%j == 0:\n",
    "            is_prime = False\n",
    "    if is_prime:\n",
    "        print(str(i) + \" is a prime number\")"
   ]
  },
  {
   "cell_type": "markdown",
   "metadata": {},
   "source": [
    "**Exercise**: Create a `while` loop that shuffles the list until there are no immediate repetitions of the same element"
   ]
  },
  {
   "cell_type": "code",
   "execution_count": 71,
   "metadata": {},
   "outputs": [
    {
     "name": "stdout",
     "output_type": "stream",
     "text": [
      "[5, 2, 3, 5, 3, 4, 4, 3, 1, 1, 4, 4, 4, 4, 1, 2, 3, 4, 2, 3, 1, 3, 5, 5, 2, 2, 3, 1, 2, 5, 1, 1, 2, 2, 1, 1, 2, 5, 3, 3, 4, 4, 5, 5, 2, 3, 4, 5, 1, 5]\n"
     ]
    }
   ],
   "source": [
    "import random\n",
    "x = [1, 2, 3, 4, 5] * 10\n",
    "random.shuffle(x)  # randomize the list\n",
    "print(x)\n"
   ]
  },
  {
   "cell_type": "code",
   "execution_count": 72,
   "metadata": {},
   "outputs": [],
   "source": [
    "# Solution\n",
    "ok = False\n",
    "while not ok:\n",
    "    found_duplicate = False\n",
    "    for i in range(1, len(x)):\n",
    "        if x[i] == x[i-1]:\n",
    "            found_duplicate = True\n",
    "    if not found_duplicate:\n",
    "        ok = True\n",
    "    else:\n",
    "        random.shuffle(x)"
   ]
  }
 ],
 "metadata": {
  "kernelspec": {
   "display_name": "psychopy",
   "language": "python",
   "name": "python3"
  },
  "language_info": {
   "codemirror_mode": {
    "name": "ipython",
    "version": 3
   },
   "file_extension": ".py",
   "mimetype": "text/x-python",
   "name": "python",
   "nbconvert_exporter": "python",
   "pygments_lexer": "ipython3",
   "version": "3.9.20"
  }
 },
 "nbformat": 4,
 "nbformat_minor": 2
}
