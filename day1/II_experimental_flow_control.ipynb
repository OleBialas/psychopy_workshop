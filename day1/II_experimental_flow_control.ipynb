{
 "cells": [
  {
   "cell_type": "markdown",
   "metadata": {
    "vscode": {
     "languageId": "plaintext"
    }
   },
   "source": [
    "# II. Experimental Flow Control"
   ]
  },
  {
   "cell_type": "code",
   "execution_count": 7,
   "metadata": {},
   "outputs": [],
   "source": [
    "import random\n",
    "import time"
   ]
  },
  {
   "cell_type": "markdown",
   "metadata": {
    "vscode": {
     "languageId": "plaintext"
    }
   },
   "source": [
    "## 1. Iterating trials\n",
    "\n",
    "\n",
    "| Code                                         | Description                                                          |\n",
    "| ---                                          | ---                                                                  |\n",
    "| `for letter in [\"a\", \"b\", \"c\"]:` <br> &nbsp;&nbsp;&nbsp;&nbsp; `print(letter)` | Print every `letter` in the list `[\"a\", \"b\", \"c\"]`|\n",
    "| `for i in range(5):` <br> &nbsp;&nbsp;&nbsp;&nbsp; `print(i)` | Print every number `i` between 0 and 5 (not including 5)|\n",
    "| `for i in range(2, 7):` <br> &nbsp;&nbsp;&nbsp;&nbsp; `print(i)` | Print every number `i` between 2 and 7 (not including 7)|\n",
    "| `for i in range(1, 10, 2):` <br> &nbsp;&nbsp;&nbsp;&nbsp; `print(i)` | Print eververy **second** number `i` between 1 and 10 (not including 10)|\n",
    "| `for x_i in x:` <br> &nbsp;&nbsp;&nbsp;&nbsp; `print(x_i)` | Print every element `x_i` in the collection `x`|\n"
   ]
  },
  {
   "cell_type": "code",
   "execution_count": null,
   "metadata": {},
   "outputs": [],
   "source": [
    "# Write a for loop that prints the numbers 0 to 9\n",
    "\n",
    "# Solution\n",
    "for i in range(10):\n",
    "    print(i) "
   ]
  },
  {
   "cell_type": "code",
   "execution_count": null,
   "metadata": {},
   "outputs": [],
   "source": [
    "# Write a for loop that counts in steps of 10 and prints out 10, 20, ..., 100 \n",
    "\n",
    "# Solution\n",
    "for i in range(10, 110, 10):\n",
    "    print(i)"
   ]
  },
  {
   "cell_type": "code",
   "execution_count": null,
   "metadata": {},
   "outputs": [],
   "source": [
    "# Write a loop that prints the square of each number in the list below\n",
    "nums = [4, 13, 56, 676]\n",
    "\n",
    "# Solution\n",
    "for n in nums:\n",
    "    print(n**2)\n",
    "    "
   ]
  },
  {
   "cell_type": "code",
   "execution_count": 24,
   "metadata": {},
   "outputs": [],
   "source": [
    "# Write a loop that print out \"Run experiment for animal n\" for each animal id in the list below\n",
    "animal_ids = [\"m23\", \"m59\", \"m145\"]\n",
    "\n",
    "# Solution\n",
    "for a in animal_ids:\n",
    "    print(\"Run experiment for \" + str(a))"
   ]
  },
  {
   "cell_type": "code",
   "execution_count": null,
   "metadata": {},
   "outputs": [],
   "source": [
    "# Create an empty list and append the response from each trial to this list. Print the list after the last trial\n",
    "for i_trial in range(10):\n",
    "    response = random.random() # generate a random number\n",
    "\n",
    "# Solution\n",
    "responses=[]\n",
    "for animal_id in animal_ids:\n",
    "    response = random.random()\n",
    "    responses.append(response)\n",
    "print(responses)"
   ]
  },
  {
   "cell_type": "code",
   "execution_count": 18,
   "metadata": {},
   "outputs": [
    {
     "data": {
      "text/plain": [
       "17"
      ]
     },
     "execution_count": 18,
     "metadata": {},
     "output_type": "execute_result"
    }
   ],
   "source": [
    "# What is the result after subtracting all numbers in y from x\n",
    "y = [1, 1, 2, 3, 5, 8, 13]\n",
    "x = 50\n",
    "\n",
    "# Solution\n",
    "for y_i in y:\n",
    "    x = x - y_i\n",
    "x"
   ]
  },
  {
   "cell_type": "code",
   "execution_count": null,
   "metadata": {},
   "outputs": [],
   "source": [
    "# On every trial, determine of that trial was a \"hit\" by checking if the reaction time was shorter than the threshold.\n",
    "# Append the information wheter or not it was a hit to the list was_hit.\n",
    "\n",
    "was_hit = []\n",
    "threshold = 0.5\n",
    "for i_trial in range(10):\n",
    "    reaction_time = random.random()\n",
    "\n",
    "# Solution\n",
    "for i_trial in range(10):\n",
    "    reaction_time = random.random()\n",
    "    was_hit.append(reaction_time<threshold)\n",
    "was_hit"
   ]
  },
  {
   "cell_type": "code",
   "execution_count": null,
   "metadata": {},
   "outputs": [
    {
     "name": "stdout",
     "output_type": "stream",
     "text": [
      "('a', 'b', 'c', 'd', 'e', 'f')\n"
     ]
    }
   ],
   "source": [
    "# Use a for loop to concatenate the tuples in the list below to one long tuple\n",
    "x = [(\"a\", \"b\"), (\"c\", \"d\"), (\"e\", \"f\")]\n",
    "\n",
    "# Solution\n",
    "y = ()\n",
    "for x_i in x:\n",
    "    y = y+x_i\n",
    "print(y)"
   ]
  },
  {
   "cell_type": "code",
   "execution_count": null,
   "metadata": {},
   "outputs": [],
   "source": [
    "# The loop below print out the lists [1, 2], [3], and [4,5,6]. Add an additional loop so the printed message reads \"1,2,3,4,5,6\"\n",
    "# TODO: add example of two nested loops\n",
    "x = [[1, 2], [3], [4, 5, 6]]\n",
    "for x_i in x:\n",
    "    print(x_i)\n",
    "\n",
    "# Solution\n",
    "for x_i in x:\n",
    "    for x_ij in x_i:\n",
    "        print(x_ij)"
   ]
  },
  {
   "cell_type": "code",
   "execution_count": null,
   "metadata": {},
   "outputs": [],
   "source": [
    "# Use two nested loops to print out all trials for every block. On each iteration print\n",
    "# \"This is block b trial t\" where b and t are the number of the respective block and trial\n",
    "\n",
    "blocks = [1, 2, 3]\n",
    "trials = [1, 2, 3, 4, 5, 6, 7, 8 , 9 ,10]\n",
    "\n",
    "# Solution\n",
    "for block in blocks:\n",
    "    print(\"Block\" + str(block))\n",
    "    for trial in trials:\n",
    "        print(\"This is trial \" + str(trial))"
   ]
  },
  {
   "cell_type": "markdown",
   "metadata": {},
   "source": [
    "## 2. Conditional Expressions\n",
    "\n",
    "### Reference Table\n",
    "\n",
    "|Code|Description|\n",
    "|---|---|\n",
    "|`if x > 0:` <br> &nbsp;&nbsp;&nbsp;&nbsp; `print(\"positive\")` <br> `elif x < 0:` <br> &nbsp;&nbsp;&nbsp;&nbsp; `print(\"negative\")` <br> `else:` <br> &nbsp;&nbsp;&nbsp;&nbsp; `print(\"zero\")`| Prints whether the number `x` is `\"positive\"`, `\"negative\"` or `\"zero\"`|\n",
    "| `x in [1, 2, 3]` | Returns `True` if the value of `x` appears in the list `[1,2,3]`|\n",
    "| `x==1 and y==0` | Returns `True` both expressions are `True` (i.e. `x` is 1 AND `y` is 0)|\n",
    "| `x==1 or y==0` | Returns `True` if AT LEAST one expression is `True` |\n",
    "| `not False` | Invert a boolean value (Returns: `True`) |\n"
   ]
  },
  {
   "cell_type": "code",
   "execution_count": null,
   "metadata": {},
   "outputs": [],
   "source": [
    "# Assign different values to x so that each statement get printed once\n",
    "\n",
    "x = ...\n",
    "if x > 10:\n",
    "    print(\"High positive number\")\n",
    "elif x > 0:\n",
    "    print(\"Small positive number\")\n",
    "elif x == 0:\n",
    "    print(\"Zero!\")\n",
    "elif x < -10:\n",
    "    print(\"Large negative number\")\n",
    "else:\n",
    "    print(\"Small negative number\")\n",
    "\n",
    "# Solution\n",
    "x_values = [20, 1, 0, -1, -20]"
   ]
  },
  {
   "cell_type": "code",
   "execution_count": null,
   "metadata": {},
   "outputs": [],
   "source": [
    "# Add two elif conditions to indentify strings and floats. Test your code by assigning different values\n",
    "# to x so that each statement gets printed once\n",
    "# TODO: make exercise more explicit, provide testing values\n",
    "\n",
    "x = ...\n",
    "if isinstance(x, int):\n",
    "    print(\"This is an integer\")\n",
    "else:\n",
    "    print(\"I don't know what this is\")\n",
    "\n",
    "# Solution\n",
    "for x in [1, \"1\", 1.0, []]:\n",
    "    if isinstance(x, int):\n",
    "        print(\"This is an integer\")\n",
    "    elif isinstance(x, str):\n",
    "        print(\"This is a string\")\n",
    "    elif isinstance(x, float):\n",
    "        print(\"This is a float\")\n",
    "    else:\n",
    "        print(\"I don't know what this is\")"
   ]
  },
  {
   "cell_type": "code",
   "execution_count": null,
   "metadata": {},
   "outputs": [
    {
     "name": "stdout",
     "output_type": "stream",
     "text": [
      "This list is long\n"
     ]
    }
   ],
   "source": [
    "# The code below creates a list with a random number of element between 1 and 100.\n",
    "# Write an if/else statement to determine whether this list is shorter or longer than 50\n",
    "\n",
    "x = list(range(random.randint(1, 100)))\n",
    "\n",
    "# Solution\n",
    "if len(x)>50:\n",
    "    print(\"This list is long\")\n",
    "else:\n",
    "    print(\"This list is short\")"
   ]
  },
  {
   "cell_type": "code",
   "execution_count": null,
   "metadata": {},
   "outputs": [],
   "source": [
    "# Write an if/else statement that prints out \"This number has a large value\" if the absolute value of\n",
    "# x is larger than 10 (i.e. it is greaterthan 10 OR smaller than -10).\n",
    "# Test your code by assigning to x a high positive and a high negative number\n",
    "x = ...\n",
    "\n",
    "# Solution\n",
    "if x > 10 or x < -10:\n",
    "    print(\"This number has a large value\")"
   ]
  },
  {
   "cell_type": "code",
   "execution_count": null,
   "metadata": {},
   "outputs": [
    {
     "name": "stdout",
     "output_type": "stream",
     "text": [
      "This number has a small value\n",
      "This number has a small value\n"
     ]
    }
   ],
   "source": [
    "# Write an if/else statement that prints out \"This number has a small value\" if the absolute value of\n",
    "# x is smaller than 10 (i.e. it is smaller than 1 AND greater than -1).\n",
    "# Test your code by assigning to x positive and negative values inside and outside the range between 1 and -1\n",
    "\n",
    "# Solution\n",
    "if x < 1 and x > -1:\n",
    "    print(\"This number has a small value\")\n",
    "# OR\n",
    "if 1 > x > -1:\n",
    "    print(\"This number has a small value\")"
   ]
  },
  {
   "cell_type": "code",
   "execution_count": null,
   "metadata": {},
   "outputs": [],
   "source": [
    "# Use an if/else statement to check which letters are vowels\n",
    "\n",
    "letters = ['w', 'q', 'x', 'k', 'g', 'm', 'f', 'i', 'w', 'j', 'h', 't', 'b', 'z', 'u', 'r', 'q', 'b', 'a', 'z']\n",
    "vowels = ['a', 'e', 'i', 'o', 'u']\n",
    "for l in letters:\n",
    "    ...\n",
    "\n",
    "# Solution\n",
    "    if l in vowels:\n",
    "        print(l + ' is a vowel')\n",
    "    else:\n",
    "        print(l + ' is a consonant')\n",
    "\n"
   ]
  },
  {
   "cell_type": "code",
   "execution_count": 3,
   "metadata": {},
   "outputs": [
    {
     "name": "stdout",
     "output_type": "stream",
     "text": [
      "silence...\n",
      "silence...\n"
     ]
    }
   ],
   "source": [
    "# In the loop below, write an if statement that prints \"silence...\" whenever `play_tone` is False\n",
    "\n",
    "play_tone = [True, True, False, True, False, True, True, True]\n",
    "for p in play_tone:\n",
    "    ...\n",
    "\n",
    "# Solution\n",
    "    if not p:\n",
    "        print(\"silence...\")"
   ]
  },
  {
   "cell_type": "code",
   "execution_count": null,
   "metadata": {},
   "outputs": [],
   "source": [
    "# Write an if statement to print out wheter each number x_i is odd or even\n",
    "x = [4, 18, 32, 13, 155, 56]\n",
    "for x_i in x:\n",
    "    ...\n",
    "\n",
    "# Solution\n",
    "    if x_i%2 == 0:\n",
    "        print(str(x_i) + \" is even\")\n",
    "    else:\n",
    "        print(str(x_i) + \" is odd\")"
   ]
  },
  {
   "cell_type": "markdown",
   "metadata": {},
   "source": [
    "## 3. Conditional Loops\n",
    "\n",
    "### Reference Table\n",
    "\n",
    "|Code | Description |\n",
    "| --- | ---         |\n",
    "|`while x>y`: <br> &nbsp;&nbsp;&nbsp;&nbsp; `print(\"x is bigger\")` | Prints `\"x is bigger\"` as long as `x>y` is `True`|\n",
    "|`break` | Exit the current loop |\n",
    "| `time.time()` | Get the current time |\n",
    "| `time.sleep(1)` | Wait for one second |"
   ]
  },
  {
   "cell_type": "code",
   "execution_count": 4,
   "metadata": {},
   "outputs": [
    {
     "name": "stdout",
     "output_type": "stream",
     "text": [
      "Ran 100 iterations\n"
     ]
    }
   ],
   "source": [
    "# Execute the cell below. Then change max_count to 500, run it again and observe the changed result.\n",
    "# Finally, replace the True with False and run the cell a third time.\n",
    "\n",
    "max_count = 100\n",
    "count = 0\n",
    "while True:\n",
    "    count = count+1\n",
    "    if count >= max_count:\n",
    "        break\n",
    "print(\"Ran \" +str(count) +\" iterations\")"
   ]
  },
  {
   "cell_type": "code",
   "execution_count": 8,
   "metadata": {},
   "outputs": [],
   "source": [
    "# Run the cell below and observe the time it takes to complete (this is shown in the lower left corner of the cell).\n",
    "# Change t_wait to 1 and oberve the time it takes to run now.\n",
    "# Finally, change the value passed to time.sleep from 0.01 to 0.3 and observe the time it takes to run\n",
    "\n",
    "t = time.time() # current time\n",
    "t_wait = 2\n",
    "t_passed = 0\n",
    "while t_passed<t_wait:\n",
    "    time.sleep(0.01)\n",
    "    t_passed = time.time()-t  # time passed since t"
   ]
  },
  {
   "cell_type": "code",
   "execution_count": 17,
   "metadata": {},
   "outputs": [
    {
     "name": "stdout",
     "output_type": "stream",
     "text": [
      "0.7510697841644287\n"
     ]
    }
   ],
   "source": [
    "# Write a while loop that waits for 0.75. Print out the time the loop actually ran. Run the loop multiple times.\n",
    "# TODO: make this clearer\n",
    "\n",
    "t = time.time() # current time\n",
    "t_wait = 0.75\n",
    "t_passed = 0\n",
    "while t_passed<t_wait:\n",
    "    t_passed = time.time()-t  # time passed since t\n",
    "    time.sleep(0.01)\n",
    "print(t_passed)"
   ]
  },
  {
   "cell_type": "code",
   "execution_count": null,
   "metadata": {},
   "outputs": [
    {
     "data": {
      "text/plain": [
       "0"
      ]
     },
     "execution_count": 105,
     "metadata": {},
     "output_type": "execute_result"
    }
   ],
   "source": [
    "# Write a while loop that subtracts 1 from number of trials until it is 0\n",
    "number_of_trials = 100\n",
    "\n",
    "# Solution\n",
    "while number_of_trials:\n",
    "    number_of_trials -= 1\n",
    "number_of_trials"
   ]
  },
  {
   "cell_type": "code",
   "execution_count": null,
   "metadata": {},
   "outputs": [],
   "source": [
    "# Write a while loop that appends the letter \"a\" to the list x until the length of x is 100\n",
    "x = [\"a\"]\n",
    "\n",
    "# Solution\n",
    "while len(x)<100:\n",
    "    x.append(\"a\")\n",
    "x"
   ]
  },
  {
   "cell_type": "code",
   "execution_count": null,
   "metadata": {},
   "outputs": [],
   "source": [
    "# Rewrite this for loop as a while loop\n",
    "\n",
    "for i in range(0, 10):\n",
    "    print(i)\n",
    "\n",
    "# Solution\n",
    "i=0\n",
    "while i < 10:\n",
    "    print(i)\n",
    "    i = i+1"
   ]
  },
  {
   "cell_type": "code",
   "execution_count": 26,
   "metadata": {},
   "outputs": [
    {
     "name": "stdout",
     "output_type": "stream",
     "text": [
      "0.9957884239779998\n",
      "12\n"
     ]
    }
   ],
   "source": [
    "# Use a while loop to generate random numbers until you generated a number that is greater than 0.98 but stop after 100 iterations.\n",
    "# Print the value of x and the number of iterations\n",
    "x = random.random()\n",
    "\n",
    "# Solution\n",
    "count = 0\n",
    "while x < 0.99 and count < 100:\n",
    "    x = random.random()\n",
    "    count+=1\n",
    "print(x)\n",
    "print(count)"
   ]
  },
  {
   "cell_type": "markdown",
   "metadata": {},
   "source": [
    "## 4. Advanced Iteration\n",
    "\n",
    "### Reference Table\n",
    "|Code | Description |\n",
    "| --- | ---         |\n",
    "| `for x_i, y_i in zip(x, y):` <br> &nbsp;&nbsp;&nbsp;&nbsp; `print(x, y)` | Prints every element `x_i` in `x` and every element `y_i` in `y`|\n",
    "| `for letter in x_i, y_i in zip(x, y):` <br> &nbsp;&nbsp;&nbsp;&nbsp; `print(x, y)` | Print every `letter` in the list `[\"a\", \"b\", \"c\"]`|\n"
   ]
  },
  {
   "cell_type": "code",
   "execution_count": null,
   "metadata": {},
   "outputs": [],
   "source": [
    "# Write a loop that prints \"Play frequency f with intensity i\" where f and i are the elements in the lists below\n",
    "\n",
    "frequencies = [600, 1000, 600, 1000]\n",
    "intensities = [70, 70, 65, 65]\n",
    "\n",
    "for f, i in zip(frequencies, intensities):\n",
    "    print(\"Play frequency \" + str(i) + \" with intensity \" + str(i))\n"
   ]
  },
  {
   "cell_type": "code",
   "execution_count": null,
   "metadata": {},
   "outputs": [],
   "source": [
    "# Write a loop that prints \"Play frequency f with intensity i\" where f and i are the elements in the lists below\n",
    "\n",
    "frequencies = [600, 1000, 600, 1000]\n",
    "intensities = [70, 70, 65, 65]\n",
    "\n",
    "for f, i in zip(frequencies, intensities):\n",
    "    print(\"Play frequency \" + str(i) + \" with intensity \" + str(i))\n"
   ]
  },
  {
   "cell_type": "markdown",
   "metadata": {},
   "source": [
    "## 5. BONUS: Puzzles\n",
    "\n",
    "If you have made it this far, you are probably up for a challenge.\\\n",
    "The following exercises require you to combine everything you have learned so far.\\\n",
    "Good luck!"
   ]
  },
  {
   "cell_type": "code",
   "execution_count": null,
   "metadata": {},
   "outputs": [],
   "source": [
    "# Use for loops and if statements to find all prime number between 1 and 1000\n",
    "\n",
    "# Solution\n",
    "for i in range(1, 1000):\n",
    "    is_prime = True\n",
    "    for j in range(2, i):\n",
    "        if i%j == 0:\n",
    "            is_prime = False\n",
    "    if is_prime:\n",
    "        print(str(i) + \" is a prime number\")"
   ]
  },
  {
   "cell_type": "code",
   "execution_count": null,
   "metadata": {},
   "outputs": [],
   "source": [
    "# Create a while statement that shuffles the list until there are no immediate repetitions of the same element\n",
    "\n",
    "x = [1, 2, 3, 4, 5] * 10\n",
    "random.shuffle(x)  # randomize the list\n",
    "print(x)\n",
    "\n",
    "# Solution\n",
    "ok = False\n",
    "while not ok:\n",
    "    found_duplicate = False\n",
    "    for i in range(1, len(x)):\n",
    "        if x[i] == x[i-1]:\n",
    "            found_duplicate = True\n",
    "    if not found_duplicate:\n",
    "        ok = True\n",
    "    else:\n",
    "        random.shuffle(x)"
   ]
  }
 ],
 "metadata": {
  "kernelspec": {
   "display_name": "Python 3",
   "language": "python",
   "name": "python3"
  },
  "language_info": {
   "codemirror_mode": {
    "name": "ipython",
    "version": 3
   },
   "file_extension": ".py",
   "mimetype": "text/x-python",
   "name": "python",
   "nbconvert_exporter": "python",
   "pygments_lexer": "ipython3",
   "version": "3.9.20"
  }
 },
 "nbformat": 4,
 "nbformat_minor": 2
}
