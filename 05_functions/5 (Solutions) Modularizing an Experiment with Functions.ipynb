{
 "cells": [
  {
   "cell_type": "markdown",
   "metadata": {},
   "source": [
    "# Modularizing an Experiment with Functions"
   ]
  },
  {
   "cell_type": "code",
   "execution_count": null,
   "metadata": {},
   "outputs": [],
   "source": [
    "%pip install psychopy\n",
    "%load_ext autoreload\n",
    "%autoreload 2"
   ]
  },
  {
   "cell_type": "code",
   "execution_count": null,
   "metadata": {},
   "outputs": [],
   "source": [
    "from psychopy.sound import Sound\n",
    "from psychopy.event import waitKeys\n",
    "from psychopy.visual import Window\n",
    "Sound(stereo=False);"
   ]
  },
  {
   "cell_type": "markdown",
   "metadata": {},
   "source": [
    "## 1. Defining Functions\n",
    "\n",
    "### Reference Table\n",
    "|Code | Duration |\n",
    "| ---| ---|\n",
    "|`def add(a,b):` <br> &nbsp;&nbsp;&nbsp;&nbsp; `return a+b` | Define an `add()` function that takes in two parameters `a` and `b` and `return`s their sum\n",
    "|`assert a == b` | Raise an `AssertionError` if `a` is NOT equal to `b`, otherwise do nothing |\n",
    "|`tone = Sound(value=350, secs=0.5)` | Create a `tone` at `350`Hz with a duration of `0.5` seconds |"
   ]
  },
  {
   "cell_type": "markdown",
   "metadata": {},
   "source": [
    "**Example**: Write the `add()` function below, so that running the tests below shows `\"Success!\"`\n"
   ]
  },
  {
   "cell_type": "code",
   "execution_count": null,
   "metadata": {},
   "outputs": [],
   "source": [
    "# Solution\n",
    "def add(a,b):\n",
    "    return a+b"
   ]
  },
  {
   "cell_type": "code",
   "execution_count": null,
   "metadata": {},
   "outputs": [],
   "source": [
    "assert add(2,3) == 5\n",
    "assert add(4,4) == 8\n",
    "print('Success!')"
   ]
  },
  {
   "cell_type": "markdown",
   "metadata": {},
   "source": [
    "---\n",
    "**Exercise**: Write the `subtract()` function below, so that running the tests below shows `\"Success!\"`"
   ]
  },
  {
   "cell_type": "code",
   "execution_count": null,
   "metadata": {},
   "outputs": [],
   "source": [
    "# Solution\n",
    "def subtract(a, b):\n",
    "    return a-b"
   ]
  },
  {
   "cell_type": "code",
   "execution_count": null,
   "metadata": {},
   "outputs": [],
   "source": [
    "assert subtract(4,1) == 3\n",
    "assert subtract(7,12) == -5\n",
    "print('Success!')"
   ]
  },
  {
   "cell_type": "code",
   "execution_count": null,
   "metadata": {},
   "outputs": [],
   "source": [
    "# Solution\n",
    "def is_odd(a):\n",
    "    return bool(a%2)"
   ]
  },
  {
   "cell_type": "code",
   "execution_count": null,
   "metadata": {},
   "outputs": [],
   "source": [
    "assert is_odd(8) == False\n",
    "assert is_odd(5) == True\n",
    "print('Success!')"
   ]
  },
  {
   "cell_type": "markdown",
   "metadata": {},
   "source": [
    "---\n",
    "**Exercise**: Write the `make_list_of_zeros()` function below, so that running the tests below shows `\"Success!\"`\n"
   ]
  },
  {
   "cell_type": "code",
   "execution_count": null,
   "metadata": {},
   "outputs": [],
   "source": [
    "# Solution\n",
    "def make_list_of_zeros(n):\n",
    "    return [0]*n"
   ]
  },
  {
   "cell_type": "code",
   "execution_count": null,
   "metadata": {},
   "outputs": [],
   "source": [
    "assert len(make_list_of_zeros(10)) == 10\n",
    "for z in make_list_of_zeros(5):\n",
    "    assert z == 0\n",
    "print('Success!')"
   ]
  },
  {
   "cell_type": "markdown",
   "metadata": {},
   "source": [
    "---\n",
    "**Exercise**: Write a `fist_and_last()` function below, so that running the tests below shows \"Success!\". (Hint: to return multiple values, separate them by a comma: `return val1, val2`)"
   ]
  },
  {
   "cell_type": "code",
   "execution_count": null,
   "metadata": {},
   "outputs": [],
   "source": [
    "def first_and_last(x):\n",
    "    return x[0], x[-1]"
   ]
  },
  {
   "cell_type": "code",
   "execution_count": null,
   "metadata": {},
   "outputs": [],
   "source": [
    "assert first_and_last([1,2,3,4]) == (1,4)\n",
    "assert first_and_last([\"x\", \"c\"]) == (\"x\", \"c\")\n",
    "print(\"Success!\")"
   ]
  },
  {
   "cell_type": "markdown",
   "metadata": {},
   "source": [
    "---\n",
    "**Exercise**: Write the `make_tone()` function below, so that running the tests below shows `\"Success!\"`.<br>(Hint: `Sound(value==800).sound == 800`)\n"
   ]
  },
  {
   "cell_type": "code",
   "execution_count": null,
   "metadata": {},
   "outputs": [],
   "source": [
    "# Solution\n",
    "def make_tone(freq):\n",
    "    return Sound(value=freq)"
   ]
  },
  {
   "cell_type": "code",
   "execution_count": null,
   "metadata": {},
   "outputs": [],
   "source": [
    "assert make_tone(500).sound == 500\n",
    "assert make_tone(1200).sound == 1200\n",
    "print('Success!')"
   ]
  },
  {
   "cell_type": "markdown",
   "metadata": {},
   "source": [
    "---\n",
    "**Exercise**: Write the `change_pitch()` function below, so that running the tests below shows `\"Success!\"`"
   ]
  },
  {
   "cell_type": "code",
   "execution_count": null,
   "metadata": {},
   "outputs": [],
   "source": [
    "# Solution\n",
    "def change_pitch(tone, d):\n",
    "    return Sound(value=tone.sound+d)"
   ]
  },
  {
   "cell_type": "code",
   "execution_count": null,
   "metadata": {},
   "outputs": [],
   "source": [
    "tone = Sound(value=700)\n",
    "assert change_pitch(tone, 50).sound == 750\n",
    "assert change_pitch(tone, -100).sound == 600\n",
    "print('Success!')"
   ]
  },
  {
   "cell_type": "markdown",
   "metadata": {},
   "source": [
    "----\n",
    "**Exercise**: Write the `cumulative_duration()` function below, so that running the tests below shows `\"Success!\"`"
   ]
  },
  {
   "cell_type": "code",
   "execution_count": null,
   "metadata": {},
   "outputs": [],
   "source": [
    "# Solution\n",
    "def cumulative_duration(sound1, sound2):\n",
    "    return sound1.secs+sound2.secs"
   ]
  },
  {
   "cell_type": "code",
   "execution_count": null,
   "metadata": {},
   "outputs": [],
   "source": [
    "assert cumulative_duration(Sound(secs=1.2), Sound(secs=0.5)) == 1.7\n",
    "assert cumulative_duration(Sound(secs=0.8), Sound(secs=2)) == 2.8"
   ]
  },
  {
   "cell_type": "markdown",
   "metadata": {},
   "source": [
    "# 2. Optional Arguments"
   ]
  },
  {
   "cell_type": "markdown",
   "metadata": {},
   "source": [
    "**Example**: Write the `say_hi_to()` function below, so that running the tests below shows `\"Success!\"`"
   ]
  },
  {
   "cell_type": "code",
   "execution_count": null,
   "metadata": {},
   "outputs": [],
   "source": [
    "# Solutuon\n",
    "def say_hi_to(first, last=\"\", shout=False):\n",
    "    text = \"Hi\" + \" \" + first + \" \" + last + \"!\"\n",
    "    if shout:\n",
    "        return text.upper()\n",
    "    else:\n",
    "        return text"
   ]
  },
  {
   "cell_type": "code",
   "execution_count": null,
   "metadata": {},
   "outputs": [],
   "source": [
    "assert say_hi_to(first=\"Bob\") == \"Hi Bob !\"\n",
    "assert say_hi_to(first=\"Bob\", last=\"McBobface\") == \"Hi Bob McBobface!\"\n",
    "assert say_hi_to(first=\"Bob\", last=\"McBobface\", shout=True) == \"HI BOB MCBOBFACE!\"\n",
    "print(\"Success!\")"
   ]
  },
  {
   "cell_type": "markdown",
   "metadata": {},
   "source": [
    "---\n",
    "**Exercise**: Write the `make_tone()` function below, so that running the tests below shows `\"Success!\"`"
   ]
  },
  {
   "cell_type": "code",
   "execution_count": null,
   "metadata": {},
   "outputs": [],
   "source": [
    "# Solution\n",
    "def make_tone(frequency, duration=1.5):\n",
    "    return Sound(value=frequency, secs=duration)"
   ]
  },
  {
   "cell_type": "code",
   "execution_count": null,
   "metadata": {},
   "outputs": [],
   "source": [
    "assert make_tone(550).sound == 550\n",
    "assert make_tone(550).secs== 1.5\n",
    "assert make_tone(750, 0.1).sound == 750\n",
    "assert make_tone(750, 0.1).secs== 0.1\n",
    "print(\"Success!\")\n"
   ]
  },
  {
   "cell_type": "markdown",
   "metadata": {},
   "source": [
    "---\n",
    "**Exercise**: Write a `make_and_play_tone()` function below, so that running the tests below shows `\"Success!\"`"
   ]
  },
  {
   "cell_type": "code",
   "execution_count": null,
   "metadata": {},
   "outputs": [],
   "source": [
    "# Solution\n",
    "def make_and_play_tone(frequency, duration, play=False):\n",
    "    tone = Sound(value=frequency, secs=duration)\n",
    "    if play:\n",
    "        tone.play()\n",
    "    return tone"
   ]
  },
  {
   "cell_type": "code",
   "execution_count": null,
   "metadata": {},
   "outputs": [],
   "source": [
    "assert make_and_play_tone(500, duration=0.2, play=True).statusDetailed[\"State\"] == 1\n",
    "assert make_and_play_tone(500, 0.2).statusDetailed[\"State\"] == 0\n",
    "print(\"Success!\")"
   ]
  },
  {
   "cell_type": "markdown",
   "metadata": {},
   "source": [
    "---\n",
    "**Exercise**: Write a `make_two_tones()` function below, so that running the tests below shows `\"Success!\"`"
   ]
  },
  {
   "cell_type": "code",
   "execution_count": null,
   "metadata": {},
   "outputs": [],
   "source": [
    "# Solution\n",
    "def make_two_tones(freq1, freq2):\n",
    "    tone1 = Sound(value=freq1)\n",
    "    tone2 = Sound(value=freq2)\n",
    "    return tone1, tone2"
   ]
  },
  {
   "cell_type": "code",
   "execution_count": null,
   "metadata": {},
   "outputs": [],
   "source": [
    "assert make_two_tones(250, 4000)[0].sound == 250\n",
    "assert make_two_tones(250, 4000)[1].sound == 4000"
   ]
  },
  {
   "cell_type": "markdown",
   "metadata": {},
   "source": [
    "---\n",
    "**Exercise**: Write the `wait_keys()` function below, so that running the tests below shows `\"Success!\"`\n"
   ]
  },
  {
   "cell_type": "code",
   "execution_count": null,
   "metadata": {},
   "outputs": [],
   "source": [
    "# Solution\n",
    "def wait_keys(keys=None, timed=False):\n",
    "    keys = waitKeys(keyList=keys, timeStamped=timed)\n",
    "    return keys[0]"
   ]
  },
  {
   "cell_type": "code",
   "execution_count": null,
   "metadata": {},
   "outputs": [],
   "source": [
    "with Window() as win:\n",
    "    assert wait_keys([\"space\"]) == \"space\"\n",
    "    assert len(wait_keys(timed=True)) == 2\n",
    "print(\"Success!\")\n",
    "    "
   ]
  },
  {
   "cell_type": "markdown",
   "metadata": {},
   "source": [
    "---\n",
    "**Exercise**: Write a different `wait_keys()` function below, so that running the tests below shows `\"Success!\"`"
   ]
  },
  {
   "cell_type": "code",
   "execution_count": null,
   "metadata": {},
   "outputs": [],
   "source": [
    "# Solution\n",
    "def wait_keys(keys=[\"space\"], timed=True):\n",
    "    keys = waitKeys(keyList=keys, timeStamped=timed)\n",
    "    return keys[0]"
   ]
  },
  {
   "cell_type": "code",
   "execution_count": null,
   "metadata": {},
   "outputs": [],
   "source": [
    "with Window() as win:\n",
    "    assert len(wait_keys()) == 2\n",
    "    assert wait_keys()[0] == \"space\""
   ]
  },
  {
   "cell_type": "markdown",
   "metadata": {},
   "source": [
    "## 3. Importing functions"
   ]
  },
  {
   "cell_type": "markdown",
   "metadata": {},
   "source": [
    "**Example**: Create a file `say_hi_to.py` that contains a `say_hi_to()` function, which, when imported, passes the tests below"
   ]
  },
  {
   "cell_type": "code",
   "execution_count": null,
   "metadata": {},
   "outputs": [],
   "source": [
    "from say_hi_to import say_hi_to"
   ]
  },
  {
   "cell_type": "code",
   "execution_count": null,
   "metadata": {},
   "outputs": [],
   "source": [
    "assert say_hi_to(first=\"Bob\") == \"Hi Bob !\"\n",
    "assert say_hi_to(first=\"Bob\", last=\"McBobface\") == \"Hi Bob McBobface!\"\n",
    "assert say_hi_to(first=\"Bob\", last=\"McBobface\", shout=True) == \"HI BOB MCBOBFACE!\"\n",
    "print(\"Success!\")"
   ]
  },
  {
   "cell_type": "markdown",
   "metadata": {},
   "source": [
    "---\n",
    "**Example**: Create a file `make_tone.py` that contains a `make_tone()` function, which, when imported, passes the tests below"
   ]
  },
  {
   "cell_type": "code",
   "execution_count": null,
   "metadata": {},
   "outputs": [],
   "source": [
    "# Solution\n",
    "from make_tone import make_tone"
   ]
  },
  {
   "cell_type": "code",
   "execution_count": null,
   "metadata": {},
   "outputs": [],
   "source": [
    "assert make_tone(frequency=700).secs== 0.3\n",
    "assert make_tone(duration=1).sound==300\n",
    "print(\"Success!\")\n"
   ]
  },
  {
   "cell_type": "markdown",
   "metadata": {},
   "source": [
    "---\n",
    "**Example**: Add a `make_and_play_tone()` function to `make_tone.py` which, when imported, passes the tests below"
   ]
  },
  {
   "cell_type": "code",
   "execution_count": null,
   "metadata": {},
   "outputs": [],
   "source": [
    "# Solution\n",
    "from make_tone import make_and_play_tone"
   ]
  },
  {
   "cell_type": "code",
   "execution_count": null,
   "metadata": {},
   "outputs": [],
   "source": [
    "assert make_and_play_tone(3000, duration=0.2, play=True).statusDetailed[\"State\"] == 1\n",
    "assert make_and_play_tone(frequency=500, duration=0.2).statusDetailed[\"State\"] == 0\n",
    "print(\"Success!\")"
   ]
  },
  {
   "cell_type": "markdown",
   "metadata": {},
   "source": [
    "---\n",
    "**Example**: Create a file `keys.py` that contains a `wait_three_keys()` function, which, when imported, passes the tests below"
   ]
  },
  {
   "cell_type": "code",
   "execution_count": null,
   "metadata": {},
   "outputs": [],
   "source": [
    "# Solution\n",
    "from keys import wait_three_keys"
   ]
  },
  {
   "cell_type": "code",
   "execution_count": null,
   "metadata": {},
   "outputs": [],
   "source": [
    "with Window() as win:\n",
    "    assert wait_three_keys(\"space\", \"space\", \"space\") == (\"space\", \"space\", \"space\")\n",
    "    assert wait_three_keys(\"a\", \"b\", \"c\") == (\"a\", \"b\", \"c\")\n",
    "print(\"Success!\")"
   ]
  },
  {
   "cell_type": "markdown",
   "metadata": {},
   "source": [
    "## 4. Type Hints\n",
    "\n",
    "Activate type checking in VSCode"
   ]
  },
  {
   "cell_type": "code",
   "execution_count": null,
   "metadata": {},
   "outputs": [],
   "source": [
    "from typing import Literal, Any, Dict, Union"
   ]
  },
  {
   "cell_type": "markdown",
   "metadata": {},
   "source": [
    "**Exercise** Add type hints to `find_primes` to indicate the types of the input and returned values"
   ]
  },
  {
   "cell_type": "code",
   "execution_count": null,
   "metadata": {},
   "outputs": [],
   "source": [
    "def find_primes(start, stop):\n",
    "    primes=[]\n",
    "    for i in range(start, stop):\n",
    "        is_prime = True\n",
    "        for j in range(2,int(i/2)):\n",
    "            if i%j == 0:\n",
    "                is_prime = False\n",
    "        if is_prime:\n",
    "            primes.append(i)\n",
    "    return primes"
   ]
  },
  {
   "cell_type": "code",
   "execution_count": null,
   "metadata": {},
   "outputs": [],
   "source": [
    "# Solution\n",
    "def find_primes(start:int, stop:int) -> list:\n",
    "    primes=[]\n",
    "    for i in range(start, stop):\n",
    "        is_prime = True\n",
    "        for j in range(2,int(i/2)):\n",
    "            if i%j == 0:\n",
    "                is_prime = False\n",
    "        if is_prime:\n",
    "            primes.append(i)\n",
    "    return primes"
   ]
  },
  {
   "cell_type": "markdown",
   "metadata": {},
   "source": [
    "**Exercise**: Include type hints to `say_hi_to()` to indictate the type of each variable and the type of the returned value"
   ]
  },
  {
   "cell_type": "code",
   "execution_count": null,
   "metadata": {},
   "outputs": [],
   "source": [
    "def say_hi_to(first, last=\"\", do_print=False):\n",
    "    text = \"Hi\" + \" \" + first + \" \" + last + \"!\"\n",
    "    if print:\n",
    "        print(text)\n",
    "    else:\n",
    "        return text"
   ]
  },
  {
   "cell_type": "code",
   "execution_count": null,
   "metadata": {},
   "outputs": [],
   "source": [
    "# Solution\n",
    "def say_hi_to(first:str, last:str=\"\", do_print:bool=False)->str:\n",
    "    text = \"Hi\" + \" \" + first + \" \" + last + \"!\"\n",
    "    if print:\n",
    "        print(text)\n",
    "    else:\n",
    "        return text"
   ]
  },
  {
   "cell_type": "markdown",
   "metadata": {},
   "source": [
    "**Exercise** Use the `Literal` type to indicate that a tr"
   ]
  },
  {
   "cell_type": "code",
   "execution_count": null,
   "metadata": {},
   "outputs": [],
   "source": [
    "def wait_key(key=Literal[\"left\", \"right\"], timed:bool=False)->Literal[\"left\", \"right\"]:\n",
    "    keys = waitKeys(keyList=[key], timeStamped=timed)\n",
    "    return keys[0]"
   ]
  },
  {
   "cell_type": "code",
   "execution_count": null,
   "metadata": {},
   "outputs": [],
   "source": [
    "def make_tone(frequency:int, duration:float, play:bool)->int:\n",
    "    tone = Sound(value=frequency, secs=duration)\n",
    "    if play:\n",
    "        tone.play()\n",
    "    else:\n",
    "        return tone.sound"
   ]
  }
 ],
 "metadata": {
  "kernelspec": {
   "display_name": "psychopy",
   "language": "python",
   "name": "python3"
  },
  "language_info": {
   "codemirror_mode": {
    "name": "ipython",
    "version": 3
   },
   "file_extension": ".py",
   "mimetype": "text/x-python",
   "name": "python",
   "nbconvert_exporter": "python",
   "pygments_lexer": "ipython3",
   "version": "3.10.16"
  }
 },
 "nbformat": 4,
 "nbformat_minor": 2
}
