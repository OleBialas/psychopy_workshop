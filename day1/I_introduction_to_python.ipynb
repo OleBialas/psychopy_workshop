{
 "cells": [
  {
   "cell_type": "markdown",
   "metadata": {},
   "source": [
    "## 1. Data Types and Variables\n",
    "\n",
    "### Reference Table\n",
    "| Code                | Description                                                      |\n",
    "| ---                 | ---                                                              |\n",
    "| `x = 3`             | Assign the integer number `3` to the variable `x`                    |\n",
    "| `x = 3.14`          | Assign the floating number `3.14` to the variable `x`                |\n",
    "| `x = \"hi\"`          | Assign the string `\"hi\"` to the variable `x`                         |\n",
    "| `x = True`          | Assign the boolean value `True` to the variable `x`                  |\n",
    "| `type(x)`           | Get the data type of variable `x`                                  |\n",
    "| `int(x)`          | Convert the variable `x` to an integer                             |\n",
    "| `float(x)`        | Convert the variable `x` to a float                                |\n",
    "| `str(x)`          | Convert the variable `x` to a string                               |\n",
    "| `bool(x)`         | Convert the variable `x` to a bool                                 |"
   ]
  }
 ],
 "metadata": {
  "language_info": {
   "name": "python"
  }
 },
 "nbformat": 4,
 "nbformat_minor": 2
}
