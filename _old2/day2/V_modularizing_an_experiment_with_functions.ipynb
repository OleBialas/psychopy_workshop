{
 "cells": [
  {
   "cell_type": "markdown",
   "metadata": {},
   "source": [
    "# Modularizing an Experiment with Functions"
   ]
  },
  {
   "cell_type": "code",
   "execution_count": 62,
   "metadata": {},
   "outputs": [
    {
     "ename": "ImportError",
     "evalue": "cannot import name 'Key' from 'psychopy.hardware.keyboard' (c:\\Users\\olebi\\miniforge3\\envs\\psychopy\\lib\\site-packages\\psychopy\\hardware\\keyboard.py)",
     "output_type": "error",
     "traceback": [
      "\u001b[1;31m---------------------------------------------------------------------------\u001b[0m",
      "\u001b[1;31mImportError\u001b[0m                               Traceback (most recent call last)",
      "Cell \u001b[1;32mIn[62], line 2\u001b[0m\n\u001b[0;32m      1\u001b[0m \u001b[38;5;28;01mfrom\u001b[39;00m \u001b[38;5;21;01mpsychopy\u001b[39;00m\u001b[38;5;21;01m.\u001b[39;00m\u001b[38;5;21;01msound\u001b[39;00m \u001b[38;5;28;01mimport\u001b[39;00m Sound\n\u001b[1;32m----> 2\u001b[0m \u001b[38;5;28;01mfrom\u001b[39;00m \u001b[38;5;21;01mpsychopy\u001b[39;00m\u001b[38;5;21;01m.\u001b[39;00m\u001b[38;5;21;01mhardware\u001b[39;00m\u001b[38;5;21;01m.\u001b[39;00m\u001b[38;5;21;01mkeyboard\u001b[39;00m \u001b[38;5;28;01mimport\u001b[39;00m Keyboard, Key\n\u001b[0;32m      3\u001b[0m Sound(stereo\u001b[38;5;241m=\u001b[39m\u001b[38;5;28;01mFalse\u001b[39;00m);\n",
      "\u001b[1;31mImportError\u001b[0m: cannot import name 'Key' from 'psychopy.hardware.keyboard' (c:\\Users\\olebi\\miniforge3\\envs\\psychopy\\lib\\site-packages\\psychopy\\hardware\\keyboard.py)"
     ]
    }
   ],
   "source": [
    "from psychopy.sound import Sound\n",
    "from psychopy.hardware.keyboard import Keyboard, Key\n",
    "Sound(stereo=False);"
   ]
  },
  {
   "cell_type": "markdown",
   "metadata": {},
   "source": [
    "## 1. Defining Functions\n",
    "\n",
    "### Reference Table\n",
    "|Code | Duration |\n",
    "| ---| ---|\n",
    "|`def add(a,b):` <br> &nbsp;&nbsp;&nbsp;&nbsp; `return a+b` | Define an `add()` function that takes in two parameters `a` and `b` and `return`s their sum\n",
    "|`assert a == b` | Raise an `AssertionError` if `a` is NOT equal to `b`, otherwise do nothing |\n",
    "|`tone = Sound(value=350, secs=0.5)` | Create a `tone` at `350`Hz with a duration of `0.5` seconds |"
   ]
  },
  {
   "cell_type": "markdown",
   "metadata": {},
   "source": [
    "**Example**: Write the `add()` function below, so that running the tests below shows `\"Success!\"`\n"
   ]
  },
  {
   "cell_type": "code",
   "execution_count": null,
   "metadata": {},
   "outputs": [],
   "source": [
    "# Solution\n",
    "def add(a,b):\n",
    "    return a+b"
   ]
  },
  {
   "cell_type": "code",
   "execution_count": null,
   "metadata": {},
   "outputs": [],
   "source": [
    "assert add(2,3) == 5\n",
    "assert add(4,4) == 8\n",
    "print('Success!')"
   ]
  },
  {
   "cell_type": "markdown",
   "metadata": {},
   "source": [
    "**Exercise**: Write the `subtract()` function below, so that running the tests below shows `\"Success!\"`\n"
   ]
  },
  {
   "cell_type": "code",
   "execution_count": null,
   "metadata": {},
   "outputs": [],
   "source": [
    "# Solution\n",
    "def subtract(a, b):\n",
    "    return a-b"
   ]
  },
  {
   "cell_type": "code",
   "execution_count": null,
   "metadata": {},
   "outputs": [],
   "source": [
    "assert subtract(4,1) == 3\n",
    "assert subtract(7,12) == -5\n",
    "print('Success!')"
   ]
  },
  {
   "cell_type": "markdown",
   "metadata": {},
   "source": [
    "**Exercise**: Write the `is_even()` function below, so that running the tests below shows `\"Success!\"`\n"
   ]
  },
  {
   "cell_type": "code",
   "execution_count": null,
   "metadata": {},
   "outputs": [],
   "source": [
    "# Solution\n",
    "def is_odd(a):\n",
    "    return bool(a%2)"
   ]
  },
  {
   "cell_type": "code",
   "execution_count": null,
   "metadata": {},
   "outputs": [],
   "source": [
    "assert is_odd(8) == False\n",
    "assert is_odd(5) == True\n",
    "print('Success!')"
   ]
  },
  {
   "cell_type": "markdown",
   "metadata": {},
   "source": [
    "**Exercise**: Write the `make_list_of_zeros()` function below, so that running the tests below shows `\"Success!\"`\n"
   ]
  },
  {
   "cell_type": "code",
   "execution_count": null,
   "metadata": {},
   "outputs": [],
   "source": [
    "# Solution\n",
    "def make_list_of_zeros(n):\n",
    "    return [0]*n"
   ]
  },
  {
   "cell_type": "code",
   "execution_count": null,
   "metadata": {},
   "outputs": [],
   "source": [
    "assert len(make_list_of_zeros(10)) == 10\n",
    "for z in make_list_of_zeros(5):\n",
    "    assert z == 0\n",
    "print('Success!')"
   ]
  },
  {
   "cell_type": "markdown",
   "metadata": {},
   "source": [
    "**Exercise**: Write the `make_tone()` function below, so that running the tests below shows `\"Success!\"`.<br>(Hint: `Sound(value==800).sound == 800`)\n"
   ]
  },
  {
   "cell_type": "code",
   "execution_count": null,
   "metadata": {},
   "outputs": [],
   "source": [
    "# Solution\n",
    "def make_tone(freq):\n",
    "    return Sound(value=freq)"
   ]
  },
  {
   "cell_type": "code",
   "execution_count": null,
   "metadata": {},
   "outputs": [],
   "source": [
    "assert make_tone(500).sound == 500\n",
    "assert make_tone(1200).sound == 1200\n",
    "print('Success!')"
   ]
  },
  {
   "cell_type": "markdown",
   "metadata": {},
   "source": [
    "**Exercise**: Write the `change_pitch()` function below, so that running the tests below shows `\"Success!\"`"
   ]
  },
  {
   "cell_type": "code",
   "execution_count": null,
   "metadata": {},
   "outputs": [],
   "source": [
    "# Solution\n",
    "def change_pitch(tone, d):\n",
    "    return Sound(value=tone.sound+d)"
   ]
  },
  {
   "cell_type": "code",
   "execution_count": null,
   "metadata": {},
   "outputs": [],
   "source": [
    "tone = Sound(value=700)\n",
    "assert change_pitch(tone, 50).sound == 750\n",
    "assert change_pitch(tone, -100).sound == 600\n",
    "print('Success!')"
   ]
  },
  {
   "cell_type": "markdown",
   "metadata": {},
   "source": [
    "**Exercise**: Write the `cumulative_duration()` function below, so that running the tests below shows `\"Success!\"`"
   ]
  },
  {
   "cell_type": "code",
   "execution_count": null,
   "metadata": {},
   "outputs": [],
   "source": [
    "# Solution\n",
    "def cumulative_duration(sound1, sound2):\n",
    "    return sound1.secs+sound2.secs"
   ]
  },
  {
   "cell_type": "code",
   "execution_count": null,
   "metadata": {},
   "outputs": [],
   "source": [
    "assert cumulative_duration(Sound(secs=1.2), Sound(secs=0.5)) == 1.7\n",
    "assert cumulative_duration(Sound(secs=0.8), Sound(secs=2)) == 2.8"
   ]
  },
  {
   "cell_type": "markdown",
   "metadata": {},
   "source": [
    "# 2. Optional Arguments"
   ]
  },
  {
   "cell_type": "markdown",
   "metadata": {},
   "source": [
    "**Example**: Write the `say_hi_to()` function below, so that running the tests below shows `\"Success!\"`"
   ]
  },
  {
   "cell_type": "code",
   "execution_count": 58,
   "metadata": {},
   "outputs": [],
   "source": [
    "def say_hi_to(first, last=\"\", shout=False):\n",
    "    text = \"Hi\" + \" \" + first + \" \" + last + \"!\"\n",
    "    if shout:\n",
    "        return text.upper()\n",
    "    else:\n",
    "        return text"
   ]
  },
  {
   "cell_type": "code",
   "execution_count": 60,
   "metadata": {},
   "outputs": [
    {
     "name": "stdout",
     "output_type": "stream",
     "text": [
      "Success!\n"
     ]
    }
   ],
   "source": [
    "assert say_hi_to(first=\"Bob\") == \"Hi Bob !\"\n",
    "assert say_hi_to(first=\"Bob\", last=\"McBobface\") == \"Hi Bob McBobface!\"\n",
    "assert say_hi_to(first=\"Bob\", last=\"McBobface\", shout=True) == \"HI BOB MCBOBFACE!\"\n",
    "print(\"Success!\")"
   ]
  },
  {
   "cell_type": "code",
   "execution_count": null,
   "metadata": {},
   "outputs": [],
   "source": []
  },
  {
   "cell_type": "code",
   "execution_count": null,
   "metadata": {},
   "outputs": [],
   "source": []
  },
  {
   "cell_type": "code",
   "execution_count": 65,
   "metadata": {},
   "outputs": [
    {
     "ename": "KeyboardInterrupt",
     "evalue": "",
     "output_type": "error",
     "traceback": [
      "\u001b[1;31m---------------------------------------------------------------------------\u001b[0m",
      "\u001b[1;31mKeyboardInterrupt\u001b[0m                         Traceback (most recent call last)",
      "Cell \u001b[1;32mIn[65], line 2\u001b[0m\n\u001b[0;32m      1\u001b[0m kb \u001b[38;5;241m=\u001b[39m Keyboard()\n\u001b[1;32m----> 2\u001b[0m key \u001b[38;5;241m=\u001b[39m \u001b[43mkb\u001b[49m\u001b[38;5;241;43m.\u001b[39;49m\u001b[43mwaitKeys\u001b[49m\u001b[43m(\u001b[49m\u001b[43m)\u001b[49m\n\u001b[0;32m      3\u001b[0m \u001b[38;5;28mtype\u001b[39m(key)\n",
      "File \u001b[1;32mc:\\Users\\olebi\\miniforge3\\envs\\psychopy\\lib\\site-packages\\psychopy\\hardware\\keyboard.py:256\u001b[0m, in \u001b[0;36mKeyboard.waitKeys\u001b[1;34m(self, maxWait, keyList, waitRelease, clear)\u001b[0m\n\u001b[0;32m    254\u001b[0m \u001b[38;5;28;01mdef\u001b[39;00m \u001b[38;5;21mwaitKeys\u001b[39m(\u001b[38;5;28mself\u001b[39m, maxWait\u001b[38;5;241m=\u001b[39m\u001b[38;5;28mfloat\u001b[39m(\u001b[38;5;124m'\u001b[39m\u001b[38;5;124minf\u001b[39m\u001b[38;5;124m'\u001b[39m), keyList\u001b[38;5;241m=\u001b[39m\u001b[38;5;28;01mNone\u001b[39;00m, waitRelease\u001b[38;5;241m=\u001b[39m\u001b[38;5;28;01mTrue\u001b[39;00m,\n\u001b[0;32m    255\u001b[0m              clear\u001b[38;5;241m=\u001b[39m\u001b[38;5;28;01mTrue\u001b[39;00m):\n\u001b[1;32m--> 256\u001b[0m     \u001b[38;5;28;01mreturn\u001b[39;00m \u001b[38;5;28;43mself\u001b[39;49m\u001b[38;5;241;43m.\u001b[39;49m\u001b[43mdevice\u001b[49m\u001b[38;5;241;43m.\u001b[39;49m\u001b[43mwaitKeys\u001b[49m\u001b[43m(\u001b[49m\n\u001b[0;32m    257\u001b[0m \u001b[43m        \u001b[49m\u001b[43mmaxWait\u001b[49m\u001b[38;5;241;43m=\u001b[39;49m\u001b[43mmaxWait\u001b[49m\u001b[43m,\u001b[49m\u001b[43m \u001b[49m\u001b[43mkeyList\u001b[49m\u001b[38;5;241;43m=\u001b[39;49m\u001b[43mkeyList\u001b[49m\u001b[43m,\u001b[49m\u001b[43m \u001b[49m\u001b[43mwaitRelease\u001b[49m\u001b[38;5;241;43m=\u001b[39;49m\u001b[43mwaitRelease\u001b[49m\u001b[43m,\u001b[49m\n\u001b[0;32m    258\u001b[0m \u001b[43m        \u001b[49m\u001b[43mclear\u001b[49m\u001b[38;5;241;43m=\u001b[39;49m\u001b[43mclear\u001b[49m\n\u001b[0;32m    259\u001b[0m \u001b[43m    \u001b[49m\u001b[43m)\u001b[49m\n",
      "File \u001b[1;32mc:\\Users\\olebi\\miniforge3\\envs\\psychopy\\lib\\site-packages\\psychopy\\hardware\\keyboard.py:726\u001b[0m, in \u001b[0;36mKeyboardDevice.waitKeys\u001b[1;34m(self, maxWait, keyList, waitRelease, clear)\u001b[0m\n\u001b[0;32m    724\u001b[0m         \u001b[38;5;28;01mreturn\u001b[39;00m keys\n\u001b[0;32m    725\u001b[0m     psychopy\u001b[38;5;241m.\u001b[39mclock\u001b[38;5;241m.\u001b[39m_dispatchWindowEvents()  \u001b[38;5;66;03m# prevent \"app is not responding\"\u001b[39;00m\n\u001b[1;32m--> 726\u001b[0m     \u001b[43mtime\u001b[49m\u001b[38;5;241;43m.\u001b[39;49m\u001b[43msleep\u001b[49m\u001b[43m(\u001b[49m\u001b[38;5;241;43m0.00001\u001b[39;49m\u001b[43m)\u001b[49m\n\u001b[0;32m    728\u001b[0m logging\u001b[38;5;241m.\u001b[39mdata(\u001b[38;5;124m'\u001b[39m\u001b[38;5;124mNo keypress (maxWait exceeded)\u001b[39m\u001b[38;5;124m'\u001b[39m)\n\u001b[0;32m    729\u001b[0m \u001b[38;5;28;01mreturn\u001b[39;00m \u001b[38;5;28;01mNone\u001b[39;00m\n",
      "\u001b[1;31mKeyboardInterrupt\u001b[0m: "
     ]
    }
   ],
   "source": [
    "kb = Keyboard()\n",
    "key = kb.waitKeys()\n",
    "type(key)"
   ]
  },
  {
   "cell_type": "code",
   "execution_count": null,
   "metadata": {},
   "outputs": [],
   "source": [
    "def wait_keys(key_list=None):\n",
    "    kb = Keyboard(keylist=key_list)\n",
    "    \n",
    "    "
   ]
  }
 ],
 "metadata": {
  "kernelspec": {
   "display_name": "psychopy",
   "language": "python",
   "name": "python3"
  },
  "language_info": {
   "codemirror_mode": {
    "name": "ipython",
    "version": 3
   },
   "file_extension": ".py",
   "mimetype": "text/x-python",
   "name": "python",
   "nbconvert_exporter": "python",
   "pygments_lexer": "ipython3",
   "version": "3.10.16"
  }
 },
 "nbformat": 4,
 "nbformat_minor": 2
}
