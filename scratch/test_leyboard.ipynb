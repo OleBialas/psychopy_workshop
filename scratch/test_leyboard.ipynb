{
 "cells": [
  {
   "cell_type": "code",
   "execution_count": 11,
   "metadata": {},
   "outputs": [],
   "source": [
    "import argparse"
   ]
  },
  {
   "cell_type": "code",
   "execution_count": null,
   "metadata": {},
   "outputs": [
    {
     "data": {
      "text/plain": [
       "[<KeyPress: t=93.58422565460205, value=9, duration=0.06229734420776367>]"
      ]
     },
     "execution_count": 6,
     "metadata": {},
     "output_type": "execute_result"
    }
   ],
   "source": [
    "from psychopy.hardware import keyboard\n",
    "keyboard.Keyboard().waitKeys()\n"
   ]
  },
  {
   "cell_type": "code",
   "execution_count": 10,
   "metadata": {},
   "outputs": [
    {
     "name": "stdout",
     "output_type": "stream",
     "text": [
      "Help on function waitKeys in module psychopy.hardware.keyboard:\n",
      "\n",
      "waitKeys(self, maxWait=inf, keyList=None, waitRelease=True, clear=True)\n",
      "\n"
     ]
    }
   ],
   "source": [
    "help(keyboard.Keyboard.waitKeys)"
   ]
  },
  {
   "cell_type": "code",
   "execution_count": 9,
   "metadata": {},
   "outputs": [],
   "source": [
    "\n",
    "from psychopy.hardware import keyboard\n",
    "keyboard.Keyboard().waitKeys(maxWait=3) "
   ]
  },
  {
   "cell_type": "code",
   "execution_count": null,
   "metadata": {},
   "outputs": [],
   "source": [
    "parser = argparse.ArgumentParser()\n",
    "parser.add_argument('--yes', default='y')\n",
    "parser.add_argument('--no', default='n')\n",
    "args = parser.parse_args(args=[])\n",
    "keyboard.Keyboard().waitKeys(keyList=[args.yes, args.no])"
   ]
  }
 ],
 "metadata": {
  "kernelspec": {
   "display_name": "Python 3",
   "language": "python",
   "name": "python3"
  },
  "language_info": {
   "codemirror_mode": {
    "name": "ipython",
    "version": 3
   },
   "file_extension": ".py",
   "mimetype": "text/x-python",
   "name": "python",
   "nbconvert_exporter": "python",
   "pygments_lexer": "ipython3",
   "version": "3.9.20"
  }
 },
 "nbformat": 4,
 "nbformat_minor": 2
}
