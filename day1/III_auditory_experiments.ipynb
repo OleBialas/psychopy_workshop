{
 "cells": [
  {
   "cell_type": "markdown",
   "metadata": {},
   "source": [
    "# III Introduction to PsychoPy\n"
   ]
  },
  {
   "cell_type": "code",
   "execution_count": null,
   "metadata": {},
   "outputs": [],
   "source": [
    "import numpy as np\n",
    "from psychopy import core, sound, visual\n",
    "from psychopy.hardware import keyboard\n",
    "import psychtoolbox as ptb\n"
   ]
  },
  {
   "cell_type": "markdown",
   "metadata": {},
   "source": [
    "## 1. Recoding responses\n",
    "\n",
    "| Code                                       | Description                                                               |\n",
    "| ---                                        | ---                                                                       |\n",
    "| `clock = core.Clock()`                     | Initialize a clock to keep time                                           |\n",
    "| `clock.reset()`                            | Reset the timer to zero                                                   |\n",
    "| `keys = event.getKeys(keyList=[\"O\", \"K\"])` | Return a list of all pressed keys that appear in `keyList`                |\n",
    "| `keys = event.waitKeys(maxWait=5)`         | Wait until a key was pressed or `maxWait` passed                          |\n",
    "| `keys = event.waitKeys(timeStamped=clock)` | Use an instance of `Clock` to time stamp the keypress                     |\n"
   ]
  },
  {
   "cell_type": "code",
   "execution_count": null,
   "metadata": {},
   "outputs": [
    {
     "name": "stdout",
     "output_type": "stream",
     "text": [
      "1.27333402633667\n"
     ]
    }
   ],
   "source": [
    "# Create an instance of the Keyboard class and wait for an keypress\n",
    "\n",
    "# Solution\n",
    "kb = keyboard.Keyboard()"
   ]
  },
  {
   "cell_type": "code",
   "execution_count": 14,
   "metadata": {},
   "outputs": [
    {
     "name": "stdout",
     "output_type": "stream",
     "text": [
      "<class 'list'>\n",
      "<class 'psychopy.hardware.keyboard.KeyPress'>\n"
     ]
    }
   ],
   "source": [
    "# Get all keys that have been pressed. What is the type of the returned data?\n",
    "\n",
    "# Solution\n",
    "keys = kb.getKeys()\n",
    "print(type(keys))\n",
    "print(type(keys[0]))"
   ]
  },
  {
   "cell_type": "code",
   "execution_count": null,
   "metadata": {},
   "outputs": [
    {
     "data": {
      "text/plain": [
       "[]"
      ]
     },
     "execution_count": 12,
     "metadata": {},
     "output_type": "execute_result"
    }
   ],
   "source": [
    "# Clear the keyboard buffer before getting the keys\n",
    "\n",
    "# Solution\n",
    "kb.clearEvents()\n",
    "kb.getKeys()"
   ]
  },
  {
   "cell_type": "code",
   "execution_count": null,
   "metadata": {},
   "outputs": [],
   "source": [
    "# Wait for a key press\n",
    "\n",
    "# Solution\n",
    "kb.waitKeys()"
   ]
  },
  {
   "cell_type": "code",
   "execution_count": null,
   "metadata": {},
   "outputs": [
    {
     "name": "stdout",
     "output_type": "stream",
     "text": [
      "left\n"
     ]
    }
   ],
   "source": [
    "# Wait for a press of the left or right arrow key. Print the name of the returned key.\n",
    "\n",
    "# Solution\n",
    "keys = kb.waitKeys(keyList=[\"left\", \"right\"])\n",
    "print(keys[0].name)"
   ]
  },
  {
   "cell_type": "code",
   "execution_count": null,
   "metadata": {},
   "outputs": [
    {
     "name": "stdout",
     "output_type": "stream",
     "text": [
      "None\n"
     ]
    }
   ],
   "source": [
    "# Wait for a key press for, at maximum, 3 seconds. What is returned when 3 seconds pass without a key being pressed?\n",
    "\n",
    "# Solution\n",
    "keys = kb.waitKeys(maxWait=3)\n",
    "print(keys)"
   ]
  },
  {
   "cell_type": "code",
   "execution_count": 20,
   "metadata": {},
   "outputs": [
    {
     "name": "stdout",
     "output_type": "stream",
     "text": [
      "1395.6969585418701\n"
     ]
    }
   ],
   "source": [
    "# Wait for a key press and print the reaction time.\n",
    "\n",
    "# Solution\n",
    "keys = kb.waitKeys()\n",
    "print(keys[0].rt)"
   ]
  },
  {
   "cell_type": "code",
   "execution_count": null,
   "metadata": {},
   "outputs": [],
   "source": [
    "# Reset the keyboard clock, then wait for a key press and print the reaction time\n",
    "\n",
    "# Solution\n",
    "kb.clock.reset()\n",
    "keys = kb.waitKeys()\n",
    "print(keys[0].rt)"
   ]
  },
  {
   "cell_type": "markdown",
   "metadata": {},
   "source": [
    "## 2. Playing Sounds\n",
    "\n",
    "| Code                                | Description                                           |\n",
    "| ---                                 | ---                                                   |\n",
    "| `tone = sound.Sound(\"A\", secs=0.5)` | Generate an A note that lasts 500 ms                  |\n",
    "| `tone.play(when=now+0.5)`           | Schedule sound to play exactly 500 ms from now        |\n",
    "| `tone.play(loop=3)`                 | Play the sound and repeat it in a loop                |\n",
    "| `tone.stop`                         | Stop the playback of the sound                        |\n",
    "| `tone.sndArray`                     | Attribute containing the sound values                 |\n",
    "| `tone.setSound(x)`                  | Replace the content of `.sndArray` with the array `x` |\n",
    "| `now = ptb.GetSecs()`               | Get time stamp from the PsychToolBox clock            |\n"
   ]
  },
  {
   "cell_type": "code",
   "execution_count": null,
   "metadata": {},
   "outputs": [],
   "source": [
    "# Print the information about your sound device(s)\n",
    "\n",
    "# Solution\n",
    "sound.getDevices()"
   ]
  },
  {
   "cell_type": "code",
   "execution_count": 7,
   "metadata": {},
   "outputs": [],
   "source": [
    "# Play an 'A' note for 0.5 seconds\n",
    "\n",
    "# Solution\n",
    "tone = sound.Sound(\"A\", secs=0.5, stereo=False)\n",
    "tone.play()"
   ]
  },
  {
   "cell_type": "code",
   "execution_count": null,
   "metadata": {},
   "outputs": [],
   "source": [
    "# Lower the volume of the tone to 0.2 before playing it\n",
    "\n",
    "# Solution\n",
    "tone = sound.Sound(\"A\", secs=0.5, stereo=False)\n",
    "tone.setVolume"
   ]
  },
  {
   "cell_type": "code",
   "execution_count": null,
   "metadata": {},
   "outputs": [],
   "source": [
    "# Play the notes A B and C in sequence (you may use a for loop). Make sure the sounds do not overlap.\n",
    "\n",
    "# Solution\n",
    "for note in [\"A\", \"B\", \"C\"]:\n",
    "    print(note)\n",
    "    tone = sound.Sound(note, secs=0.5)\n",
    "    tone.play()\n",
    "    core.wait(0.5)"
   ]
  },
  {
   "cell_type": "code",
   "execution_count": null,
   "metadata": {},
   "outputs": [],
   "source": [
    "# Change sound level"
   ]
  },
  {
   "cell_type": "code",
   "execution_count": null,
   "metadata": {},
   "outputs": [],
   "source": [
    "# Play the Gaussian noise signal defined below\n",
    "\n",
    "secs = 1\n",
    "samplerate = 48000\n",
    "signal =  np.random.randn(secs*samplerate)\n",
    "\n",
    "# Solution\n",
    "noise = sound.Sound()\n",
    "noise.setSound(signal)\n",
    "noise.play()"
   ]
  },
  {
   "cell_type": "code",
   "execution_count": null,
   "metadata": {},
   "outputs": [],
   "source": [
    "# Generate a sound object that contains 1 second of white noise and play it in a loop 5 times.\n",
    "# Play a tone 1 second after the noise started\n",
    "\n",
    "# Solution\n",
    "noise = sound.Sound()\n",
    "noise.setSound(np.random.randn(48000))\n",
    "tone = sound.Sound()\n",
    "noise.play(loops=5)\n",
    "core.wait(1)\n",
    "tone.play()"
   ]
  },
  {
   "cell_type": "code",
   "execution_count": null,
   "metadata": {},
   "outputs": [],
   "source": [
    "# Repeat the above exercise but schedule the tone so that it plays EXACTLY 0.5 seconds after the noise onset.\n",
    "\n",
    "# Solution\n",
    "noise = sound.Sound()\n",
    "noise.setSound(np.random.randn(48000))\n",
    "tone = sound.Sound()\n",
    "now = ptb.GetSecs()\n",
    "tone.play(when=now+0.5)\n",
    "noise.play(loops=5)\n",
    "core.wait(1)\n",
    "tone.play()\n"
   ]
  },
  {
   "cell_type": "markdown",
   "metadata": {},
   "source": [
    "## 3. Running an Auditory Experiment\n",
    "\n",
    "### Reference table\n",
    "| Code                                   | Description                                     |\n",
    "| ---                                    | ---                                             |\n",
    "| `parser = argparse.ArgumentParser()`   | Create a parser for command line arguments      |\n",
    "| `parser.add_argument(\"--id\" type=int)` | Add a argument called \"id\" of type int          |\n",
    "| `args = parser.parse_args()`           | Parse the command line input                    |\n",
    "| `args.id`                              | Value passed to the \"id\" argument               |\n",
    "| `python experiment.py --id 7`               | Run \"experiment.py\" and pass 7 to the \"id\" argument |"
   ]
  },
  {
   "cell_type": "code",
   "execution_count": null,
   "metadata": {},
   "outputs": [],
   "source": [
    "# In same folder as this notebook, you'll find a program called audiogram.py\n",
    "# Run this cell to view the documentation of that program\n",
    "\n",
    "!python audiogram.py -h"
   ]
  },
  {
   "cell_type": "code",
   "execution_count": null,
   "metadata": {},
   "outputs": [],
   "source": [
    "# Run the audiogram with a 800 Hz tone\n",
    "\n",
    "# Solution\n",
    "!python pure_tone_audiogram.py 800"
   ]
  },
  {
   "cell_type": "code",
   "execution_count": null,
   "metadata": {},
   "outputs": [],
   "source": [
    "# Add a new command line argument for starting intensity"
   ]
  },
  {
   "cell_type": "code",
   "execution_count": null,
   "metadata": {},
   "outputs": [],
   "source": [
    "# Add a new command line argument for subject id and indclude the ID in the printed reuslt"
   ]
  },
  {
   "cell_type": "code",
   "execution_count": null,
   "metadata": {},
   "outputs": [],
   "source": [
    "# Include an optional flag for stereo sound"
   ]
  },
  {
   "cell_type": "code",
   "execution_count": null,
   "metadata": {},
   "outputs": [],
   "source": [
    "# Write a new program with a CLI called \"say_hi_to.py\".\n",
    "# This program should take in two arguments, a first and last name, and print:\n",
    "# \"Hi <first name> <last name>\"\n",
    "# Add an optional shout flag that, which included, makes the program print only upper case letters"
   ]
  }
 ],
 "metadata": {
  "kernelspec": {
   "display_name": "Python 3",
   "language": "python",
   "name": "python3"
  },
  "language_info": {
   "codemirror_mode": {
    "name": "ipython",
    "version": 3
   },
   "file_extension": ".py",
   "mimetype": "text/x-python",
   "name": "python",
   "nbconvert_exporter": "python",
   "pygments_lexer": "ipython3",
   "version": "3.9.20"
  }
 },
 "nbformat": 4,
 "nbformat_minor": 2
}
