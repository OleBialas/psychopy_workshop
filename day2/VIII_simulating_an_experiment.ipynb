{
 "cells": [
  {
   "cell_type": "markdown",
   "metadata": {},
   "source": [
    "# VIII. Automating your Experiment"
   ]
  },
  {
   "cell_type": "code",
   "execution_count": 1,
   "metadata": {},
   "outputs": [],
   "source": [
    "from unittest.mock import Mock, patch\n",
    "import random\n",
    "from psychopy import core, visual, sound\n",
    "from psychopy.hardware import keyboard\n",
    "import pytest\n",
    "import ipytest\n",
    "ipytest.autoconfig()"
   ]
  },
  {
   "cell_type": "markdown",
   "metadata": {},
   "source": [
    "## 1. Mocking and Patching\n",
    "\n",
    "Mocking and patching are complementary techniques for replacing components of your code with simulations. <br>\n",
    "A `Mock` is a special object that simulates a specific behavior and provides a predetermined response.<br>\n",
    "Patching is the mechanism that lets you temporarily replace specific parts of you code with mocks.<br>\n",
    "Think of mocking as creating a stand-in actor, while patching is placing that actor on stage at the right moment.<br>\n",
    "For example, if you have code that reads from a file, you can create a mock object that simulates file operations.<br>\n",
    "Now, you can use patching to temporarily replace Python's built-in `open` function with your mock. <br>\n",
    "This combination lets you control exactly what \"happens\" when your code runs without actually interacting with the real file system."
   ]
  },
  {
   "cell_type": "code",
   "execution_count": 6,
   "metadata": {},
   "outputs": [],
   "source": [
    "# Use patching to call `roll_dice` and make sure it returns 6\n",
    "\n",
    "def roll_dice():\n",
    "    return random.randint(1, 6)\n",
    "\n",
    "# Solution\n",
    "with patch('random.randint', return_value=42):\n",
    "    result = roll_dice()"
   ]
  },
  {
   "cell_type": "code",
   "execution_count": null,
   "metadata": {},
   "outputs": [
    {
     "name": "stdout",
     "output_type": "stream",
     "text": [
      "2\n"
     ]
    }
   ],
   "source": [
    "# Call the function `count_letters` to count the number of letters in the word \"hello\".\n",
    "# Then use patching to replace `len` with `vowel_len` to only count the vowels.\n",
    "# TIPP: the `len` function must be addressed as `'builtin.len`.\n",
    "\n",
    "def count_letters(text):\n",
    "    return len(text)\n",
    "\n",
    "def vowel_len(text):\n",
    "    return sum(1 for char in text if char.lower() in 'aeiou')\n",
    "\n",
    "# Solution\n",
    "with patch('builtins.len', vowel_len):\n",
    "    print(count_letters(\"hello\"))  # Shows only vowel count"
   ]
  },
  {
   "cell_type": "code",
   "execution_count": null,
   "metadata": {},
   "outputs": [],
   "source": [
    "# Define a function that does nothing and \n",
    "\n",
    "def say_hi_to(name):\n",
    "    print(\"Hi \" + name)\n",
    "\n",
    "# Solution:\n",
    "def do_nothing(text):\n",
    "    return\n",
    "\n",
    "with patch('builtins.print', do_nothing):\n",
    "    say_hi_to(\"Ada\")\n",
    "    "
   ]
  },
  {
   "cell_type": "code",
   "execution_count": null,
   "metadata": {},
   "outputs": [],
   "source": [
    "# What are the contents and data type of the `.aspect` attribute of the mock window defined below?\n",
    "# Call the mock window's `.flip()` method. What are the contents and data type of the returned value \n",
    "\n",
    "mock_win = Mock(spec=visual.Window)\n",
    "\n",
    "# Solution\n",
    "print(type(mock_win.aspect))\n",
    "x = mock_win.flip()\n",
    "print(type(x))"
   ]
  },
  {
   "cell_type": "code",
   "execution_count": null,
   "metadata": {},
   "outputs": [],
   "source": [
    "# Use the mock window to draw a Circle. What does the resulting error message tell you about the mock window?\n",
    "\n",
    "# Solution\n",
    "mock_win = Mock(spec=visual.Window)\n",
    "rect = visual.Rect(mock_win)"
   ]
  },
  {
   "cell_type": "code",
   "execution_count": null,
   "metadata": {},
   "outputs": [],
   "source": [
    "# Create a Mock for PsychoPy's `Keyboard` class and use the Mock key defined below as return value for the `getKeys` function.\n",
    "# Call the `getKeys`\n",
    "\n",
    "key = Mock(spec=keyboard.KeyPress)\n",
    "key.name = \"left\"\n",
    "key.rt = 0.5\n",
    "\n",
    "# Solution\n",
    "mock_kb = Mock(spec=keyboard.Keyboard)\n",
    "mock_kb.getKeys.return_value = [key]\n",
    "response = mock_kb.getKeys()\n",
    "print(f\"Reaction time: {response[0].rt}\")\n",
    "print(f\"Key pressed: {response[0].name}\")"
   ]
  },
  {
   "cell_type": "code",
   "execution_count": null,
   "metadata": {},
   "outputs": [
    {
     "name": "stdout",
     "output_type": "stream",
     "text": [
      "The played tone was a A\n",
      "Your guess was B\n",
      "Your reaction time was 0.14976930001366406\n"
     ]
    }
   ],
   "source": [
    "# Replace the Keyboard with a Mock where the waitKeys method is replaced with the `mock_waitKeys` function defined below\n",
    "# Then, call `guess_note` to make sure it runs without you having to press a key\n",
    "\n",
    "kb = keyboard.Keyboard()\n",
    "\n",
    "def guess_note():\n",
    "    note = random.choice([\"A\", \"B\", \"C\"])\n",
    "    tone = sound.Sound(note, secs=0.1, stereo=True)\n",
    "    kb.clock.reset()\n",
    "    tone.play()\n",
    "    keys = kb.waitKeys(keyList=[\"a\", \"b\", \"c\"])\n",
    "    print(\"The played tone was a \" + note)\n",
    "    print(\"Your guess was \" + keys[0].name.upper())\n",
    "    print(\"Your reaction time was \" + str(keys[0].rt))\n",
    "\n",
    "def mock_waitKeys(keyList):\n",
    "\n",
    "    key = Mock(spec=keyboard.KeyPress)\n",
    "    key.name = random.choice(keyList)\n",
    "    key.rt = random.random()\n",
    "    keys = [key]\n",
    "    return keys\n",
    "\n",
    "# Solution\n",
    "kb = Mock(spec=keyboard.Keyboard)\n",
    "kb.waitKeys = mock_waitKeys\n",
    "guess_note()\n"
   ]
  },
  {
   "cell_type": "code",
   "execution_count": null,
   "metadata": {},
   "outputs": [
    {
     "name": "stdout",
     "output_type": "stream",
     "text": [
      "The played tone was a B\n",
      "Your guess was C\n",
      "Your reaction time was 0.5764683617919284\n"
     ]
    }
   ],
   "source": [
    "# Repeat the same task. However, because the Keyboard is now defined within the `guess_note` function,\n",
    "#  you will have to use patching to replace the `Keyboard` class within the function with the mockwith patch.\n",
    "\n",
    "def guess_note():\n",
    "    kb = keyboard.Keyboard()\n",
    "    note = random.choice([\"A\", \"B\", \"C\"])\n",
    "    tone = sound.Sound(note, secs=0.1, stereo=True)\n",
    "    kb.clock.reset()\n",
    "    tone.play()\n",
    "    keys = kb.waitKeys(keyList=[\"a\", \"b\", \"c\"])\n",
    "    print(\"The played tone was a \" + note)\n",
    "    print(\"Your guess was \" + keys[0].name.upper())\n",
    "    print(\"Your reaction time was \" + str(keys[0].rt))\n",
    "\n",
    "def mock_waitKeys(keyList):\n",
    "\n",
    "    key = Mock(spec=keyboard.KeyPress)\n",
    "    key.name = random.choice(keyList)\n",
    "    key.rt = random.random()\n",
    "    keys = [key]\n",
    "    return keys\n",
    "\n",
    "# Solution\n",
    "kb = Mock(spec=keyboard.Keyboard)\n",
    "kb.waitKeys = mock_waitKeys\n",
    "with patch('psychopy.hardware.keyboard.Keyboard', return_value=kb):\n",
    "    guess_note()"
   ]
  },
  {
   "cell_type": "markdown",
   "metadata": {},
   "source": [
    "## 2. Fixtures"
   ]
  },
  {
   "cell_type": "code",
   "execution_count": null,
   "metadata": {},
   "outputs": [],
   "source": [
    "%%ipytest -s\n",
    "# Modify the code blow so the `test_something` function uses the `announce` fixture.\n",
    "# Then, run the cell and observe the output.\n",
    "# Remove the yield keyword --- how does that change the output and what does that tell you about how yield works?\n",
    "\n",
    "@pytest.fixture\n",
    "def announce():\n",
    "    print(\"Starting...\")\n",
    "    yield 42\n",
    "    print(\"Cleanup...\")\n",
    "\n",
    "def test_something():\n",
    "    print(\"Working...\")\n",
    "\n",
    "\n",
    "# Solution\n",
    "def test_something(announce):\n",
    "    print(\"Working...\")\n"
   ]
  },
  {
   "cell_type": "code",
   "execution_count": null,
   "metadata": {},
   "outputs": [],
   "source": [
    "%%ipytest -s\n",
    "# Modify the `test_something` function so that it uses the `announce` fixture and prints out the value yielded by announce\n",
    "\n",
    "@pytest.fixture\n",
    "def announce():\n",
    "    print(\"Starting...\")\n",
    "    yield 42\n",
    "    print(\"Cleanup...\")\n",
    "\n",
    "def test_something():\n",
    "    print(\"Working...\")\n",
    "\n",
    "# Solution\n",
    "\n",
    "def test_something(announce):\n",
    "    print(announce)\n",
    "    print(\"Working...\")\n",
    " \n"
   ]
  },
  {
   "cell_type": "code",
   "execution_count": null,
   "metadata": {},
   "outputs": [],
   "source": [
    "%%ipytest -s\n",
    "# Modify the code blow so the `test_something` function uses the `announce1`  and `announce2` fixtures.\n",
    "# what determines the order in which the \"Starting\" and \"Cleanup\" messages of the fixtures\n",
    "# TIPP: When patching, the Keyboard class, you must use its full import Path `psychopy.hardware.keyboard.Keyboard`\n",
    "\n",
    "@pytest.fixture\n",
    "def announce1():\n",
    "    print(\"(1) Starting...\")\n",
    "    yield\n",
    "    print(\"(1) Cleanup...\")\n",
    "\n",
    "@pytest.fixture\n",
    "def announce2():\n",
    "    print(\"(2) Starting...\")\n",
    "    yield\n",
    "    print(\"(2) Cleanup...\")\n",
    "\n",
    "\n",
    "def test_something():\n",
    "    print(\"Working...\")\n",
    "\n",
    "\n",
    "# Solution\n",
    "def test_something(announce1, announce2):\n",
    "    print(\"Working...\")\n",
    "    print(announce)\n"
   ]
  },
  {
   "cell_type": "code",
   "execution_count": null,
   "metadata": {},
   "outputs": [
    {
     "name": "stdout",
     "output_type": "stream",
     "text": [
      "\u001b[32m.\u001b[0m\n",
      "\u001b[32m\u001b[32m\u001b[1m1 passed\u001b[0m\u001b[32m in 0.01s\u001b[0m\u001b[0m\n"
     ]
    }
   ],
   "source": [
    "%%ipytest\n",
    "# Write a test function called `test_waitKeys` that uses the `mock_waitKeys` fixture.\n",
    "# This test function should wait for a press of the left or right arrow key and assert that \n",
    "# The name of the returned key is either \"left\" or \"right\" and that the reaction time is below 2 seconds\n",
    "\n",
    "kb = keyboard.Keyboard()\n",
    "\n",
    "def randomKey(self, keyList):\n",
    "    key = Mock(spec=keyboard.KeyPress)\n",
    "    key.rt = random.random()\n",
    "    key.name = random.choice(keyList)\n",
    "    return [key]\n",
    "\n",
    "@pytest.fixture \n",
    "def mock_waitKeys():\n",
    "    with patch('psychopy.hardware.keyboard.Keyboard.waitKeys', randomKey):\n",
    "        yield\n",
    "\n",
    "# Solution\n",
    "def test_waitKeys(mock_waitKeys):\n",
    "    key = kb.waitKeys(keyList=[\"left\", \"right\"])\n",
    "    assert key[0].rt < 2\n",
    "    assert key[0].name in [\"left\", \"right\"]\n",
    "    "
   ]
  },
  {
   "cell_type": "code",
   "execution_count": null,
   "metadata": {},
   "outputs": [
    {
     "name": "stdout",
     "output_type": "stream",
     "text": [
      "\u001b[32m.\u001b[0m\u001b[32m                                                                                            [100%]\u001b[0m\n",
      "\u001b[32m\u001b[32m\u001b[1m1 passed\u001b[0m\u001b[32m in 0.02s\u001b[0m\u001b[0m\n"
     ]
    }
   ],
   "source": [
    "%%ipytest\n",
    "# Write a fixture that uses `patch.object` to replace the window with a mock so that the test runs without ever creating an actual window.\n",
    "\n",
    "def test_window():\n",
    "    win = visual.Window()\n",
    "    win.flip()\n",
    "    win.close()\n",
    "\n",
    "# Solution\n",
    "@pytest.fixture\n",
    "def mock_window():\n",
    "    win = Mock(spec=visual.Window)\n",
    "    with patch(\"psychopy.visual.Window\", return_val=win):\n",
    "        yield\n",
    "    \n",
    "def test_window(mock_window):\n",
    "    win = visual.Window()\n",
    "    win.flip()\n",
    "    win.close()"
   ]
  },
  {
   "cell_type": "code",
   "execution_count": null,
   "metadata": {},
   "outputs": [
    {
     "name": "stdout",
     "output_type": "stream",
     "text": [
      "\u001b[32m.\u001b[0m\u001b[32m                                                                                            [100%]\u001b[0m\n",
      "\u001b[32m\u001b[32m\u001b[1m1 passed\u001b[0m\u001b[32m in 0.63s\u001b[0m\u001b[0m\n"
     ]
    }
   ],
   "source": [
    "%%ipytest\n",
    "\n",
    "# The coce below contains a function that runs a little \"experiment\" where (after a certain delay) a circle shows up and the\n",
    "# participant has react by pressing space as quickly as possible. The function returns the duration from ithe start of the trial\n",
    "# to the time where the key was pressed. Below the function, there are three fixtures to mock the Keyboard, the Window and the\n",
    "# Cirlce that is drawn.\n",
    "# Write a test function for `detect_circle` that uses all three fixtures and asserts that the returned trial duration is correct.\n",
    "\n",
    "def detect_circle(delay):\n",
    "    kb = keyboard.Keyboard()\n",
    "    win = visual.Window()\n",
    "    t_start = core.getTime()\n",
    "    core.wait(delay)\n",
    "    circle = visual.Circle(win, size=0.01, pos=(0,0), fillColor=\"white\")\n",
    "    circle.draw()\n",
    "    win.flip()\n",
    "    kb.waitKeys(keyList = ['space'])\n",
    "    t_stop = core.getTime()\n",
    "    win.close()\n",
    "    return t_stop - t_start\n",
    "\n",
    "\n",
    "@pytest.fixture\n",
    "def mock_Circle():\n",
    "    circle = Mock(spec=visual.Circle)\n",
    "    with patch('psychopy.visual.Circle', return_val=circle):\n",
    "        yield\n",
    "\n",
    "@pytest.fixture\n",
    "def mock_Window():\n",
    "    win = Mock(spec=visual.Window)\n",
    "    with patch('psychopy.visual.Window', return_val=win):\n",
    "        yield\n",
    "\n",
    "@pytest.fixture\n",
    "def mock_Keyboard():\n",
    "    kb = Mock(spec=keyboard.Keyboard)\n",
    "    with patch('psychopy.hardware.keyboard.Keyboard', return_val=kb):\n",
    "        yield\n",
    "\n",
    "# Solution\n",
    "def test_detect_circle(mock_Circle, mock_Window, mock_Keyboard):\n",
    "    delay = 0.6\n",
    "    rt = detect_circle(delay)\n",
    "    assert abs(rt-delay) < 0.015"
   ]
  },
  {
   "cell_type": "markdown",
   "metadata": {},
   "source": [
    "## 3. Analyzing Simulated Data"
   ]
  },
  {
   "cell_type": "code",
   "execution_count": null,
   "metadata": {},
   "outputs": [],
   "source": [
    "# Run a full experiment while mocking the keyboard.\n",
    "# Use this to \"simulate\" several participants and analyze their data to make sure our statistical analysis does not reject the null hypothesis\n",
    "# The purpose of this is to show that you can translate the logic of testing to data analysis as well"
   ]
  }
 ],
 "metadata": {
  "kernelspec": {
   "display_name": "psychopy",
   "language": "python",
   "name": "python3"
  },
  "language_info": {
   "codemirror_mode": {
    "name": "ipython",
    "version": 3
   },
   "file_extension": ".py",
   "mimetype": "text/x-python",
   "name": "python",
   "nbconvert_exporter": "python",
   "pygments_lexer": "ipython3",
   "version": "3.9.20"
  }
 },
 "nbformat": 4,
 "nbformat_minor": 2
}
