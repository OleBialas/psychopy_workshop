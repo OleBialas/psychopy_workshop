{
 "cells": [
  {
   "cell_type": "markdown",
   "metadata": {},
   "source": [
    "## 2. Storing Data in Pandas\n",
    "\n",
    "| Code                                         | Description                                                          |\n",
    "| ---                                          | ---                                                                  |\n",
    "| `[1,2,3] * n`                                | Multiplying a list by an integer `n` will repeat the list n times    |\n",
    "| `df = pd.DataFrame({\"x\":[1,2,3], \"y\":None})` | Create a data frame from a dictionary (the \"y\" column will be empty) |\n",
    "| `df[\"x\"]`                                    | Get the column \"x\"                                                   |\n",
    "| `df.iloc[0, \"x\"]`                            | Get the data frame value in the 1st row in the column \"x\"            |\n",
    "| `df.to_csv(\"table.csv\")`                     | Write the data frame to a file called \"table.csv\"                    |\n",
    "| `for i in df.index:`                         | Iterates the indices (i.e. row numbers) of the data frame            |"
   ]
  },
  {
   "cell_type": "code",
   "execution_count": null,
   "metadata": {},
   "outputs": [],
   "source": [
    "# Create a data frame from this dictionary and print out the first 3 rows.\n",
    "# Try this with and without passing the `trial_nr` as `index`.\n",
    "trials = {\"frequency\": [1000, 800, 1200, 1000, 1200], \"intensity\": [70, 65, 65, 60, 60], \"response\": None}\n",
    "trial_nr = [1, 2, 3, 4, 5]\n",
    "\n",
    "# Solution\n",
    "df = pd.DataFrame(data=trials)\n",
    "df.head(3)\n",
    "df = pd.DataFrame(data=trials, index=trial_nr)\n",
    "df.head(3)"
   ]
  },
  {
   "cell_type": "code",
   "execution_count": null,
   "metadata": {},
   "outputs": [],
   "source": [
    "# create a data frame that for the conditions and durations defined below. \n",
    "# Save the data frame to a csv file called \"trial_durations.csv\".\n",
    "# Try saying it with and without the index and open the respective files in your text editor.\n",
    "# How do they differ?\n",
    "condition = [\"a\", \"b\", \"a\", \"a\", \"c\"]\n",
    "duration = [0.5, 0.6, 0.3, 0.5, 0.6]\n",
    "\n",
    "# Solution\n",
    "df = pd.DataFrame(data={\"condition\":condition, \"duration\":duration})\n",
    "df.to_csv(\"trial_durations.csv\", index=True)\n",
    "df.to_csv(\"trial_durations.csv\", index=False)"
   ]
  },
  {
   "cell_type": "code",
   "execution_count": 36,
   "metadata": {},
   "outputs": [],
   "source": [
    "# In the data frame below, where the `index` represents the trial number, print the `condition` of the 3rd trial.\n",
    "# Set the condition of the last trial to 2\n",
    "\n",
    "df = pd.DataFrame(data={\"is_omitted\": [0, 0, 1, 0, 1, 0], \"condition\":[1, 1, 1, 2, 2, 3]}, index=[1, 2, 3, 4, 5, 6])\n",
    "\n",
    "# Solution\n",
    "print(df.loc[3, \"condition\"])\n",
    "print(df.iloc[2][\"condition\"])  # alternatively\n",
    "df.loc[6, \"condition\"] = 2"
   ]
  },
  {
   "cell_type": "code",
   "execution_count": null,
   "metadata": {},
   "outputs": [],
   "source": [
    "# Append the variables `is_omitted` and `condition` as a new row to the data frame. Print the new, extended, data frame\n",
    "df = pd.DataFrame(data={\"is_omitted\": [0, 0, 1, 0, 1, 0], \"condition\":[1, 1, 1, 2, 2, 3]})\n",
    "is_omitted = 0\n",
    "condition = 3\n",
    "\n",
    "# Solution\n",
    "new_row = pd.DataFrame({\"is_omitted\": [is_omitted], \"condition\":[condition]})\n",
    "df = pd.concat([df, new_row])\n",
    "print(df)"
   ]
  },
  {
   "cell_type": "code",
   "execution_count": null,
   "metadata": {},
   "outputs": [],
   "source": [
    "# Use a for loop to print \"Play frequency f with intensity i\", for the frequency f and intensity i in each row of the data frame below\n",
    "trials = pd.DataFrame({\"frequency\": [800, 1000, 800, 1200, 1000, 1200], \"intensity\": [70, 70, 65, 65, 60, 60]})\n",
    "\n",
    "# Solution\n",
    "for i in trials.index:\n",
    "    f = trials.iloc[i].frequency\n",
    "    i = trials.iloc[i].intensity\n",
    "    print(\"Play frequency \" + str(f) + \" with intensity \" + str(i))"
   ]
  },
  {
   "cell_type": "code",
   "execution_count": null,
   "metadata": {},
   "outputs": [],
   "source": [
    "# Loop through the data frame defined below. \n",
    "# On every iteration, generate a random number and write it to the respective row within the `reaction_time` column.\n",
    "# Print the dataframe with the reaction times.\n",
    "\n",
    "trials = pd.DataFrame({\n",
    "    \"frequency\": [800, 1000, 800, 1200, 1000, 1200],\n",
    "    \"intensity\": [70, 70, 65, 65, 60, 60],\n",
    "    \"reaction_time\": None})\n",
    "\n",
    "# Solution\n",
    "for i in trials.index:\n",
    "    trials.loc[i, \"reaction_times\"] = random.random()\n",
    "print(trials)"
   ]
  },
  {
   "cell_type": "code",
   "execution_count": null,
   "metadata": {},
   "outputs": [],
   "source": [
    "# Repeat the `conditions` so that the resulting list is of length `n_trials`.\n",
    "# Put that list into a data frame with an empty colum for responses.\n",
    "# Shuffle the data frame so the conditions are in random order and write it to a .csv file.\n",
    "# View the that file in you editor\n",
    "\n",
    "conditions = [\"a\", \"b\", \"c\"]\n",
    "n_trials = 12\n",
    "\n",
    "# Solution\n",
    "n_repeat = int(n_trials/len(conditions))\n",
    "df = pd.DataFrame({\"condition\":conditions*n_repeat, \"response\": None})\n",
    "df = df.sample(frac=1, replace=False)\n",
    "df.to_csv(\"randomized_trials.csv\", index=False)"
   ]
  }
 ],
 "metadata": {
  "kernelspec": {
   "display_name": "psychopy",
   "language": "python",
   "name": "python3"
  },
  "language_info": {
   "codemirror_mode": {
    "name": "ipython",
    "version": 3
   },
   "file_extension": ".py",
   "mimetype": "text/x-python",
   "name": "python",
   "nbconvert_exporter": "python",
   "pygments_lexer": "ipython3",
   "version": "3.9.20"
  }
 },
 "nbformat": 4,
 "nbformat_minor": 2
}
