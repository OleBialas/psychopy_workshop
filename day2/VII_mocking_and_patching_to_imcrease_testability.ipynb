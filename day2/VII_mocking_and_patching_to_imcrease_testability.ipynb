{
 "cells": [
  {
   "cell_type": "code",
   "execution_count": 3,
   "metadata": {},
   "outputs": [],
   "source": [
    "from unittest.mock import Mock"
   ]
  },
  {
   "cell_type": "markdown",
   "metadata": {},
   "source": [
    "## Making Code More Testable: Utilizing Mocks and Patches in pytest"
   ]
  },
  {
   "cell_type": "markdown",
   "metadata": {},
   "source": [
    "### Mocking to Create Predictable Behavior\n",
    "\n",
    "| Code | Description |\n",
    "| :- | :- |\n",
    "| **`mock = Mock()`** | Create a Mock() object |\n",
    "| **`mock(1, 2)`** | Call the mock object as though it were **any function you want**. Doesn't actually do anything. |\n",
    "| **`mock.return_value = 5`** | Tell the mock function to always return `5` when called, no matter the inputs. |\n",
    "| **`mock.some_method(3, 5)`** | Call **any method you want** on the mock object. Doesn't actually do anything.|\n",
    "| **`mock.some_method.return_value = 10`** | Tell the `some_method` mock method to always return `10` when called, no matter the inputs. |\n"
   ]
  },
  {
   "cell_type": "markdown",
   "metadata": {},
   "source": [
    "**Exercises**"
   ]
  },
  {
   "cell_type": "markdown",
   "metadata": {},
   "source": [
    "**Example**: Create a `five` Mock object that passes the tests below:"
   ]
  },
  {
   "cell_type": "code",
   "execution_count": null,
   "metadata": {},
   "outputs": [
    {
     "data": {
      "text/plain": [
       "5"
      ]
     },
     "execution_count": 23,
     "metadata": {},
     "output_type": "execute_result"
    }
   ],
   "source": [
    "five = Mock()\n",
    "five.return_value = 5\n"
   ]
  },
  {
   "cell_type": "code",
   "execution_count": 26,
   "metadata": {},
   "outputs": [],
   "source": [
    "assert five(3) == 5\n",
    "assert five(1, 2, 3) == 5\n",
    "assert five('Hi Everyone!') == 5"
   ]
  },
  {
   "cell_type": "markdown",
   "metadata": {},
   "source": [
    "Create a `three` Mock object that passes the tests below:"
   ]
  },
  {
   "cell_type": "code",
   "execution_count": 27,
   "metadata": {},
   "outputs": [],
   "source": [
    "three = Mock()\n",
    "three.return_value = 3\n"
   ]
  },
  {
   "cell_type": "code",
   "execution_count": null,
   "metadata": {},
   "outputs": [],
   "source": [
    "assert three(1, 2, 3) == 3\n",
    "assert three([10, 20]) == 3\n",
    "assert three('two', 'one') == 3"
   ]
  },
  {
   "cell_type": "markdown",
   "metadata": {},
   "source": [
    "Create a `data` Mock object that passes the tests below:"
   ]
  },
  {
   "cell_type": "code",
   "execution_count": 42,
   "metadata": {},
   "outputs": [],
   "source": [
    "data = Mock()\n",
    "data.mean.return_value = 10.5\n",
    "data.std.return_value = 5.2"
   ]
  },
  {
   "cell_type": "code",
   "execution_count": 43,
   "metadata": {},
   "outputs": [],
   "source": [
    "assert data.mean() == 10.5\n",
    "assert data.std() == 5.2"
   ]
  },
  {
   "cell_type": "markdown",
   "metadata": {},
   "source": [
    "The `random` module has functions that are difficult to predict what they will do.  Let's fix that by creating a `random` Mock object that is more predicatable, that passes the tests below:"
   ]
  },
  {
   "cell_type": "code",
   "execution_count": 31,
   "metadata": {},
   "outputs": [],
   "source": [
    "random = Mock()\n",
    "random.randint.return_value = 42\n",
    "random.randfloat.return_value = 3.14"
   ]
  },
  {
   "cell_type": "code",
   "execution_count": 34,
   "metadata": {},
   "outputs": [],
   "source": [
    "assert random.randint() == 42\n",
    "assert random.randint(1, 100) == 42\n",
    "assert random.randfloat() == 3.14"
   ]
  },
  {
   "cell_type": "markdown",
   "metadata": {},
   "source": [
    "The `load(filename)` function from `json` needs a data file in order to work. Let's make it easier to simulate data by creating a `load` Mock object that always gives us a specific simulated dataset:"
   ]
  },
  {
   "cell_type": "code",
   "execution_count": 36,
   "metadata": {},
   "outputs": [],
   "source": [
    "load = Mock()\n",
    "load.return_value = {'a': 3, 'b': 4}"
   ]
  },
  {
   "cell_type": "code",
   "execution_count": 37,
   "metadata": {},
   "outputs": [],
   "source": [
    "assert load() == {'a': 3, 'b': 4}"
   ]
  },
  {
   "cell_type": "markdown",
   "metadata": {},
   "source": [
    "### Mocking to Spy on your Code\n",
    "\n",
    "| **Code** | **Description** |\n",
    "| :-- | :-- |\n",
    "| **`spy = Mock(wraps=print)`** | Wrap the `print()` function, so you can find out how it was called. |\n",
    "| **`args, kwargs = spy.call_args`** | Find out what positional and keyword arguments were used when calling the spy` |\n",
    "| **`spy.assert_called()`** | Raises an `AssertionError` if `spy` was never called. |\n",
    "| **`spy.assert_called_once()`** | Raises an `AssertionError` if `spy` was called more or less than once. |\n",
    "| **`spy.assert_called_with('hello')`** | Raises an `AssertionError` if `spy` was not called with `'hello'` as the input. |\n"
   ]
  },
  {
   "cell_type": "code",
   "execution_count": 18,
   "metadata": {},
   "outputs": [
    {
     "name": "stdout",
     "output_type": "stream",
     "text": [
      "Hello, World\n"
     ]
    },
    {
     "data": {
      "text/plain": [
       "call('Hello, World')"
      ]
     },
     "execution_count": 18,
     "metadata": {},
     "output_type": "execute_result"
    }
   ],
   "source": [
    "spy = Mock(wraps=print)\n",
    "spy('Hello, World')\n",
    "spy.call_args"
   ]
  },
  {
   "cell_type": "code",
   "execution_count": null,
   "metadata": {},
   "outputs": [],
   "source": [
    "spy = "
   ]
  },
  {
   "cell_type": "markdown",
   "metadata": {},
   "source": [
    "### Mocking to Change How Code Behaves\n",
    "\n",
    "| **Code** | **Description** |\n",
    "| :-- | :-- |\n",
    "| **`Mock(spec=print)`** |  Make a Mock object with the **exact same interface** as another object, but doesn't actually do anything. |\n",
    "| **`mock.side_effect = lambda: print('Hi')`** | print 'Hi' whenever `mock` is called as a function |\n",
    "| **`mock.some_method.side_effect = lambda: print('Hi')`** | print 'Hi' whenever `mock.some_method` is called as a method |\n"
   ]
  },
  {
   "cell_type": "code",
   "execution_count": null,
   "metadata": {},
   "outputs": [],
   "source": []
  },
  {
   "cell_type": "markdown",
   "metadata": {},
   "source": [
    "### Patching to Make a Mock"
   ]
  }
 ],
 "metadata": {
  "kernelspec": {
   "display_name": "psychopy10",
   "language": "python",
   "name": "python3"
  },
  "language_info": {
   "codemirror_mode": {
    "name": "ipython",
    "version": 3
   },
   "file_extension": ".py",
   "mimetype": "text/x-python",
   "name": "python",
   "nbconvert_exporter": "python",
   "pygments_lexer": "ipython3",
   "version": "3.10.16"
  }
 },
 "nbformat": 4,
 "nbformat_minor": 2
}
