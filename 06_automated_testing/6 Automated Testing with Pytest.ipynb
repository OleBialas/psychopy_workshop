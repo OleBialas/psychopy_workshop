{
 "cells": [
  {
   "cell_type": "markdown",
   "metadata": {},
   "source": [
    "# VII. Automated Testing"
   ]
  },
  {
   "cell_type": "code",
   "execution_count": 51,
   "metadata": {},
   "outputs": [
    {
     "name": "stdout",
     "output_type": "stream",
     "text": [
      "Requirement already satisfied: psychopy in c:\\users\\olebi\\miniforge3\\envs\\psychopy\\lib\\site-packages (2024.2.4)\n",
      "Requirement already satisfied: pytest in c:\\users\\olebi\\miniforge3\\envs\\psychopy\\lib\\site-packages (8.3.4)\n",
      "Requirement already satisfied: ipytest in c:\\users\\olebi\\miniforge3\\envs\\psychopy\\lib\\site-packages (0.14.2)\n",
      "Requirement already satisfied: numpy<2.0 in c:\\users\\olebi\\miniforge3\\envs\\psychopy\\lib\\site-packages (from psychopy) (1.26.4)\n",
      "Requirement already satisfied: scipy in c:\\users\\olebi\\miniforge3\\envs\\psychopy\\lib\\site-packages (from psychopy) (1.14.1)\n",
      "Requirement already satisfied: matplotlib in c:\\users\\olebi\\miniforge3\\envs\\psychopy\\lib\\site-packages (from psychopy) (3.9.3)\n",
      "Requirement already satisfied: pyglet==1.4.11 in c:\\users\\olebi\\miniforge3\\envs\\psychopy\\lib\\site-packages (from psychopy) (1.4.11)\n",
      "Requirement already satisfied: pillow>=9.4.0 in c:\\users\\olebi\\miniforge3\\envs\\psychopy\\lib\\site-packages (from psychopy) (10.4.0)\n",
      "Requirement already satisfied: pyqt6 in c:\\users\\olebi\\miniforge3\\envs\\psychopy\\lib\\site-packages (from psychopy) (6.7.1)\n",
      "Requirement already satisfied: pandas>=1.5.3 in c:\\users\\olebi\\miniforge3\\envs\\psychopy\\lib\\site-packages (from psychopy) (2.2.3)\n",
      "Requirement already satisfied: questplus>=2023.1 in c:\\users\\olebi\\miniforge3\\envs\\psychopy\\lib\\site-packages (from psychopy) (2023.1)\n",
      "Requirement already satisfied: openpyxl in c:\\users\\olebi\\miniforge3\\envs\\psychopy\\lib\\site-packages (from psychopy) (3.1.5)\n",
      "Requirement already satisfied: xmlschema in c:\\users\\olebi\\miniforge3\\envs\\psychopy\\lib\\site-packages (from psychopy) (3.4.3)\n",
      "Requirement already satisfied: soundfile in c:\\users\\olebi\\miniforge3\\envs\\psychopy\\lib\\site-packages (from psychopy) (0.12.1)\n",
      "Requirement already satisfied: imageio in c:\\users\\olebi\\miniforge3\\envs\\psychopy\\lib\\site-packages (from psychopy) (2.36.1)\n",
      "Requirement already satisfied: imageio-ffmpeg in c:\\users\\olebi\\miniforge3\\envs\\psychopy\\lib\\site-packages (from psychopy) (0.5.1)\n",
      "Requirement already satisfied: psychtoolbox in c:\\users\\olebi\\miniforge3\\envs\\psychopy\\lib\\site-packages (from psychopy) (3.0.19.14)\n",
      "Requirement already satisfied: pywinhook in c:\\users\\olebi\\miniforge3\\envs\\psychopy\\lib\\site-packages (from psychopy) (1.6.2)\n",
      "Requirement already satisfied: gevent in c:\\users\\olebi\\miniforge3\\envs\\psychopy\\lib\\site-packages (from psychopy) (24.11.1)\n",
      "Requirement already satisfied: psutil in c:\\users\\olebi\\miniforge3\\envs\\psychopy\\lib\\site-packages (from psychopy) (6.1.0)\n",
      "Requirement already satisfied: pyzmq>=22.2.1 in c:\\users\\olebi\\miniforge3\\envs\\psychopy\\lib\\site-packages (from psychopy) (26.2.0)\n",
      "Requirement already satisfied: ujson in c:\\users\\olebi\\miniforge3\\envs\\psychopy\\lib\\site-packages (from psychopy) (5.10.0)\n",
      "Requirement already satisfied: msgpack in c:\\users\\olebi\\miniforge3\\envs\\psychopy\\lib\\site-packages (from psychopy) (1.1.0)\n",
      "Requirement already satisfied: msgpack-numpy in c:\\users\\olebi\\miniforge3\\envs\\psychopy\\lib\\site-packages (from psychopy) (0.4.8)\n",
      "Requirement already satisfied: pyyaml in c:\\users\\olebi\\miniforge3\\envs\\psychopy\\lib\\site-packages (from psychopy) (6.0.2)\n",
      "Requirement already satisfied: freetype-py in c:\\users\\olebi\\miniforge3\\envs\\psychopy\\lib\\site-packages (from psychopy) (2.5.1)\n",
      "Requirement already satisfied: python-bidi in c:\\users\\olebi\\miniforge3\\envs\\psychopy\\lib\\site-packages (from psychopy) (0.6.3)\n",
      "Requirement already satisfied: arabic-reshaper in c:\\users\\olebi\\miniforge3\\envs\\psychopy\\lib\\site-packages (from psychopy) (3.0.0)\n",
      "Requirement already satisfied: javascripthon in c:\\users\\olebi\\miniforge3\\envs\\psychopy\\lib\\site-packages (from psychopy) (0.13)\n",
      "Requirement already satisfied: websockets in c:\\users\\olebi\\miniforge3\\envs\\psychopy\\lib\\site-packages (from psychopy) (14.1)\n",
      "Requirement already satisfied: wxPython>=4.1.1 in c:\\users\\olebi\\miniforge3\\envs\\psychopy\\lib\\site-packages (from psychopy) (4.2.2)\n",
      "Requirement already satisfied: markdown-it-py in c:\\users\\olebi\\miniforge3\\envs\\psychopy\\lib\\site-packages (from psychopy) (3.0.0)\n",
      "Requirement already satisfied: requests in c:\\users\\olebi\\miniforge3\\envs\\psychopy\\lib\\site-packages (from psychopy) (2.32.3)\n",
      "Requirement already satisfied: future in c:\\users\\olebi\\miniforge3\\envs\\psychopy\\lib\\site-packages (from psychopy) (1.0.0)\n",
      "Requirement already satisfied: pypi-search>=1.2.1 in c:\\users\\olebi\\miniforge3\\envs\\psychopy\\lib\\site-packages (from psychopy) (2.0)\n",
      "Requirement already satisfied: setuptools==70.3.0 in c:\\users\\olebi\\miniforge3\\envs\\psychopy\\lib\\site-packages (from psychopy) (70.3.0)\n",
      "Requirement already satisfied: python-gitlab in c:\\users\\olebi\\miniforge3\\envs\\psychopy\\lib\\site-packages (from psychopy) (5.1.0)\n",
      "Requirement already satisfied: gitpython in c:\\users\\olebi\\miniforge3\\envs\\psychopy\\lib\\site-packages (from psychopy) (3.1.43)\n",
      "Requirement already satisfied: cryptography in c:\\users\\olebi\\miniforge3\\envs\\psychopy\\lib\\site-packages (from psychopy) (44.0.0)\n",
      "Requirement already satisfied: astunparse in c:\\users\\olebi\\miniforge3\\envs\\psychopy\\lib\\site-packages (from psychopy) (1.6.3)\n",
      "Requirement already satisfied: esprima in c:\\users\\olebi\\miniforge3\\envs\\psychopy\\lib\\site-packages (from psychopy) (4.0.1)\n",
      "Requirement already satisfied: jedi>=0.16 in c:\\users\\olebi\\miniforge3\\envs\\psychopy\\lib\\site-packages (from psychopy) (0.19.2)\n",
      "Requirement already satisfied: pyserial in c:\\users\\olebi\\miniforge3\\envs\\psychopy\\lib\\site-packages (from psychopy) (3.5)\n",
      "Requirement already satisfied: pyparallel in c:\\users\\olebi\\miniforge3\\envs\\psychopy\\lib\\site-packages (from psychopy) (0.2.2)\n",
      "Requirement already satisfied: ffpyplayer in c:\\users\\olebi\\miniforge3\\envs\\psychopy\\lib\\site-packages (from psychopy) (4.5.2)\n",
      "Requirement already satisfied: opencv-python in c:\\users\\olebi\\miniforge3\\envs\\psychopy\\lib\\site-packages (from psychopy) (4.10.0.84)\n",
      "Requirement already satisfied: python-vlc==3.0.11115 in c:\\users\\olebi\\miniforge3\\envs\\psychopy\\lib\\site-packages (from psychopy) (3.0.11115)\n",
      "Requirement already satisfied: pypiwin32 in c:\\users\\olebi\\miniforge3\\envs\\psychopy\\lib\\site-packages (from psychopy) (223)\n",
      "Requirement already satisfied: tables!=3.9.2 in c:\\users\\olebi\\miniforge3\\envs\\psychopy\\lib\\site-packages (from psychopy) (3.10.1)\n",
      "Requirement already satisfied: packaging>=24.0 in c:\\users\\olebi\\miniforge3\\envs\\psychopy\\lib\\site-packages (from psychopy) (24.2)\n",
      "Requirement already satisfied: moviepy in c:\\users\\olebi\\miniforge3\\envs\\psychopy\\lib\\site-packages (from psychopy) (2.1.1)\n",
      "Requirement already satisfied: colorama in c:\\users\\olebi\\miniforge3\\envs\\psychopy\\lib\\site-packages (from pytest) (0.4.6)\n",
      "Requirement already satisfied: exceptiongroup>=1.0.0rc8 in c:\\users\\olebi\\miniforge3\\envs\\psychopy\\lib\\site-packages (from pytest) (1.2.2)\n",
      "Requirement already satisfied: iniconfig in c:\\users\\olebi\\miniforge3\\envs\\psychopy\\lib\\site-packages (from pytest) (2.0.0)\n",
      "Requirement already satisfied: pluggy<2,>=1.5 in c:\\users\\olebi\\miniforge3\\envs\\psychopy\\lib\\site-packages (from pytest) (1.5.0)\n",
      "Requirement already satisfied: tomli>=1 in c:\\users\\olebi\\miniforge3\\envs\\psychopy\\lib\\site-packages (from pytest) (2.2.1)\n",
      "Requirement already satisfied: ipython in c:\\users\\olebi\\miniforge3\\envs\\psychopy\\lib\\site-packages (from ipytest) (8.30.0)\n",
      "Requirement already satisfied: dukpy<=0.2.3 in c:\\users\\olebi\\miniforge3\\envs\\psychopy\\lib\\site-packages (from javascripthon->psychopy) (0.2.3)\n",
      "Requirement already satisfied: parso<0.9.0,>=0.8.4 in c:\\users\\olebi\\miniforge3\\envs\\psychopy\\lib\\site-packages (from jedi>=0.16->psychopy) (0.8.4)\n",
      "Requirement already satisfied: python-dateutil>=2.8.2 in c:\\users\\olebi\\miniforge3\\envs\\psychopy\\lib\\site-packages (from pandas>=1.5.3->psychopy) (2.9.0.post0)\n",
      "Requirement already satisfied: pytz>=2020.1 in c:\\users\\olebi\\miniforge3\\envs\\psychopy\\lib\\site-packages (from pandas>=1.5.3->psychopy) (2024.2)\n",
      "Requirement already satisfied: tzdata>=2022.7 in c:\\users\\olebi\\miniforge3\\envs\\psychopy\\lib\\site-packages (from pandas>=1.5.3->psychopy) (2024.2)\n",
      "Requirement already satisfied: beautifulsoup4>=4.9.2 in c:\\users\\olebi\\miniforge3\\envs\\psychopy\\lib\\site-packages (from pypi-search>=1.2.1->psychopy) (4.12.3)\n",
      "Requirement already satisfied: html2text>=2020.1.16 in c:\\users\\olebi\\miniforge3\\envs\\psychopy\\lib\\site-packages (from pypi-search>=1.2.1->psychopy) (2024.2.26)\n",
      "Requirement already satisfied: xarray in c:\\users\\olebi\\miniforge3\\envs\\psychopy\\lib\\site-packages (from questplus>=2023.1->psychopy) (2024.11.0)\n",
      "Requirement already satisfied: json-tricks in c:\\users\\olebi\\miniforge3\\envs\\psychopy\\lib\\site-packages (from questplus>=2023.1->psychopy) (3.17.3)\n",
      "Requirement already satisfied: charset-normalizer<4,>=2 in c:\\users\\olebi\\miniforge3\\envs\\psychopy\\lib\\site-packages (from requests->psychopy) (3.4.0)\n",
      "Requirement already satisfied: idna<4,>=2.5 in c:\\users\\olebi\\miniforge3\\envs\\psychopy\\lib\\site-packages (from requests->psychopy) (3.10)\n",
      "Requirement already satisfied: urllib3<3,>=1.21.1 in c:\\users\\olebi\\miniforge3\\envs\\psychopy\\lib\\site-packages (from requests->psychopy) (2.2.3)\n",
      "Requirement already satisfied: certifi>=2017.4.17 in c:\\users\\olebi\\miniforge3\\envs\\psychopy\\lib\\site-packages (from requests->psychopy) (2024.8.30)\n",
      "Requirement already satisfied: numexpr>=2.6.2 in c:\\users\\olebi\\miniforge3\\envs\\psychopy\\lib\\site-packages (from tables!=3.9.2->psychopy) (2.10.2)\n",
      "Requirement already satisfied: py-cpuinfo in c:\\users\\olebi\\miniforge3\\envs\\psychopy\\lib\\site-packages (from tables!=3.9.2->psychopy) (9.0.0)\n",
      "Requirement already satisfied: blosc2>=2.3.0 in c:\\users\\olebi\\miniforge3\\envs\\psychopy\\lib\\site-packages (from tables!=3.9.2->psychopy) (2.7.1)\n",
      "Requirement already satisfied: typing-extensions>=4.4.0 in c:\\users\\olebi\\miniforge3\\envs\\psychopy\\lib\\site-packages (from tables!=3.9.2->psychopy) (4.12.2)\n",
      "Requirement already satisfied: six in c:\\users\\olebi\\miniforge3\\envs\\psychopy\\lib\\site-packages (from wxPython>=4.1.1->psychopy) (1.17.0)\n",
      "Requirement already satisfied: wheel<1.0,>=0.23.0 in c:\\users\\olebi\\miniforge3\\envs\\psychopy\\lib\\site-packages (from astunparse->psychopy) (0.45.1)\n",
      "Requirement already satisfied: cffi>=1.12 in c:\\users\\olebi\\miniforge3\\envs\\psychopy\\lib\\site-packages (from cryptography->psychopy) (1.17.1)\n",
      "Requirement already satisfied: zope.event in c:\\users\\olebi\\miniforge3\\envs\\psychopy\\lib\\site-packages (from gevent->psychopy) (5.0)\n",
      "Requirement already satisfied: zope.interface in c:\\users\\olebi\\miniforge3\\envs\\psychopy\\lib\\site-packages (from gevent->psychopy) (7.2)\n",
      "Requirement already satisfied: greenlet>=3.1.1 in c:\\users\\olebi\\miniforge3\\envs\\psychopy\\lib\\site-packages (from gevent->psychopy) (3.1.1)\n",
      "Requirement already satisfied: gitdb<5,>=4.0.1 in c:\\users\\olebi\\miniforge3\\envs\\psychopy\\lib\\site-packages (from gitpython->psychopy) (4.0.11)\n",
      "Requirement already satisfied: decorator in c:\\users\\olebi\\miniforge3\\envs\\psychopy\\lib\\site-packages (from ipython->ipytest) (5.1.1)\n",
      "Requirement already satisfied: matplotlib-inline in c:\\users\\olebi\\miniforge3\\envs\\psychopy\\lib\\site-packages (from ipython->ipytest) (0.1.7)\n",
      "Requirement already satisfied: prompt_toolkit<3.1.0,>=3.0.41 in c:\\users\\olebi\\miniforge3\\envs\\psychopy\\lib\\site-packages (from ipython->ipytest) (3.0.48)\n",
      "Requirement already satisfied: pygments>=2.4.0 in c:\\users\\olebi\\miniforge3\\envs\\psychopy\\lib\\site-packages (from ipython->ipytest) (2.18.0)\n",
      "Requirement already satisfied: stack_data in c:\\users\\olebi\\miniforge3\\envs\\psychopy\\lib\\site-packages (from ipython->ipytest) (0.6.3)\n",
      "Requirement already satisfied: traitlets>=5.13.0 in c:\\users\\olebi\\miniforge3\\envs\\psychopy\\lib\\site-packages (from ipython->ipytest) (5.14.3)\n",
      "Requirement already satisfied: mdurl~=0.1 in c:\\users\\olebi\\miniforge3\\envs\\psychopy\\lib\\site-packages (from markdown-it-py->psychopy) (0.1.2)\n",
      "Requirement already satisfied: contourpy>=1.0.1 in c:\\users\\olebi\\miniforge3\\envs\\psychopy\\lib\\site-packages (from matplotlib->psychopy) (1.3.1)\n",
      "Requirement already satisfied: cycler>=0.10 in c:\\users\\olebi\\miniforge3\\envs\\psychopy\\lib\\site-packages (from matplotlib->psychopy) (0.12.1)\n",
      "Requirement already satisfied: fonttools>=4.22.0 in c:\\users\\olebi\\miniforge3\\envs\\psychopy\\lib\\site-packages (from matplotlib->psychopy) (4.55.2)\n",
      "Requirement already satisfied: kiwisolver>=1.3.1 in c:\\users\\olebi\\miniforge3\\envs\\psychopy\\lib\\site-packages (from matplotlib->psychopy) (1.4.7)\n",
      "Requirement already satisfied: pyparsing>=2.3.1 in c:\\users\\olebi\\miniforge3\\envs\\psychopy\\lib\\site-packages (from matplotlib->psychopy) (3.2.0)\n",
      "Requirement already satisfied: proglog<=1.0.0 in c:\\users\\olebi\\miniforge3\\envs\\psychopy\\lib\\site-packages (from moviepy->psychopy) (0.1.10)\n",
      "Requirement already satisfied: python-dotenv>=0.10 in c:\\users\\olebi\\miniforge3\\envs\\psychopy\\lib\\site-packages (from moviepy->psychopy) (1.0.1)\n",
      "Requirement already satisfied: et-xmlfile in c:\\users\\olebi\\miniforge3\\envs\\psychopy\\lib\\site-packages (from openpyxl->psychopy) (2.0.0)\n",
      "Requirement already satisfied: pywin32>=223 in c:\\users\\olebi\\miniforge3\\envs\\psychopy\\lib\\site-packages (from pypiwin32->psychopy) (308)\n",
      "Requirement already satisfied: PyQt6-sip<14,>=13.8 in c:\\users\\olebi\\miniforge3\\envs\\psychopy\\lib\\site-packages (from pyqt6->psychopy) (13.9.0)\n",
      "Requirement already satisfied: PyQt6-Qt6<6.8.0,>=6.7.0 in c:\\users\\olebi\\miniforge3\\envs\\psychopy\\lib\\site-packages (from pyqt6->psychopy) (6.7.3)\n",
      "Requirement already satisfied: requests-toolbelt>=1.0.0 in c:\\users\\olebi\\miniforge3\\envs\\psychopy\\lib\\site-packages (from python-gitlab->psychopy) (1.0.0)\n",
      "Requirement already satisfied: elementpath<5.0.0,>=4.4.0 in c:\\users\\olebi\\miniforge3\\envs\\psychopy\\lib\\site-packages (from xmlschema->psychopy) (4.6.0)\n",
      "Requirement already satisfied: soupsieve>1.2 in c:\\users\\olebi\\miniforge3\\envs\\psychopy\\lib\\site-packages (from beautifulsoup4>=4.9.2->pypi-search>=1.2.1->psychopy) (2.6)\n",
      "Requirement already satisfied: ndindex>=1.4 in c:\\users\\olebi\\miniforge3\\envs\\psychopy\\lib\\site-packages (from blosc2>=2.3.0->tables!=3.9.2->psychopy) (1.9.2)\n",
      "Requirement already satisfied: pycparser in c:\\users\\olebi\\miniforge3\\envs\\psychopy\\lib\\site-packages (from cffi>=1.12->cryptography->psychopy) (2.22)\n",
      "Requirement already satisfied: smmap<6,>=3.0.1 in c:\\users\\olebi\\miniforge3\\envs\\psychopy\\lib\\site-packages (from gitdb<5,>=4.0.1->gitpython->psychopy) (5.0.1)\n",
      "Requirement already satisfied: tqdm in c:\\users\\olebi\\miniforge3\\envs\\psychopy\\lib\\site-packages (from proglog<=1.0.0->moviepy->psychopy) (4.67.1)\n",
      "Requirement already satisfied: wcwidth in c:\\users\\olebi\\miniforge3\\envs\\psychopy\\lib\\site-packages (from prompt_toolkit<3.1.0,>=3.0.41->ipython->ipytest) (0.2.13)\n",
      "Requirement already satisfied: executing>=1.2.0 in c:\\users\\olebi\\miniforge3\\envs\\psychopy\\lib\\site-packages (from stack_data->ipython->ipytest) (2.1.0)\n",
      "Requirement already satisfied: asttokens>=2.1.0 in c:\\users\\olebi\\miniforge3\\envs\\psychopy\\lib\\site-packages (from stack_data->ipython->ipytest) (3.0.0)\n",
      "Requirement already satisfied: pure-eval in c:\\users\\olebi\\miniforge3\\envs\\psychopy\\lib\\site-packages (from stack_data->ipython->ipytest) (0.2.3)\n",
      "Note: you may need to restart the kernel to use updated packages.\n"
     ]
    }
   ],
   "source": [
    "%pip install psychopy pytest ipytest"
   ]
  },
  {
   "cell_type": "code",
   "execution_count": 52,
   "metadata": {},
   "outputs": [],
   "source": [
    "import random\n",
    "import json\n",
    "from psychopy.sound import Sound\n",
    "from psychopy.visual import Window\n",
    "from psychopy.event import waitKeys\n",
    "import pytest\n",
    "import ipytest\n",
    "ipytest.autoconfig()\n",
    "Sound(stereo=False);"
   ]
  },
  {
   "cell_type": "markdown",
   "metadata": {},
   "source": [
    "## 1. Writing Assert Statements"
   ]
  },
  {
   "cell_type": "markdown",
   "metadata": {},
   "source": [
    "**Example**: `assert` that the value `x` is positive and and `print(\"Success\"!)`\n"
   ]
  },
  {
   "cell_type": "code",
   "execution_count": 53,
   "metadata": {},
   "outputs": [],
   "source": [
    "x = random.random();"
   ]
  },
  {
   "cell_type": "code",
   "execution_count": 54,
   "metadata": {},
   "outputs": [
    {
     "name": "stdout",
     "output_type": "stream",
     "text": [
      "Success!\n"
     ]
    }
   ],
   "source": [
    "# Solution\n",
    "assert x>0\n",
    "print(\"Success!\")"
   ]
  },
  {
   "cell_type": "markdown",
   "metadata": {},
   "source": [
    "**Exercise**: `assert` that the absolute difference between x and y is smaller than 1 and and `print(\"Success\"!)`\n"
   ]
  },
  {
   "cell_type": "code",
   "execution_count": 55,
   "metadata": {},
   "outputs": [],
   "source": [
    "x = random.random()\n",
    "y = random.random();"
   ]
  },
  {
   "cell_type": "code",
   "execution_count": 56,
   "metadata": {},
   "outputs": [
    {
     "name": "stdout",
     "output_type": "stream",
     "text": [
      "Success!\n"
     ]
    }
   ],
   "source": [
    "# Solution\n",
    "assert -1<(x-y)<1\n",
    "assert abs(x-y)<1\n",
    "print(\"Success!\")"
   ]
  },
  {
   "cell_type": "markdown",
   "metadata": {},
   "source": [
    "**Exercise**: `assert` that all elements in x are strings and and `print(\"Success\"!)`\n"
   ]
  },
  {
   "cell_type": "code",
   "execution_count": 57,
   "metadata": {},
   "outputs": [],
   "source": [
    "x = [\"1\", \"2\", \"3\"]"
   ]
  },
  {
   "cell_type": "code",
   "execution_count": 58,
   "metadata": {},
   "outputs": [
    {
     "name": "stdout",
     "output_type": "stream",
     "text": [
      "Success!\n"
     ]
    }
   ],
   "source": [
    "# Solution\n",
    "for x_i in x:\n",
    "    assert isinstance(x_i, str)\n",
    "print(\"Success!\")"
   ]
  },
  {
   "cell_type": "markdown",
   "metadata": {},
   "source": [
    "**Exercise** Write two assert statements that check that:\n",
    "- the value returned by `subtract(3, 5)` is `-2`\n",
    "- the value returned by `subtract(10, 7)` is `3`\n",
    "\n",
    "and `print(\"Success\"!)`"
   ]
  },
  {
   "cell_type": "code",
   "execution_count": 59,
   "metadata": {},
   "outputs": [],
   "source": [
    "def subtract(a,b):\n",
    "    return a-b"
   ]
  },
  {
   "cell_type": "code",
   "execution_count": 60,
   "metadata": {},
   "outputs": [
    {
     "name": "stdout",
     "output_type": "stream",
     "text": [
      "Success!\n"
     ]
    }
   ],
   "source": [
    "assert subtract(3, 5) == -2\n",
    "assert subtract(10,7) == 3\n",
    "print(\"Success!\")"
   ]
  },
  {
   "cell_type": "markdown",
   "metadata": {},
   "source": [
    "**Exercise**: Write an `assert` statement that checks that:\n",
    "- the the length of the list returned by `concatenate_lists(a,b)` is equal to `len(a) + len(b)` \n",
    "\n",
    "and `print(\"Success\"!)`\n"
   ]
  },
  {
   "cell_type": "code",
   "execution_count": 61,
   "metadata": {},
   "outputs": [],
   "source": [
    "def concatenate_lists(a,b):\n",
    "    return a+b"
   ]
  },
  {
   "cell_type": "code",
   "execution_count": 62,
   "metadata": {},
   "outputs": [
    {
     "name": "stdout",
     "output_type": "stream",
     "text": [
      "Success!\n"
     ]
    }
   ],
   "source": [
    "# Solution\n",
    "x1,x2 = [1,2,3], [2,3,4]\n",
    "assert len(concatenate_lists(x1,x2)) == len(x1)+len(x2)\n",
    "print(\"Success!\")"
   ]
  },
  {
   "cell_type": "markdown",
   "metadata": {},
   "source": [
    "**Exercise**: Write two `assert` statement that check that:\n",
    "- the tone returned by `make_tone(freq=800, dur=0.5)` has the attributes `tone.sound=800` and `tone.secs=0.5`\n",
    "- the tone returned by `make_tone(freq=1200, dur=0.3)` has the attributes `tone.sound=1200` and `tone.secs=0.3`\n",
    "\n",
    "\n",
    "and `print(\"Success\"!)`"
   ]
  },
  {
   "cell_type": "code",
   "execution_count": 63,
   "metadata": {},
   "outputs": [],
   "source": [
    "def make_tone(freq, dur):\n",
    "    return Sound(value=freq, secs=dur)"
   ]
  },
  {
   "cell_type": "code",
   "execution_count": 64,
   "metadata": {},
   "outputs": [
    {
     "name": "stdout",
     "output_type": "stream",
     "text": [
      "Success!\n"
     ]
    }
   ],
   "source": [
    "# Solution\n",
    "assert make_tone(freq=800, dur=0.5).sound == 800\n",
    "assert make_tone(freq=800, dur=0.5).secs== 0.5\n",
    "assert make_tone(freq=1200, dur=0.3).sound == 1200\n",
    "assert make_tone(freq=1200, dur=0.3).secs== 0.3\n",
    "print(\"Success!\")"
   ]
  },
  {
   "cell_type": "markdown",
   "metadata": {},
   "source": [
    "**Exercise**: Write four `assert` statement that check that:\n",
    "- The length of the list returned by `wait_keys([\"space\"])` is 1\n",
    "- The first element of the list returned by `wait_keys([\"space\"])` is `\"space\"`\n",
    "- The length of the list returned by `wait_keys([\"space\"], True)` is 2\n",
    "- The second element of the list returned by `wait_keys([\"space\"], True)` is a `float`\n",
    "\n",
    "and `print(\"Success\"!)`\n",
    "\n",
    "Hint: you have to wrap you tests inside a Window context manager, like this: <br>\n",
    "`with Window() as win:` \n",
    "<br> &nbsp;&nbsp;&nbsp;&nbsp; `assert ...`"
   ]
  },
  {
   "cell_type": "code",
   "execution_count": 69,
   "metadata": {},
   "outputs": [],
   "source": [
    "def wait_keys(keys=None, timed=False):\n",
    "    keys = waitKeys(keyList=keys, timeStamped=timed)\n",
    "    if timed:\n",
    "        return keys[0]\n",
    "    else:\n",
    "        return keys"
   ]
  },
  {
   "cell_type": "code",
   "execution_count": 71,
   "metadata": {},
   "outputs": [
    {
     "name": "stdout",
     "output_type": "stream",
     "text": [
      "251.0298 \tWARNING \tMonitor specification not found. Creating a temporary one...\n"
     ]
    }
   ],
   "source": [
    "with Window() as win:\n",
    "    assert len(wait_keys([\"space\"]))==1\n",
    "    assert len(wait_keys([\"space\"], True))==2\n",
    "    assert wait_keys([\"space\"])[0]==\"space\"\n",
    "    assert isinstance(wait_keys([\"space\"], True)[1], float)"
   ]
  },
  {
   "cell_type": "markdown",
   "metadata": {},
   "source": [
    "## 2. Writing Test Functions"
   ]
  },
  {
   "cell_type": "markdown",
   "metadata": {},
   "source": [
    "We are going to test the `trial_sequence()` function defined below"
   ]
  },
  {
   "cell_type": "code",
   "execution_count": 72,
   "metadata": {},
   "outputs": [],
   "source": [
    "def trial_sequence(conditions: list, n_reps: int, shuffle:bool = True):\n",
    "    trials = conditions * n_reps\n",
    "    if shuffle:\n",
    "        random.shuffle(trials)\n",
    "    return trials\n"
   ]
  },
  {
   "cell_type": "markdown",
   "metadata": {},
   "source": [
    "**Example**: Write a test function `test_trial_sequence_is_shuffled()` that tests that the returned list is shuffled when `shuffle=True`. Add the `%%ipytest` tag to the top of the cell and run it to execute that cell."
   ]
  },
  {
   "cell_type": "code",
   "execution_count": 73,
   "metadata": {},
   "outputs": [
    {
     "name": "stdout",
     "output_type": "stream",
     "text": [
      "\u001b[32m.\u001b[0m\u001b[32m                                                                                            [100%]\u001b[0m\n",
      "\u001b[32m\u001b[32m\u001b[1m1 passed\u001b[0m\u001b[32m in 0.01s\u001b[0m\u001b[0m\n"
     ]
    }
   ],
   "source": [
    "%%ipytest\n",
    "def test_trial_sequence_is_shuffled():\n",
    "    trials1 = trial_sequence(conditions=[1,2,3], n_reps=1000)\n",
    "    trials2 = trial_sequence(conditions=[1,2,3], n_reps=1000)\n",
    "    assert trials1 != trials2"
   ]
  },
  {
   "cell_type": "markdown",
   "metadata": {},
   "source": [
    "**Exercise**: Write a test function `test_trial_sequence_is_shuffled()` that tests that the returned list is ordered when `shuffle=True`. Add the `%%ipytest` tag to the top of the cell and run it to execute that cell."
   ]
  },
  {
   "cell_type": "code",
   "execution_count": 74,
   "metadata": {},
   "outputs": [
    {
     "name": "stdout",
     "output_type": "stream",
     "text": [
      "\u001b[32m.\u001b[0m\u001b[32m                                                                                            [100%]\u001b[0m\n",
      "\u001b[32m\u001b[32m\u001b[1m1 passed\u001b[0m\u001b[32m in 0.01s\u001b[0m\u001b[0m\n"
     ]
    }
   ],
   "source": [
    "%%ipytest\n",
    "# Solution\n",
    "def test_trial_sequence_is_ordered():\n",
    "    trials1 = trial_sequence(conditions=[1,2,3], n_reps=1000, shuffle=False)\n",
    "    trials2 = trial_sequence(conditions=[1,2,3], n_reps=1000, shuffle=False)\n",
    "    assert trials1 == trials2"
   ]
  },
  {
   "cell_type": "markdown",
   "metadata": {},
   "source": [
    "**Exercise**: Write a test function that tests the list returned by `test_trial_sequence_is_shuffled()` has the correct `len()` using three different `assert` conditions . Add the `%%ipytest` tag to the top of the cell and run it to execute that cell."
   ]
  },
  {
   "cell_type": "code",
   "execution_count": 75,
   "metadata": {},
   "outputs": [
    {
     "name": "stdout",
     "output_type": "stream",
     "text": [
      "\u001b[32m.\u001b[0m\u001b[32m                                                                                            [100%]\u001b[0m\n",
      "\u001b[32m\u001b[32m\u001b[1m1 passed\u001b[0m\u001b[32m in 0.01s\u001b[0m\u001b[0m\n"
     ]
    }
   ],
   "source": [
    "%%ipytest\n",
    "# Solution\n",
    "def test_trial_sequence_has_correct_len():\n",
    "    trials = trial_sequence([1,2,3], n_reps=4)"
   ]
  },
  {
   "cell_type": "markdown",
   "metadata": {},
   "source": [
    "---\n",
    "We are going to test the `load_config` function defined in the cell below"
   ]
  },
  {
   "cell_type": "code",
   "execution_count": 76,
   "metadata": {},
   "outputs": [],
   "source": [
    "def load_config(fpath:str):\n",
    "    with open(fpath) as f:\n",
    "        config = json.load(f)\n",
    "    return config"
   ]
  },
  {
   "cell_type": "markdown",
   "metadata": {},
   "source": [
    "**Exercise** Write a test function that tests that the dictionary returned by `load_config()` contains the keys `\"conditions\"` and `\"n_trials\"`.\n",
    "\n",
    " (Hint: `\"a\" in config` is `True` if `config` contains a key named `\"a\"`)"
   ]
  },
  {
   "cell_type": "code",
   "execution_count": 77,
   "metadata": {},
   "outputs": [
    {
     "name": "stdout",
     "output_type": "stream",
     "text": [
      "\u001b[32m.\u001b[0m\u001b[32m                                                                                            [100%]\u001b[0m\n",
      "\u001b[32m\u001b[32m\u001b[1m1 passed\u001b[0m\u001b[32m in 0.01s\u001b[0m\u001b[0m\n"
     ]
    }
   ],
   "source": [
    "%%ipytest\n",
    "# Solution\n",
    "def test_config_has_keys():\n",
    "    config = load_config(\"config.json\")\n",
    "    assert \"conditions\" in config\n",
    "    assert \"n_trials\" in config"
   ]
  },
  {
   "cell_type": "markdown",
   "metadata": {},
   "source": [
    "**Exercise** Write a test function that tests the value stored under the key \"conditions\" in the dictionary returned by `load_config()` is a list of integers"
   ]
  },
  {
   "cell_type": "code",
   "execution_count": 78,
   "metadata": {},
   "outputs": [
    {
     "name": "stdout",
     "output_type": "stream",
     "text": [
      "\u001b[32m.\u001b[0m\u001b[32m                                                                                            [100%]\u001b[0m\n",
      "\u001b[32m\u001b[32m\u001b[1m1 passed\u001b[0m\u001b[32m in 0.01s\u001b[0m\u001b[0m\n"
     ]
    }
   ],
   "source": [
    "%%ipytest\n",
    "# Solution\n",
    "def test_conditions_is_list_of_int():\n",
    "    config = load_config(\"config.json\")\n",
    "    assert isinstance(config[\"conditions\"], list)\n",
    "    for c in config[\"conditions\"]:\n",
    "        assert isinstance(c, int)"
   ]
  },
  {
   "cell_type": "markdown",
   "metadata": {},
   "source": [
    "**Exercise** Write a test function that tests that uses `pytest.raises` to test that `load_config` raises a `FileNotFoundError` when trying to load a file that does not exist"
   ]
  },
  {
   "cell_type": "code",
   "execution_count": 79,
   "metadata": {},
   "outputs": [
    {
     "name": "stdout",
     "output_type": "stream",
     "text": [
      "\u001b[32m.\u001b[0m\u001b[32m                                                                                            [100%]\u001b[0m\n",
      "\u001b[32m\u001b[32m\u001b[1m1 passed\u001b[0m\u001b[32m in 0.01s\u001b[0m\u001b[0m\n"
     ]
    }
   ],
   "source": [
    "%%ipytest\n",
    "#Solution\n",
    "def test_load_config_raises_error():\n",
    "    with pytest.raises(FileNotFoundError):\n",
    "        load_config(\"comfig.json\")"
   ]
  },
  {
   "cell_type": "markdown",
   "metadata": {},
   "source": [
    "## 3. Runnig Pytest from the Terminal"
   ]
  },
  {
   "cell_type": "markdown",
   "metadata": {},
   "source": [
    "This folder contains a function called `sequencegen.py` by that contains 3 functions:\n",
    "- `has_repetitions()` which checks if a trial seuquence has repetitions of the same element within the given `min_dist` and returns `True` or `False`\n",
    "- `make_sequene()` that creates a sequence from a list of `conditions` with a given number of `n_trials` and shuffles that list until `has_repetitions()` returns `False`\n",
    "- `write_sequence()` which writes the trials sequence to a file\n",
    "\n",
    "**Exercise**: In this folder, create a new script called `test_sequencegen.py` where you `import` the three functions from `sequencegen.py`"
   ]
  },
  {
   "cell_type": "markdown",
   "metadata": {},
   "source": [
    "**Exercise**: In this folder create a new function called `test_has_repetitions()` that tests that:\n",
    "- Calling `test_has_repetitions()` on a list that has a repetition returns `True`\n",
    "- Calling `test_has_repetitions()` on a list that has a repetition returns `False`\n",
    "\n",
    "Then execute the cell below to run Pytest"
   ]
  },
  {
   "cell_type": "code",
   "execution_count": 80,
   "metadata": {},
   "outputs": [
    {
     "name": "stdout",
     "output_type": "stream",
     "text": [
      "\u001b[1m============================= test session starts =============================\u001b[0m\n",
      "platform win32 -- Python 3.10.16, pytest-8.3.4, pluggy-1.5.0\n",
      "rootdir: c:\\Users\\olebi\\Projects\\psychopy_workshop\\_old\n",
      "plugins: anyio-4.7.0, cov-6.0.0\n",
      "collected 9 items\n",
      "\n",
      "test_sequencegen.py \u001b[32m.\u001b[0m\u001b[32m.\u001b[0m\u001b[32m.\u001b[0m\u001b[32m.\u001b[0m\u001b[32m.\u001b[0m\u001b[32m.\u001b[0m\u001b[32m.\u001b[0m\u001b[32m.\u001b[0m\u001b[32m.\u001b[0m\u001b[32m                                            [100%]\u001b[0m\n",
      "\n",
      "\u001b[32m============================== \u001b[32m\u001b[1m9 passed\u001b[0m\u001b[32m in 0.06s\u001b[0m\u001b[32m ==============================\u001b[0m\n"
     ]
    }
   ],
   "source": [
    "!Pytest"
   ]
  },
  {
   "cell_type": "markdown",
   "metadata": {},
   "source": [
    "**Exercise**: add another function called `test_has_repetitions_respects_min_dist` to test that:\n",
    "- Calling `test_has_repetitions()` on a list that has a repetition further away that `min_dist` returns `False`\n",
    "- Calling `test_has_repetitions()` on a list that has a repetition within `min_dist` returns `True`\n",
    "\n",
    "Then execute the cell below to run Pytest"
   ]
  },
  {
   "cell_type": "code",
   "execution_count": 81,
   "metadata": {},
   "outputs": [
    {
     "name": "stdout",
     "output_type": "stream",
     "text": [
      "\u001b[1m============================= test session starts =============================\u001b[0m\n",
      "platform win32 -- Python 3.10.16, pytest-8.3.4, pluggy-1.5.0\n",
      "rootdir: c:\\Users\\olebi\\Projects\\psychopy_workshop\\_old\n",
      "plugins: anyio-4.7.0, cov-6.0.0\n",
      "collected 9 items\n",
      "\n",
      "test_sequencegen.py \u001b[32m.\u001b[0m\u001b[32m.\u001b[0m\u001b[32m.\u001b[0m\u001b[32m.\u001b[0m\u001b[32m.\u001b[0m\u001b[32m.\u001b[0m\u001b[32m.\u001b[0m\u001b[32m.\u001b[0m\u001b[32m.\u001b[0m\u001b[32m                                            [100%]\u001b[0m\n",
      "\n",
      "\u001b[32m============================== \u001b[32m\u001b[1m9 passed\u001b[0m\u001b[32m in 0.13s\u001b[0m\u001b[32m ==============================\u001b[0m\n"
     ]
    }
   ],
   "source": [
    "!Pytest"
   ]
  },
  {
   "cell_type": "markdown",
   "metadata": {},
   "source": [
    "**Exercises**: Write a function called `test_sequence_has_correct_len()` that tests that the sequence returned by `make_sequence` has desired length given by `n_trials`.\n",
    "\n",
    "Then execute the cell below to run Pytest"
   ]
  },
  {
   "cell_type": "code",
   "execution_count": 82,
   "metadata": {},
   "outputs": [
    {
     "name": "stdout",
     "output_type": "stream",
     "text": [
      "\u001b[1m============================= test session starts =============================\u001b[0m\n",
      "platform win32 -- Python 3.10.16, pytest-8.3.4, pluggy-1.5.0\n",
      "rootdir: c:\\Users\\olebi\\Projects\\psychopy_workshop\\_old\n",
      "plugins: anyio-4.7.0, cov-6.0.0\n",
      "collected 9 items\n",
      "\n",
      "test_sequencegen.py \u001b[32m.\u001b[0m\u001b[32m.\u001b[0m\u001b[32m.\u001b[0m\u001b[32m.\u001b[0m\u001b[32m.\u001b[0m\u001b[32m.\u001b[0m\u001b[32m.\u001b[0m\u001b[32m.\u001b[0m\u001b[32m.\u001b[0m\u001b[32m                                            [100%]\u001b[0m\n",
      "\n",
      "\u001b[32m============================== \u001b[32m\u001b[1m9 passed\u001b[0m\u001b[32m in 0.10s\u001b[0m\u001b[32m ==============================\u001b[0m\n"
     ]
    }
   ],
   "source": [
    "!Pytest"
   ]
  },
  {
   "cell_type": "markdown",
   "metadata": {},
   "source": [
    "**Exercises**: Write a function called `test_max_iterations()`, that uses `pytest.raises` to test that `make_sequence()` raises a `StopIteration` if you try to generate an impossible sequence (e.g. a sequence with a `min_dist` that is too large).\n",
    "\n",
    "Then execute the cell below to run Pytest"
   ]
  },
  {
   "cell_type": "code",
   "execution_count": 83,
   "metadata": {},
   "outputs": [
    {
     "name": "stdout",
     "output_type": "stream",
     "text": [
      "\u001b[1m============================= test session starts =============================\u001b[0m\n",
      "platform win32 -- Python 3.10.16, pytest-8.3.4, pluggy-1.5.0\n",
      "rootdir: c:\\Users\\olebi\\Projects\\psychopy_workshop\\_old\n",
      "plugins: anyio-4.7.0, cov-6.0.0\n",
      "collected 9 items\n",
      "\n",
      "test_sequencegen.py \u001b[32m.\u001b[0m\u001b[32m.\u001b[0m\u001b[32m.\u001b[0m\u001b[32m.\u001b[0m\u001b[32m.\u001b[0m\u001b[32m.\u001b[0m\u001b[32m.\u001b[0m\u001b[32m.\u001b[0m\u001b[32m.\u001b[0m\u001b[32m                                            [100%]\u001b[0m\n",
      "\n",
      "\u001b[32m============================== \u001b[32m\u001b[1m9 passed\u001b[0m\u001b[32m in 0.07s\u001b[0m\u001b[32m ==============================\u001b[0m\n"
     ]
    }
   ],
   "source": [
    "!Pytest"
   ]
  },
  {
   "cell_type": "markdown",
   "metadata": {},
   "source": [
    "## 4. Parameterizing Tests"
   ]
  },
  {
   "cell_type": "markdown",
   "metadata": {},
   "source": [
    "**Exercise**: Parameterize the function `test_sequence_has_correct_len()` so that it tests that the sequence returned by `make_sequence` has desired length for  different values of `n_trials`"
   ]
  },
  {
   "cell_type": "markdown",
   "metadata": {},
   "source": [
    "**Exercise**: Parameterize the function `test_max_iteration()` so that it tests that it raises a `StopIteration` if you try to generate a sequence with three different impossible combionations of `conditions` and `n_trials`."
   ]
  }
 ],
 "metadata": {
  "kernelspec": {
   "display_name": "psychopy",
   "language": "python",
   "name": "python3"
  },
  "language_info": {
   "codemirror_mode": {
    "name": "ipython",
    "version": 3
   },
   "file_extension": ".py",
   "mimetype": "text/x-python",
   "name": "python",
   "nbconvert_exporter": "python",
   "pygments_lexer": "ipython3",
   "version": "3.10.16"
  }
 },
 "nbformat": 4,
 "nbformat_minor": 2
}
