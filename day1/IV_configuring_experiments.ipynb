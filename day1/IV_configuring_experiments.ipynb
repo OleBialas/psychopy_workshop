{
 "cells": [
  {
   "cell_type": "markdown",
   "metadata": {},
   "source": [
    "# IV. Configuring an Experiment"
   ]
  },
  {
   "cell_type": "code",
   "execution_count": null,
   "metadata": {},
   "outputs": [],
   "source": [
    "import json\n",
    "from psychopy.visual import Rect, Circ, TextStim, Window\n",
    "from psychopy.hardware.keyboard import Keyboard"
   ]
  },
  {
   "cell_type": "markdown",
   "metadata": {},
   "source": [
    "## 1. File Handling\n",
    "\n",
    "### Reference Table\n",
    "|Code | Description |\n",
    "|---  | ---|\n",
    "|`f = open(\"novel.txt\", \"w\")` | `open` the file `\"novel.txt\"` in `\"w\"` (writing) mode |\n",
    "|`f = write(\"Once upon a time ...\")` | Write to the opened file |\n",
    "| `f.close()`  | Close the file again |\n",
    "| `f = open(\"novel.txt\", \"r\")` | `open` the file `\"novel.txt\"` in \"r\" (reading) mode |\n",
    "| `text = f.read()` | Read the opened file |\n",
    "| `with open(\"novel.txt\", \"w\") as f:` <br> &nbsp;&nbsp;&nbsp;&nbsp; `f.write(\"...and they lived happily ever after.\")` | Write to a file within a context manager that opens and automatically closes the file again. |\n"
   ]
  },
  {
   "cell_type": "markdown",
   "metadata": {},
   "source": [
    "**Exercise**: `open` the file `\"paper.txt\"` in `\"w\"` mode, `write` the string `\"Introduction\"` to that file and `close` it again. Then, open the file in your editor."
   ]
  },
  {
   "cell_type": "code",
   "execution_count": null,
   "metadata": {},
   "outputs": [],
   "source": [
    "# Solution\n",
    "f = open(\"paper.txt\", \"w\")\n",
    "f.write(\"Introduction:\")\n",
    "f.close()"
   ]
  },
  {
   "cell_type": "markdown",
   "metadata": {},
   "source": [
    "Now, open `\"paper.txt\"` in `\"r\"` mode and `read` the file's content"
   ]
  },
  {
   "cell_type": "code",
   "execution_count": null,
   "metadata": {},
   "outputs": [],
   "source": [
    "# Solution\n",
    "f = open(\"paper.txt\", \"r\")\n",
    "f.read()"
   ]
  },
  {
   "cell_type": "markdown",
   "metadata": {},
   "source": [
    "---\n",
    "**Exercise**: `open` a file called `\"data.txt\"` in `\"w\"` mode, `write` the string `\"1,2,3,4,5,6\"` to that file and `close` it again:"
   ]
  },
  {
   "cell_type": "code",
   "execution_count": null,
   "metadata": {},
   "outputs": [],
   "source": [
    "# Solution\n",
    "f = open(\"data.txt\", \"w\")\n",
    "f.write(\"1,2,3,4,5,6\")\n",
    "f.close()"
   ]
  },
  {
   "cell_type": "markdown",
   "metadata": {},
   "source": [
    "Open `\"data.txt\"` in your editor and, on a new line, add thee numbers **7,8,9,10,11,12** and save. Then open `\"data.txt\"` in `\"r\"` mode and `read` the file's content"
   ]
  },
  {
   "cell_type": "code",
   "execution_count": null,
   "metadata": {},
   "outputs": [],
   "source": [
    "# Solution\n",
    "f = open(\"hello.txt\", \"r\")\n",
    "f.read()"
   ]
  },
  {
   "cell_type": "markdown",
   "metadata": {},
   "source": [
    "---\n",
    "**Exercise**: `open` the file `\"conditions.txt\"` in `\"w\"` mode `with` a context manager write the string `\"a,b,c\"` to that file:"
   ]
  },
  {
   "cell_type": "code",
   "execution_count": null,
   "metadata": {},
   "outputs": [],
   "source": [
    "with open(\"conditions.txt\", \"w\") as f:\n",
    "    f.write(\"a,b,c\")"
   ]
  },
  {
   "cell_type": "markdown",
   "metadata": {},
   "source": [
    "Open `\"conditions.txt\"` in your text editor and append **d** to the sequence of conditions. Then, open the file in `\"r\"` mode `with` a context manager and read the file and print its content\n"
   ]
  },
  {
   "cell_type": "code",
   "execution_count": null,
   "metadata": {},
   "outputs": [],
   "source": [
    "with open(\"conditions.txt\", \"r\") as f:\n",
    "    text = f.read()\n",
    "text"
   ]
  },
  {
   "cell_type": "markdown",
   "metadata": {},
   "source": [
    "---\n",
    "**Exercise**: `open` the file `\"trials.txt\"` in `\"w\"` mode `with` a context manager. Use a `for` loop within that contex to convert each element in `trials` to a string and write it on a new line in the file. (Hint: the string `\"\\n\"` represents a line break)"
   ]
  },
  {
   "cell_type": "code",
   "execution_count": null,
   "metadata": {},
   "outputs": [],
   "source": [
    "trials = [1, 2, 3, 4, 5]"
   ]
  },
  {
   "cell_type": "code",
   "execution_count": null,
   "metadata": {},
   "outputs": [],
   "source": [
    "# Solution\n",
    "with open(\"trials.txt\", \"w\") as f:\n",
    "    for t in trials:\n",
    "        f.write(str(t) + \"\\n\")"
   ]
  },
  {
   "cell_type": "markdown",
   "metadata": {},
   "source": [
    "Open `\"trials.txt\"` in \"r\" mode `with` a context manager, `read` it and print its content"
   ]
  },
  {
   "cell_type": "code",
   "execution_count": null,
   "metadata": {},
   "outputs": [],
   "source": [
    "# Solution\n",
    "with open(\"trials.txt\", \"r\") as f:\n",
    "    text = f.read()"
   ]
  },
  {
   "cell_type": "markdown",
   "metadata": {},
   "source": [
    "## 2. Reading and Writing Configuration Files\n",
    "\n",
    "|Code | Description |\n",
    "|---|---|\n",
    "|`x = {\"n\": 100, \"p\": 0.5}`| Define a dictionary `x` with the keys `\"n\"` and `\"p\"` and the values `100` and `0.5`|\n",
    "| `with open(\"p.json\", \"w\") as f:` <br> &nbsp;&nbsp;&nbsp;&nbsp; `json.dump(x, f)` | Write the dictionary `x` to the file `\"p.json\"`|\n",
    "| `with open(\"p.json\", \"w\") as f:` <br> &nbsp;&nbsp;&nbsp;&nbsp; `json.dump(x, f, indent=3)` | Write the dictionary `x` to the file `\"p.json\"` and `indent` each level with `3` spaces|\n",
    "| `with open(\"p.json\", \"w\") as f:` <br> &nbsp;&nbsp;&nbsp;&nbsp; `x = json.load(f)` | Load the file `\"p.json\"` and store its content in the dictionary `x`|"
   ]
  },
  {
   "cell_type": "markdown",
   "metadata": {},
   "source": [
    "**Exercise**: Create a dictionary with `\"n_trials\": 100` and `\"training\": true\"` and `\"feedback\": None` and write it to a file called `\"parameters.json\"`:"
   ]
  },
  {
   "cell_type": "code",
   "execution_count": null,
   "metadata": {},
   "outputs": [
    {
     "name": "stdout",
     "output_type": "stream",
     "text": [
      "{'n_trials': 100, 'training': True, 'feedback': None}\n"
     ]
    }
   ],
   "source": [
    "# Solution\n",
    "cfg = {\"n_trials\": 100, \"training\": True, \"feedback\": None}\n",
    "with open(\"parameters.json\", \"w\") as f:\n",
    "    json.dump(cfg, f)\n",
    "print(cfg)"
   ]
  },
  {
   "cell_type": "markdown",
   "metadata": {},
   "source": [
    "Open `\"parameters.json\"` in your editor --- how are the values `True` and `None` represented? Load the file's contents into a dictionary called `p` and print the values stored in `p[\"training\"]` and `p[\"feedback\"]`."
   ]
  },
  {
   "cell_type": "code",
   "execution_count": 54,
   "metadata": {},
   "outputs": [
    {
     "name": "stdout",
     "output_type": "stream",
     "text": [
      "True None\n"
     ]
    }
   ],
   "source": [
    "# Solution\n",
    "with open(\"parameters.json\", \"r\") as f:\n",
    "    p = json.load(f)\n",
    "print(p[\"training\"], p[\"feedback\"])"
   ]
  },
  {
   "cell_type": "markdown",
   "metadata": {},
   "source": [
    "---\n",
    "**Exercise**: Create a dictionary with `\"condition\": [\"a\", \"b\", \"c\"]\"` and `\"probability\": [0.2, 0.2, 0.6]\"` and write it to a file called `\"config.json\"` with `indent=4`:"
   ]
  },
  {
   "cell_type": "code",
   "execution_count": null,
   "metadata": {},
   "outputs": [],
   "source": [
    "# Solution\n",
    "cfg = {\"conditions\": [\"a\", \"b\", \"c\"], \"probability\": [0.3, 0.2, 0.6]}\n",
    "with open(\"config.json\", \"w\") as f:\n",
    "    json.dump(cfg, f, indent=4)"
   ]
  },
  {
   "cell_type": "markdown",
   "metadata": {},
   "source": [
    "Open `\"config.json\"` in your editor, add a field `\"n_blocks\":3` and save. Then, load the file into a dictionary called `config` and print the value stored in `config[\"n_blocks\"]`:"
   ]
  },
  {
   "cell_type": "code",
   "execution_count": null,
   "metadata": {},
   "outputs": [],
   "source": [
    "# Solution\n",
    "with open(\"config.json\", \"r\") as f:\n",
    "    config = json.load(f)\n",
    "print(config[\"n_blocks\"])"
   ]
  },
  {
   "cell_type": "markdown",
   "metadata": {},
   "source": [
    "---\n",
    "**Exercise**: In your editor, create a new file called `params.json` and write a JSON file that contains `\"keys\": [\"left\", \"right\"]`, `\"conditions\": [1,2,3]` and `\"training\": null`. Then, load this file into a dictionary called `params` and print the values stored in `params[\"keys\"]`"
   ]
  },
  {
   "cell_type": "code",
   "execution_count": 52,
   "metadata": {},
   "outputs": [
    {
     "name": "stdout",
     "output_type": "stream",
     "text": [
      "['left', 'right']\n"
     ]
    }
   ],
   "source": [
    "# Solution\n",
    "with open(\"params.json\", \"r\") as f:\n",
    "    cfg = json.load(f)\n",
    "print(cfg[\"keys\"])"
   ]
  },
  {
   "cell_type": "markdown",
   "metadata": {},
   "source": [
    "## 3. Configuring Visual Stimuli\n",
    "\n",
    "| Code                                                            | Description                                                   |\n",
    "| ---                                                             | ---                                                           |\n",
    "| `with Window(size=(800,600)) as win:`                           | Create a 800 by 600 `Window` using a context manager                  |\n",
    "| `win.flip()`                                                    | Clear the screen and display new image                        |\n",
    "| `text = TextStim(win, text=\"Hi!\")`                       | Create a text object for the given `Window`                   |\n",
    "| `rect = Rect(win, pos=(0,0), width=1, height=1, lineColor=\"white\")` | Create a rectangle for the given `Window`                     |\n",
    "| `circ = Circ (win, width=1, height=1, lineColor=\"white\")` | Create a rectangle for the given `Window`                     |\n",
    "| `rect.draw(), circ.draw(), text.draw()`                                                   | Draw a visual stimulus (e.g. rectangle) to the buffer         |"
   ]
  },
  {
   "cell_type": "markdown",
   "metadata": {},
   "source": [
    "**Example**: Create a dictionary with \""
   ]
  },
  {
   "cell_type": "code",
   "execution_count": null,
   "metadata": {},
   "outputs": [],
   "source": [
    "# Open a Window, wait for a keypress and close it again\n",
    "\n",
    "# Solution\n",
    "kb = keyboard.Keyboard()\n",
    "win = visual.Window()\n",
    "kb.waitKeys()\n",
    "win.close()\n"
   ]
  },
  {
   "cell_type": "code",
   "execution_count": null,
   "metadata": {},
   "outputs": [],
   "source": [
    "# Make the window fullscreen\n",
    "\n",
    "# Solution\n",
    "win = visual.Window(fullscr=True)\n",
    "kb.waitKeys()\n",
    "win.close()"
   ]
  },
  {
   "cell_type": "code",
   "execution_count": null,
   "metadata": {},
   "outputs": [],
   "source": [
    "# Draw a text to the window that says:\n",
    "# Welcome to the experiment!\n",
    "# (Press space to continue)\n",
    "# Then wait for the space key and close the window\n",
    "\n",
    "text = \"Welcome to the experiment! \\n (Press space to continue)\"\n",
    "\n",
    "# Solution\n",
    "kb = keyboard.Keyboard()\n",
    "win = visual.Window()\n",
    "text_stim = visual.TextStim(win, text=text)\n",
    "text_stim.draw()\n",
    "win.flip()\n",
    "kb.waitKeys()\n",
    "win.close()"
   ]
  },
  {
   "cell_type": "code",
   "execution_count": null,
   "metadata": {},
   "outputs": [],
   "source": [
    "# Increase the fontsize of the text\n",
    "\n",
    "# Solution\n",
    "win = visual.Window()\n",
    "text = \"Welcome to the experiment! \\n (Press space to continue)\"\n",
    "text_stim = visual.TextStim(win, text=text, height=0.2)\n",
    "text_stim.draw()\n",
    "win.flip()\n",
    "kb.waitKeys(keyList=['space'])\n",
    "win.close()"
   ]
  },
  {
   "cell_type": "code",
   "execution_count": null,
   "metadata": {},
   "outputs": [],
   "source": [
    "# Draw a rectangle with height and width equal to 1 and wait for a key press. \n",
    "# How does the resulting shape look?  What does that tell you about the coordinate system?\n",
    "\n",
    "# Solution\n",
    "win = visual.Window()\n",
    "rect = visual.Rect(win, width=1, height=1, lineColor='white')\n",
    "rect.draw()\n",
    "win.flip()\n",
    "kb.waitKeys()\n",
    "win.close()\n"
   ]
  },
  {
   "cell_type": "code",
   "execution_count": null,
   "metadata": {},
   "outputs": [],
   "source": [
    "# Use two flips"
   ]
  },
  {
   "cell_type": "code",
   "execution_count": null,
   "metadata": {},
   "outputs": [],
   "source": [
    "# Draw the image `smile.png` in the `day1` folder to a fullscreen window, wait for 2 seconds and close the window again\n",
    "\n",
    "# Solution\n",
    "win = visual.Window(fullscr=True)\n",
    "image = visual.ImageStim(win, image=\"smile.png\")\n",
    "image.draw()\n",
    "win.flip()\n",
    "core.wait(2)\n",
    "win.close()"
   ]
  },
  {
   "cell_type": "code",
   "execution_count": null,
   "metadata": {},
   "outputs": [],
   "source": [
    "# Draw a rectangle around the smiley face.\n",
    "\n",
    "# Solution\n",
    "win = visual.Window()\n",
    "image = visual.ImageStim(win, image=\"smile.png\")\n",
    "rect = visual.Rect(win, height=1.8, width=1.5, lineColor=\"white\")\n",
    "image.draw()\n",
    "rect.draw()\n",
    "win.flip()\n",
    "core.wait(2)# Draw a circle with radius 0.1 to every corner of the screen (you may use a for loop to do this)\n",
    "\n",
    "# Solution\n",
    "win = visual.Window()\n",
    "positions = [(-0.8, 0.8), (0.8, -0.8), (0.8, 0.8), (-0.8, -0.8)]\n",
    "for pos in positions:\n",
    "    circle = visual.Circle(win, radius=0.1, pos=pos, lineColor=\"white\")\n",
    "    circle.draw()\n",
    "win.flip()\n",
    "kb.waitKeys()\n",
    "win.close()\n",
    "win.close()"
   ]
  },
  {
   "cell_type": "code",
   "execution_count": null,
   "metadata": {},
   "outputs": [],
   "source": [
    "# add stuff about dict"
   ]
  },
  {
   "cell_type": "code",
   "execution_count": null,
   "metadata": {},
   "outputs": [],
   "source": [
    "# Load the configuration file `tone_detection_config.json` and print out it's contents\n",
    "config_fname = \"tone_detection_config.json\"\n",
    "\n",
    "# Solution\n",
    "f = open(config_fname, \"r\")\n",
    "cfg = json.load(f)\n",
    "f.close()\n",
    "print(cfg)"
   ]
  },
  {
   "cell_type": "code",
   "execution_count": null,
   "metadata": {},
   "outputs": [],
   "source": [
    "# Open `tone_detection_config.json` in your editor, increase the number of reversals, decrease the step size and save the file. \n",
    "# Then load the config and print out the value of `n_trials` to confirm it was modified\n",
    "\n",
    "# Solution\n",
    "f = open(config_fname, \"r\")\n",
    "cfg = json.load(f)\n",
    "f.close()\n",
    "print(cfg)"
   ]
  },
  {
   "cell_type": "code",
   "execution_count": null,
   "metadata": {},
   "outputs": [],
   "source": [
    "# Load the config file `posner_task_config.json` and print out it's contents\n",
    "config_fname = \"posner_task_config.json\"\n",
    "\n",
    "# Solution\n",
    "f = open(config_fname, \"r\")\n",
    "cfg = json.load(f)\n",
    "f.close()\n",
    "print(cfg)"
   ]
  },
  {
   "cell_type": "code",
   "execution_count": null,
   "metadata": {},
   "outputs": [],
   "source": [
    "# Modify posner_task.py so that it loads `posner_task_config.json` and\n",
    "# replace the paramteres defined at the beginning of the script with those from the file.\n",
    "# Then, run `posner_task.py`"
   ]
  },
  {
   "cell_type": "code",
   "execution_count": null,
   "metadata": {},
   "outputs": [],
   "source": [
    "# Change the value of `fix_dur` to 1 and the value of `cue` dur to 0.5.\n",
    "# Rerun `posner_task.py` to see the effect of the changes."
   ]
  },
  {
   "cell_type": "code",
   "execution_count": null,
   "metadata": {},
   "outputs": [],
   "source": [
    "# Include the coordinates for the left and right side that are passed to the `pos` argument of the\n",
    "# `Rect` and `Circle` class in `posner_task_config.json`. Replace all occurrences with the\n",
    "# respective values from the config. Run the experiment to confirm your modification worked."
   ]
  },
  {
   "cell_type": "markdown",
   "metadata": {},
   "source": [
    "## 4. Config + CLI"
   ]
  }
 ],
 "metadata": {
  "kernelspec": {
   "display_name": "psychopy310",
   "language": "python",
   "name": "python3"
  },
  "language_info": {
   "codemirror_mode": {
    "name": "ipython",
    "version": 3
   },
   "file_extension": ".py",
   "mimetype": "text/x-python",
   "name": "python",
   "nbconvert_exporter": "python",
   "pygments_lexer": "ipython3",
   "version": "3.10.16"
  }
 },
 "nbformat": 4,
 "nbformat_minor": 2
}
