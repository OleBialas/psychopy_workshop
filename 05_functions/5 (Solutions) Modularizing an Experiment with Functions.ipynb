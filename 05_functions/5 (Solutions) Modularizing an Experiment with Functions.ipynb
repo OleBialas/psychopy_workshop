{
 "cells": [
  {
   "cell_type": "markdown",
   "metadata": {},
   "source": [
    "# Modularizing an Experiment with Functions"
   ]
  },
  {
   "cell_type": "code",
   "execution_count": null,
   "metadata": {},
   "outputs": [],
   "source": [
    "%pip install psychopy\n",
    "%load_ext autoreload\n",
    "%autoreload 2"
   ]
  },
  {
   "cell_type": "code",
   "execution_count": 14,
   "metadata": {},
   "outputs": [],
   "source": [
    "from psychopy.sound import Sound\n",
    "from psychopy.event import waitKeys\n",
    "from psychopy.visual import Window, Rect\n",
    "Sound(stereo=False);"
   ]
  },
  {
   "cell_type": "markdown",
   "metadata": {},
   "source": [
    "## 1. Defining Functions\n",
    "\n",
    "### Reference Table\n",
    "|Code | Duration |\n",
    "| ---| ---|\n",
    "|`def add(a,b):` <br> &nbsp;&nbsp;&nbsp;&nbsp; `return a+b` | Define an `add()` function that takes in two parameters `a` and `b` and `return`s their sum\n",
    "|`assert a == b` | Raise an `AssertionError` if `a` is NOT equal to `b`, otherwise do nothing |\n",
    "|`tone = Sound(value=350, secs=0.5)` | Create a `tone` at `350`Hz with a duration of `0.5` seconds |"
   ]
  },
  {
   "cell_type": "markdown",
   "metadata": {},
   "source": [
    "**Example**: Write the `add()` function below, so that running the tests below shows `\"Success!\"`\n"
   ]
  },
  {
   "cell_type": "code",
   "execution_count": null,
   "metadata": {},
   "outputs": [],
   "source": [
    "# Solution\n",
    "def add(a,b):\n",
    "    return a+b"
   ]
  },
  {
   "cell_type": "code",
   "execution_count": null,
   "metadata": {},
   "outputs": [],
   "source": [
    "assert add(2,3) == 5\n",
    "assert add(4,4) == 8\n",
    "print('Success!')"
   ]
  },
  {
   "cell_type": "markdown",
   "metadata": {},
   "source": [
    "---\n",
    "**Exercise**: Write the `subtract()` function below, so that running the tests below shows `\"Success!\"`"
   ]
  },
  {
   "cell_type": "code",
   "execution_count": null,
   "metadata": {},
   "outputs": [],
   "source": [
    "# Solution\n",
    "def subtract(a, b):\n",
    "    return a-b"
   ]
  },
  {
   "cell_type": "code",
   "execution_count": null,
   "metadata": {},
   "outputs": [],
   "source": [
    "assert subtract(4,1) == 3\n",
    "assert subtract(7,12) == -5\n",
    "print('Success!')"
   ]
  },
  {
   "cell_type": "code",
   "execution_count": null,
   "metadata": {},
   "outputs": [],
   "source": [
    "# Solution\n",
    "def is_odd(a):\n",
    "    return bool(a%2)"
   ]
  },
  {
   "cell_type": "code",
   "execution_count": null,
   "metadata": {},
   "outputs": [],
   "source": [
    "assert is_odd(8) == False\n",
    "assert is_odd(5) == True\n",
    "print('Success!')"
   ]
  },
  {
   "cell_type": "markdown",
   "metadata": {},
   "source": [
    "---\n",
    "**Exercise**: Write the `make_list_of_zeros()` function below, so that running the tests below shows `\"Success!\"`\n"
   ]
  },
  {
   "cell_type": "code",
   "execution_count": null,
   "metadata": {},
   "outputs": [],
   "source": [
    "# Solution\n",
    "def make_list_of_zeros(n):\n",
    "    return [0]*n"
   ]
  },
  {
   "cell_type": "code",
   "execution_count": null,
   "metadata": {},
   "outputs": [],
   "source": [
    "assert len(make_list_of_zeros(10)) == 10\n",
    "for z in make_list_of_zeros(5):\n",
    "    assert z == 0\n",
    "print('Success!')"
   ]
  },
  {
   "cell_type": "markdown",
   "metadata": {},
   "source": [
    "---\n",
    "**Exercise**: Write a `fist_and_last()` function below, so that running the tests below shows \"Success!\". (Hint: to return multiple values, separate them by a comma: `return val1, val2`)"
   ]
  },
  {
   "cell_type": "code",
   "execution_count": null,
   "metadata": {},
   "outputs": [],
   "source": [
    "def first_and_last(x):\n",
    "    return x[0], x[-1]"
   ]
  },
  {
   "cell_type": "code",
   "execution_count": null,
   "metadata": {},
   "outputs": [],
   "source": [
    "assert first_and_last([1,2,3,4]) == (1,4)\n",
    "assert first_and_last([\"x\", \"c\"]) == (\"x\", \"c\")\n",
    "print(\"Success!\")"
   ]
  },
  {
   "cell_type": "markdown",
   "metadata": {},
   "source": [
    "---\n",
    "**Exercise**: Write the `make_tone()` function below, so that running the tests below shows `\"Success!\"`.<br>(Hint: `Sound(value==800).sound == 800`)\n"
   ]
  },
  {
   "cell_type": "code",
   "execution_count": null,
   "metadata": {},
   "outputs": [],
   "source": [
    "# Solution\n",
    "def make_tone(freq):\n",
    "    return Sound(value=freq)"
   ]
  },
  {
   "cell_type": "code",
   "execution_count": null,
   "metadata": {},
   "outputs": [],
   "source": [
    "assert make_tone(500).sound == 500\n",
    "assert make_tone(1200).sound == 1200\n",
    "print('Success!')"
   ]
  },
  {
   "cell_type": "markdown",
   "metadata": {},
   "source": [
    "---\n",
    "**Exercise**: Write the `change_pitch()` function below, so that running the tests below shows `\"Success!\"`"
   ]
  },
  {
   "cell_type": "code",
   "execution_count": null,
   "metadata": {},
   "outputs": [],
   "source": [
    "# Solution\n",
    "def change_pitch(tone, d):\n",
    "    return Sound(value=tone.sound+d)"
   ]
  },
  {
   "cell_type": "code",
   "execution_count": null,
   "metadata": {},
   "outputs": [],
   "source": [
    "tone = Sound(value=700)\n",
    "assert change_pitch(tone, 50).sound == 750\n",
    "assert change_pitch(tone, -100).sound == 600\n",
    "print('Success!')"
   ]
  },
  {
   "cell_type": "markdown",
   "metadata": {},
   "source": [
    "----\n",
    "**Exercise**: Write the `cumulative_duration()` function below, so that running the tests below shows `\"Success!\"`"
   ]
  },
  {
   "cell_type": "code",
   "execution_count": null,
   "metadata": {},
   "outputs": [],
   "source": [
    "# Solution\n",
    "def cumulative_duration(sound1, sound2):\n",
    "    return sound1.secs+sound2.secs"
   ]
  },
  {
   "cell_type": "code",
   "execution_count": null,
   "metadata": {},
   "outputs": [],
   "source": [
    "assert cumulative_duration(Sound(secs=1.2), Sound(secs=0.5)) == 1.7\n",
    "assert cumulative_duration(Sound(secs=0.8), Sound(secs=2)) == 2.8"
   ]
  },
  {
   "cell_type": "markdown",
   "metadata": {},
   "source": [
    "# 2. Optional Arguments"
   ]
  },
  {
   "cell_type": "markdown",
   "metadata": {},
   "source": [
    "**Example**: Write the `say_hi_to()` function below, so that running the tests below shows `\"Success!\"`"
   ]
  },
  {
   "cell_type": "code",
   "execution_count": null,
   "metadata": {},
   "outputs": [],
   "source": [
    "# Solutuon\n",
    "def say_hi_to(first, last=\"\", shout=False):\n",
    "    text = \"Hi\" + \" \" + first + \" \" + last + \"!\"\n",
    "    if shout:\n",
    "        return text.upper()\n",
    "    else:\n",
    "        return text"
   ]
  },
  {
   "cell_type": "code",
   "execution_count": null,
   "metadata": {},
   "outputs": [],
   "source": [
    "assert say_hi_to(first=\"Bob\") == \"Hi Bob !\"\n",
    "assert say_hi_to(first=\"Bob\", last=\"McBobface\") == \"Hi Bob McBobface!\"\n",
    "assert say_hi_to(first=\"Bob\", last=\"McBobface\", shout=True) == \"HI BOB MCBOBFACE!\"\n",
    "print(\"Success!\")"
   ]
  },
  {
   "cell_type": "markdown",
   "metadata": {},
   "source": [
    "---\n",
    "**Exercise**: Write the `make_tone()` function below, so that running the tests below shows `\"Success!\"`"
   ]
  },
  {
   "cell_type": "code",
   "execution_count": null,
   "metadata": {},
   "outputs": [],
   "source": [
    "# Solution\n",
    "def make_tone(frequency, duration=1.5):\n",
    "    return Sound(value=frequency, secs=duration)"
   ]
  },
  {
   "cell_type": "code",
   "execution_count": null,
   "metadata": {},
   "outputs": [],
   "source": [
    "assert make_tone(550).sound == 550\n",
    "assert make_tone(550).secs== 1.5\n",
    "assert make_tone(750, 0.1).sound == 750\n",
    "assert make_tone(750, 0.1).secs== 0.1\n",
    "print(\"Success!\")\n"
   ]
  },
  {
   "cell_type": "markdown",
   "metadata": {},
   "source": [
    "---\n",
    "**Exercise**: Write a `make_and_play_tone()` function below, so that running the tests below shows `\"Success!\"`"
   ]
  },
  {
   "cell_type": "code",
   "execution_count": null,
   "metadata": {},
   "outputs": [],
   "source": [
    "# Solution\n",
    "def make_and_play_tone(frequency, duration, play=False):\n",
    "    tone = Sound(value=frequency, secs=duration)\n",
    "    if play:\n",
    "        tone.play()\n",
    "    return tone"
   ]
  },
  {
   "cell_type": "code",
   "execution_count": null,
   "metadata": {},
   "outputs": [],
   "source": [
    "assert make_and_play_tone(500, duration=0.2, play=True).statusDetailed[\"State\"] == 1\n",
    "assert make_and_play_tone(500, 0.2).statusDetailed[\"State\"] == 0\n",
    "print(\"Success!\")"
   ]
  },
  {
   "cell_type": "markdown",
   "metadata": {},
   "source": [
    "---\n",
    "**Exercise**: Write a `make_two_tones()` function below, so that running the tests below shows `\"Success!\"`"
   ]
  },
  {
   "cell_type": "code",
   "execution_count": null,
   "metadata": {},
   "outputs": [],
   "source": [
    "# Solution\n",
    "def make_two_tones(freq1, freq2):\n",
    "    tone1 = Sound(value=freq1)\n",
    "    tone2 = Sound(value=freq2)\n",
    "    return tone1, tone2"
   ]
  },
  {
   "cell_type": "code",
   "execution_count": null,
   "metadata": {},
   "outputs": [],
   "source": [
    "assert make_two_tones(250, 4000)[0].sound == 250\n",
    "assert make_two_tones(250, 4000)[1].sound == 4000"
   ]
  },
  {
   "cell_type": "markdown",
   "metadata": {},
   "source": [
    "---\n",
    "**Exercise**: Write the `wait_keys()` function below, so that running the tests below shows `\"Success!\"`\n"
   ]
  },
  {
   "cell_type": "code",
   "execution_count": null,
   "metadata": {},
   "outputs": [],
   "source": [
    "# Solution\n",
    "def wait_keys(keys=None, timed=False):\n",
    "    keys = waitKeys(keyList=keys, timeStamped=timed)\n",
    "    return keys[0]"
   ]
  },
  {
   "cell_type": "code",
   "execution_count": null,
   "metadata": {},
   "outputs": [],
   "source": [
    "with Window() as win:\n",
    "    assert wait_keys([\"space\"]) == \"space\"\n",
    "    assert len(wait_keys(timed=True)) == 2\n",
    "print(\"Success!\")\n",
    "    "
   ]
  },
  {
   "cell_type": "markdown",
   "metadata": {},
   "source": [
    "---\n",
    "**Exercise**: Write a different `wait_keys()` function below, so that running the tests below shows `\"Success!\"`"
   ]
  },
  {
   "cell_type": "code",
   "execution_count": null,
   "metadata": {},
   "outputs": [],
   "source": [
    "# Solution\n",
    "def wait_keys(keys=[\"space\"], timed=True):\n",
    "    keys = waitKeys(keyList=keys, timeStamped=timed)\n",
    "    return keys[0]"
   ]
  },
  {
   "cell_type": "code",
   "execution_count": null,
   "metadata": {},
   "outputs": [],
   "source": [
    "with Window() as win:\n",
    "    assert len(wait_keys()) == 2\n",
    "    assert wait_keys()[0] == \"space\""
   ]
  },
  {
   "cell_type": "markdown",
   "metadata": {},
   "source": [
    "## 3. Importing functions"
   ]
  },
  {
   "cell_type": "markdown",
   "metadata": {},
   "source": [
    "**Example**: Create a file `say_hi_to.py` that contains a `say_hi_to()` function, which, when imported, passes the tests below"
   ]
  },
  {
   "cell_type": "code",
   "execution_count": null,
   "metadata": {},
   "outputs": [],
   "source": [
    "from say_hi_to import say_hi_to"
   ]
  },
  {
   "cell_type": "code",
   "execution_count": null,
   "metadata": {},
   "outputs": [],
   "source": [
    "assert say_hi_to(first=\"Bob\") == \"Hi Bob !\"\n",
    "assert say_hi_to(first=\"Bob\", last=\"McBobface\") == \"Hi Bob McBobface!\"\n",
    "assert say_hi_to(first=\"Bob\", last=\"McBobface\", shout=True) == \"HI BOB MCBOBFACE!\"\n",
    "print(\"Success!\")"
   ]
  },
  {
   "cell_type": "markdown",
   "metadata": {},
   "source": [
    "---\n",
    "**Example**: Create a file `make_tone.py` that contains a `make_tone()` function, which, when imported, passes the tests below"
   ]
  },
  {
   "cell_type": "code",
   "execution_count": null,
   "metadata": {},
   "outputs": [],
   "source": [
    "# Solution\n",
    "from make_tone import make_tone"
   ]
  },
  {
   "cell_type": "code",
   "execution_count": null,
   "metadata": {},
   "outputs": [],
   "source": [
    "assert make_tone(frequency=700).secs== 0.3\n",
    "assert make_tone(duration=1).sound==300\n",
    "print(\"Success!\")\n"
   ]
  },
  {
   "cell_type": "markdown",
   "metadata": {},
   "source": [
    "---\n",
    "**Example**: Add a `make_and_play_tone()` function to `make_tone.py` which, when imported, passes the tests below"
   ]
  },
  {
   "cell_type": "code",
   "execution_count": null,
   "metadata": {},
   "outputs": [],
   "source": [
    "# Solution\n",
    "from make_tone import make_and_play_tone"
   ]
  },
  {
   "cell_type": "code",
   "execution_count": null,
   "metadata": {},
   "outputs": [],
   "source": [
    "assert make_and_play_tone(3000, duration=0.2, play=True).statusDetailed[\"State\"] == 1\n",
    "assert make_and_play_tone(frequency=500, duration=0.2).statusDetailed[\"State\"] == 0\n",
    "print(\"Success!\")"
   ]
  },
  {
   "cell_type": "markdown",
   "metadata": {},
   "source": [
    "---\n",
    "**Example**: Create a file `keys.py` that contains a `wait_three_keys()` function, which, when imported, passes the tests below"
   ]
  },
  {
   "cell_type": "code",
   "execution_count": null,
   "metadata": {},
   "outputs": [],
   "source": [
    "# Solution\n",
    "from keys import wait_three_keys"
   ]
  },
  {
   "cell_type": "code",
   "execution_count": null,
   "metadata": {},
   "outputs": [],
   "source": [
    "with Window() as win:\n",
    "    assert wait_three_keys(\"space\", \"space\", \"space\") == (\"space\", \"space\", \"space\")\n",
    "    assert wait_three_keys(\"a\", \"b\", \"c\") == (\"a\", \"b\", \"c\")\n",
    "print(\"Success!\")"
   ]
  },
  {
   "cell_type": "markdown",
   "metadata": {},
   "source": [
    "## 4. Type Hints"
   ]
  },
  {
   "cell_type": "code",
   "execution_count": 2,
   "metadata": {},
   "outputs": [
    {
     "name": "stdout",
     "output_type": "stream",
     "text": [
      "Requirement already satisfied: mypy_ipython in /home/obi/miniforge3/envs/psychopy/lib/python3.9/site-packages (20.8.0)\n",
      "Requirement already satisfied: attrs in /home/obi/miniforge3/envs/psychopy/lib/python3.9/site-packages (from mypy_ipython) (24.2.0)\n",
      "Requirement already satisfied: incremental in /home/obi/miniforge3/envs/psychopy/lib/python3.9/site-packages (from mypy_ipython) (24.7.2)\n",
      "Requirement already satisfied: mypy in /home/obi/miniforge3/envs/psychopy/lib/python3.9/site-packages (from mypy_ipython) (1.13.0)\n",
      "Requirement already satisfied: IPython in /home/obi/miniforge3/envs/psychopy/lib/python3.9/site-packages (from mypy_ipython) (8.18.1)\n",
      "Requirement already satisfied: setuptools>=61.0 in /home/obi/miniforge3/envs/psychopy/lib/python3.9/site-packages (from incremental->mypy_ipython) (70.3.0)\n",
      "Requirement already satisfied: tomli in /home/obi/miniforge3/envs/psychopy/lib/python3.9/site-packages (from incremental->mypy_ipython) (2.2.1)\n",
      "Requirement already satisfied: decorator in /home/obi/miniforge3/envs/psychopy/lib/python3.9/site-packages (from IPython->mypy_ipython) (5.1.1)\n",
      "Requirement already satisfied: jedi>=0.16 in /home/obi/miniforge3/envs/psychopy/lib/python3.9/site-packages (from IPython->mypy_ipython) (0.19.2)\n",
      "Requirement already satisfied: matplotlib-inline in /home/obi/miniforge3/envs/psychopy/lib/python3.9/site-packages (from IPython->mypy_ipython) (0.1.7)\n",
      "Requirement already satisfied: prompt-toolkit<3.1.0,>=3.0.41 in /home/obi/miniforge3/envs/psychopy/lib/python3.9/site-packages (from IPython->mypy_ipython) (3.0.48)\n",
      "Requirement already satisfied: pygments>=2.4.0 in /home/obi/miniforge3/envs/psychopy/lib/python3.9/site-packages (from IPython->mypy_ipython) (2.18.0)\n",
      "Requirement already satisfied: stack-data in /home/obi/miniforge3/envs/psychopy/lib/python3.9/site-packages (from IPython->mypy_ipython) (0.6.3)\n",
      "Requirement already satisfied: traitlets>=5 in /home/obi/miniforge3/envs/psychopy/lib/python3.9/site-packages (from IPython->mypy_ipython) (5.14.3)\n",
      "Requirement already satisfied: typing-extensions in /home/obi/miniforge3/envs/psychopy/lib/python3.9/site-packages (from IPython->mypy_ipython) (4.12.2)\n",
      "Requirement already satisfied: exceptiongroup in /home/obi/miniforge3/envs/psychopy/lib/python3.9/site-packages (from IPython->mypy_ipython) (1.2.2)\n",
      "Requirement already satisfied: pexpect>4.3 in /home/obi/miniforge3/envs/psychopy/lib/python3.9/site-packages (from IPython->mypy_ipython) (4.9.0)\n",
      "Requirement already satisfied: mypy-extensions>=1.0.0 in /home/obi/miniforge3/envs/psychopy/lib/python3.9/site-packages (from mypy->mypy_ipython) (1.0.0)\n",
      "Requirement already satisfied: parso<0.9.0,>=0.8.4 in /home/obi/miniforge3/envs/psychopy/lib/python3.9/site-packages (from jedi>=0.16->IPython->mypy_ipython) (0.8.4)\n",
      "Requirement already satisfied: ptyprocess>=0.5 in /home/obi/miniforge3/envs/psychopy/lib/python3.9/site-packages (from pexpect>4.3->IPython->mypy_ipython) (0.7.0)\n",
      "Requirement already satisfied: wcwidth in /home/obi/miniforge3/envs/psychopy/lib/python3.9/site-packages (from prompt-toolkit<3.1.0,>=3.0.41->IPython->mypy_ipython) (0.2.13)\n",
      "Requirement already satisfied: executing>=1.2.0 in /home/obi/miniforge3/envs/psychopy/lib/python3.9/site-packages (from stack-data->IPython->mypy_ipython) (2.1.0)\n",
      "Requirement already satisfied: asttokens>=2.1.0 in /home/obi/miniforge3/envs/psychopy/lib/python3.9/site-packages (from stack-data->IPython->mypy_ipython) (3.0.0)\n",
      "Requirement already satisfied: pure-eval in /home/obi/miniforge3/envs/psychopy/lib/python3.9/site-packages (from stack-data->IPython->mypy_ipython) (0.2.3)\n",
      "Note: you may need to restart the kernel to use updated packages.\n"
     ]
    }
   ],
   "source": [
    "%pip install mypy_ipython\n",
    "%load_ext mypy_ipython"
   ]
  },
  {
   "cell_type": "code",
   "execution_count": 10,
   "metadata": {},
   "outputs": [],
   "source": [
    "def dprime(hits:int, misses:int, false_alarms:int)->float:\n",
    "    hit_rate = hits / (hits + misses)\n",
    "    fa_rate = false_alarms / (false_alarms + misses)\n",
    "    return hit_rate - fa_rate"
   ]
  },
  {
   "cell_type": "code",
   "execution_count": 15,
   "metadata": {},
   "outputs": [],
   "source": [
    "def wait_key(key:str=\"space\", timed:bool=False)->float:\n",
    "    keys = waitKeys(keyList=[key], timeStamped=timed)\n",
    "    return keys[0]"
   ]
  },
  {
   "cell_type": "code",
   "execution_count": null,
   "metadata": {},
   "outputs": [],
   "source": [
    "def make_tone(frequency:int, duration:float, play:bool)->Sound:\n",
    "    tone = Sound(value=frequency, secs=duration)\n",
    "    if play:\n",
    "        tone.play()\n",
    "    else:\n",
    "        return tone\n",
    "    "
   ]
  },
  {
   "cell_type": "code",
   "execution_count": null,
   "metadata": {},
   "outputs": [
    {
     "name": "stdout",
     "output_type": "stream",
     "text": [
      "\u001b[1m\u001b[32mSuccess: no issues found in 1 source file\u001b[m\n",
      "Type checking successful\n"
     ]
    }
   ],
   "source": [
    "%mypy"
   ]
  }
 ],
 "metadata": {
  "kernelspec": {
   "display_name": "psychopy",
   "language": "python",
   "name": "python3"
  },
  "language_info": {
   "codemirror_mode": {
    "name": "ipython",
    "version": 3
   },
   "file_extension": ".py",
   "mimetype": "text/x-python",
   "name": "python",
   "nbconvert_exporter": "python",
   "pygments_lexer": "ipython3",
   "version": "3.9.20"
  }
 },
 "nbformat": 4,
 "nbformat_minor": 2
}
