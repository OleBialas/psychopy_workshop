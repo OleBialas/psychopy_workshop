{
 "cells": [
  {
   "cell_type": "markdown",
   "metadata": {},
   "source": [
    "# III Introduction to PsychoPy\n"
   ]
  },
  {
   "cell_type": "code",
   "execution_count": null,
   "metadata": {},
   "outputs": [],
   "source": [
    "import numpy as np\n",
    "from psychopy import core, sound, visual\n",
    "from psychopy.hardware import keyboard\n",
    "import psychtoolbox as ptb\n"
   ]
  },
  {
   "cell_type": "markdown",
   "metadata": {},
   "source": [
    "## 1. Recoding responses\n",
    "\n",
    "| Code                                       | Description                                                               |\n",
    "| ---                                        | ---                                                                       |\n",
    "| `clock = core.Clock()`                     | Initialize a clock to keep time                                           |\n",
    "| `clock.reset()`                            | Reset the timer to zero                                                   |\n",
    "| `keys = event.getKeys(keyList=[\"O\", \"K\"])` | Return a list of all pressed keys that appear in `keyList`                |\n",
    "| `keys = event.waitKeys(maxWait=5)`         | Wait until a key was pressed or `maxWait` passed                          |\n",
    "| `keys = event.waitKeys(timeStamped=clock)` | Use an instance of `Clock` to time stamp the keypress                     |\n"
   ]
  },
  {
   "cell_type": "code",
   "execution_count": null,
   "metadata": {},
   "outputs": [
    {
     "name": "stdout",
     "output_type": "stream",
     "text": [
      "1.27333402633667\n"
     ]
    }
   ],
   "source": [
    "# Create an instance of the Keyboard class and wait for an keypress\n",
    "\n",
    "# Solution\n",
    "kb = keyboard.Keyboard()"
   ]
  },
  {
   "cell_type": "code",
   "execution_count": 14,
   "metadata": {},
   "outputs": [
    {
     "name": "stdout",
     "output_type": "stream",
     "text": [
      "<class 'list'>\n",
      "<class 'psychopy.hardware.keyboard.KeyPress'>\n"
     ]
    }
   ],
   "source": [
    "# Get all keys that have been pressed. What is the type of the returned data?\n",
    "\n",
    "# Solution\n",
    "keys = kb.getKeys()\n",
    "print(type(keys))\n",
    "print(type(keys[0]))"
   ]
  },
  {
   "cell_type": "code",
   "execution_count": null,
   "metadata": {},
   "outputs": [
    {
     "data": {
      "text/plain": [
       "[]"
      ]
     },
     "execution_count": 12,
     "metadata": {},
     "output_type": "execute_result"
    }
   ],
   "source": [
    "# Clear the keyboard buffer before getting the keys\n",
    "\n",
    "# Solution\n",
    "kb.clearEvents()\n",
    "kb.getKeys()"
   ]
  },
  {
   "cell_type": "code",
   "execution_count": null,
   "metadata": {},
   "outputs": [],
   "source": [
    "# Wait for a key press\n",
    "\n",
    "# Solution\n",
    "kb.waitKeys()"
   ]
  },
  {
   "cell_type": "code",
   "execution_count": null,
   "metadata": {},
   "outputs": [
    {
     "name": "stdout",
     "output_type": "stream",
     "text": [
      "left\n"
     ]
    }
   ],
   "source": [
    "# Wait for a press of the left or right arrow key. Print the name of the returned key.\n",
    "\n",
    "# Solution\n",
    "keys = kb.waitKeys(keyList=[\"left\", \"right\"])\n",
    "print(keys[0].name)"
   ]
  },
  {
   "cell_type": "code",
   "execution_count": null,
   "metadata": {},
   "outputs": [
    {
     "name": "stdout",
     "output_type": "stream",
     "text": [
      "None\n"
     ]
    }
   ],
   "source": [
    "# Wait for a key press for, at maximum, 3 seconds. What is returned when 3 seconds pass without a key being pressed?\n",
    "\n",
    "# Solution\n",
    "keys = kb.waitKeys(maxWait=3)\n",
    "print(keys)"
   ]
  },
  {
   "cell_type": "code",
   "execution_count": 20,
   "metadata": {},
   "outputs": [
    {
     "name": "stdout",
     "output_type": "stream",
     "text": [
      "1395.6969585418701\n"
     ]
    }
   ],
   "source": [
    "# Wait for a key press and print the reaction time.\n",
    "\n",
    "# Solution\n",
    "keys = kb.waitKeys()\n",
    "print(keys[0].rt)"
   ]
  },
  {
   "cell_type": "code",
   "execution_count": 23,
   "metadata": {},
   "outputs": [
    {
     "name": "stdout",
     "output_type": "stream",
     "text": [
      "0.4224891662597656\n"
     ]
    }
   ],
   "source": [
    "# Reset the keyboard clock, then wait for a key press and print the reaction time\n",
    "\n",
    "# Solution\n",
    "kb.clock.reset()\n",
    "keys = kb.waitKeys()\n",
    "print(keys[0].rt)"
   ]
  },
  {
   "cell_type": "markdown",
   "metadata": {},
   "source": [
    "## 2. Showing Visual Stimuli\n",
    "\n",
    "| Code                                                            | Description                                                   |\n",
    "| ---                                                             | ---                                                           |\n",
    "| `win = visual.Window(size=(800,600))`                           | Create an Window that is 800x600 pixels                       |\n",
    "| `win.flip()`                                                    | Clear the screen and display new image                        |\n",
    "| `win.close()`                                                   | Close the Window (usually at the end of the experiment)       |\n",
    "| `text = visual.textstim(win, text=\"hi!\")`                       | Create a text object for the given `Window`                   |\n",
    "| `rect = visual.Rect(win, width=1, height=1, lineColor=\"white\")` | Create a rectangle for the given `Window`                     |\n",
    "| `rect.draw()`                                                   | Draw a visual stimulus (e.g. rectangle) to the buffer         |"
   ]
  },
  {
   "cell_type": "code",
   "execution_count": null,
   "metadata": {},
   "outputs": [
    {
     "name": "stdout",
     "output_type": "stream",
     "text": [
      "4481.2320 \tWARNING \tMonitor specification not found. Creating a temporary one...\n"
     ]
    }
   ],
   "source": [
    "# Open a Window, wait for a keypress and close it again\n",
    "\n",
    "# Solution\n",
    "win = visual.Window()\n",
    "kb.waitKeys()\n",
    "win.close()\n"
   ]
  },
  {
   "cell_type": "code",
   "execution_count": null,
   "metadata": {},
   "outputs": [],
   "source": [
    "# Make the window fullscreen\n",
    "\n",
    "# Solution\n",
    "win = visual.Window(fullscr=True)\n",
    "kb.waitKeys()\n",
    "win.close()"
   ]
  },
  {
   "cell_type": "code",
   "execution_count": 30,
   "metadata": {},
   "outputs": [
    {
     "name": "stdout",
     "output_type": "stream",
     "text": [
      "37076.6426 \tWARNING \tMonitor specification not found. Creating a temporary one...\n"
     ]
    }
   ],
   "source": [
    "# Draw a text to the window that says:\n",
    "# Welcome to the experiment!\n",
    "# (Press space to continue)\n",
    "# Then wait for the space key and close the window\n",
    "\n",
    "# Solution\n",
    "win = visual.Window()\n",
    "text = \"Welcome to the experiment! \\n (Press space to continue)\"\n",
    "text_stim = visual.TextStim(win, text=text)\n",
    "text_stim.draw()\n",
    "win.flip()\n",
    "kb.waitKeys()\n",
    "win.close()"
   ]
  },
  {
   "cell_type": "code",
   "execution_count": null,
   "metadata": {},
   "outputs": [
    {
     "name": "stdout",
     "output_type": "stream",
     "text": [
      "37149.9298 \tWARNING \tMonitor specification not found. Creating a temporary one...\n"
     ]
    }
   ],
   "source": [
    "# Increase the fontsize of the text\n",
    "\n",
    "# Solution\n",
    "win = visual.Window()\n",
    "text = \"Welcome to the experiment! \\n (Press space to continue)\"\n",
    "text_stim = visual.TextStim(win, text=text, height=0.2)\n",
    "text_stim.draw()\n",
    "win.flip()\n",
    "kb.waitKeys(keyList=['space'])\n",
    "win.close()"
   ]
  },
  {
   "cell_type": "code",
   "execution_count": 50,
   "metadata": {},
   "outputs": [
    {
     "name": "stdout",
     "output_type": "stream",
     "text": [
      "38890.3995 \tWARNING \tMonitor specification not found. Creating a temporary one...\n"
     ]
    }
   ],
   "source": [
    "# Draw a rectangle with height and width equal to 1 and wait for a key press. \n",
    "# How does the resulting shape look?  What does that tell you about the coordinate system?\n",
    "\n",
    "# Solution\n",
    "win = visual.Window()\n",
    "rect = visual.Rect(win, width=1, height=1, lineColor='white')\n",
    "rect.draw()\n",
    "win.flip()\n",
    "kb.waitKeys()\n",
    "win.close()\n"
   ]
  },
  {
   "cell_type": "code",
   "execution_count": null,
   "metadata": {},
   "outputs": [
    {
     "name": "stdout",
     "output_type": "stream",
     "text": [
      "37908.0412 \tWARNING \tMonitor specification not found. Creating a temporary one...\n",
      "37908.1641 \tWARNING \tUser requested fullscreen with size [800 600], but screen is actually [1920, 1080]. Using actual size\n"
     ]
    }
   ],
   "source": [
    "# Draw the image `smile.png` in the `day1` folder to a fullscreen window, wait for 2 seconds and close the window again\n",
    "\n",
    "# Solution\n",
    "win = visual.Window(fullscr=True)\n",
    "image = visual.ImageStim(win, image=\"smile.png\")\n",
    "image.draw()\n",
    "win.flip()\n",
    "core.wait(2)\n",
    "win.close()"
   ]
  },
  {
   "cell_type": "code",
   "execution_count": 55,
   "metadata": {},
   "outputs": [
    {
     "name": "stdout",
     "output_type": "stream",
     "text": [
      "39077.0154 \tWARNING \tMonitor specification not found. Creating a temporary one...\n"
     ]
    }
   ],
   "source": [
    "# Draw a rectangle around the smiley face.\n",
    "\n",
    "# Solution\n",
    "win = visual.Window()\n",
    "image = visual.ImageStim(win, image=\"smile.png\")\n",
    "rect = visual.Rect(win, height=1.8, width=1.5, lineColor=\"white\")\n",
    "image.draw()\n",
    "rect.draw()\n",
    "win.flip()\n",
    "core.wait(2)\n",
    "win.close()"
   ]
  },
  {
   "cell_type": "code",
   "execution_count": 58,
   "metadata": {},
   "outputs": [
    {
     "name": "stdout",
     "output_type": "stream",
     "text": [
      "0.11470794677734375\n",
      "39629.9251 \tWARNING \tMonitor specification not found. Creating a temporary one...\n"
     ]
    }
   ],
   "source": [
    "# Draw an image to the window and reset the keyboard clock on the window flip.\n",
    "# Wait for the space key and print the reaction time\n",
    "\n",
    "# Solution\n",
    "win = visual.Window()\n",
    "image = visual.ImageStim(win, image=\"smile.png\")\n",
    "image.draw()\n",
    "win.callOnFlip(kb.clock.reset)\n",
    "win.flip()\n",
    "keys = kb.waitKeys(keyList=[\"space\"])\n",
    "print(keys[0].rt)\n",
    "win.close()"
   ]
  },
  {
   "cell_type": "code",
   "execution_count": null,
   "metadata": {},
   "outputs": [
    {
     "name": "stdout",
     "output_type": "stream",
     "text": [
      "41339.1555 \tWARNING \tMonitor specification not found. Creating a temporary one...\n"
     ]
    }
   ],
   "source": [
    "# Draw a circle with radius 0.1 to every corner of the screen (you may use a for loop to do this)\n",
    "\n",
    "# Solution\n",
    "win = visual.Window()\n",
    "positions = [(-0.8, 0.8), (0.8, -0.8), (0.8, 0.8), (-0.8, -0.8)]\n",
    "for pos in positions:\n",
    "    circle = visual.Circle(win, radius=0.1, pos=pos, lineColor=\"white\")\n",
    "    circle.draw()\n",
    "win.flip()\n",
    "kb.waitKeys()\n",
    "win.close()"
   ]
  },
  {
   "cell_type": "markdown",
   "metadata": {},
   "source": [
    "## 3. Playing Sounds\n",
    "\n",
    "| Code                                | Description                                           |\n",
    "| ---                                 | ---                                                   |\n",
    "| `tone = sound.Sound(\"A\", secs=0.5)` | Generate an A note that lasts 500 ms                  |\n",
    "| `tone.play(when=now+0.5)`           | Schedule sound to play exactly 500 ms from now        |\n",
    "| `tone.play(loop=3)`                 | Play the sound and repeat it in a loop                |\n",
    "| `tone.stop`                         | Stop the playback of the sound                        |\n",
    "| `tone.sndArray`                     | Attribute containing the sound values                 |\n",
    "| `tone.setSound(x)`                  | Replace the content of `.sndArray` with the array `x` |\n",
    "| `now = ptb.GetSecs()`               | Get time stamp from the PsychToolBox clock            |\n"
   ]
  },
  {
   "cell_type": "code",
   "execution_count": 2,
   "metadata": {},
   "outputs": [
    {
     "data": {
      "text/plain": [
       "{'HD-Audio Generic: ALC215 Analog (hw:1,0)': {'DeviceIndex': 0.0,\n",
       "  'HostAudioAPIId': 8.0,\n",
       "  'HostAudioAPIName': 'ALSA',\n",
       "  'DeviceName': 'HD-Audio Generic: ALC215 Analog (hw:1,0)',\n",
       "  'NrInputChannels': 2.0,\n",
       "  'NrOutputChannels': 2.0,\n",
       "  'LowInputLatency': 0.008707482993197279,\n",
       "  'HighInputLatency': 0.034829931972789115,\n",
       "  'LowOutputLatency': 0.008,\n",
       "  'HighOutputLatency': 0.032,\n",
       "  'DefaultSampleRate': 48000.0,\n",
       "  'id': 0}}"
      ]
     },
     "execution_count": 2,
     "metadata": {},
     "output_type": "execute_result"
    }
   ],
   "source": [
    "# Print the information about your sound device(s)\n",
    "\n",
    "# Solution\n",
    "sound.getDevices()"
   ]
  },
  {
   "cell_type": "code",
   "execution_count": 7,
   "metadata": {},
   "outputs": [],
   "source": [
    "# Play an 'A' note for 0.5 seconds\n",
    "\n",
    "# Solution\n",
    "tone = sound.Sound(\"A\", secs=0.5, stereo=False)\n",
    "tone.play()"
   ]
  },
  {
   "cell_type": "code",
   "execution_count": null,
   "metadata": {},
   "outputs": [],
   "source": [
    "# Lower the volume of the tone to 0.2 before playing it\n",
    "\n",
    "# Solution\n",
    "tone = sound.Sound(\"A\", secs=0.5, stereo=False)\n",
    "tone.setVolume"
   ]
  },
  {
   "cell_type": "code",
   "execution_count": null,
   "metadata": {},
   "outputs": [
    {
     "name": "stdout",
     "output_type": "stream",
     "text": [
      "A\n",
      "B\n",
      "C\n"
     ]
    }
   ],
   "source": [
    "# Play the notes A B and C in sequence (you may use a for loop). Make sure the sounds do not overlap.\n",
    "\n",
    "# Solution\n",
    "for note in [\"A\", \"B\", \"C\"]:\n",
    "    print(note)\n",
    "    tone = sound.Sound(note, secs=0.5)\n",
    "    tone.play()\n",
    "    core.wait(0.5)"
   ]
  },
  {
   "cell_type": "code",
   "execution_count": null,
   "metadata": {},
   "outputs": [],
   "source": [
    "# Play the Gaussian noise signal defined below\n",
    "\n",
    "secs = 1\n",
    "samplerate = 48000\n",
    "signal =  np.random.randn(secs*samplerate)\n",
    "\n",
    "# Solution\n",
    "noise = sound.Sound()\n",
    "noise.setSound(signal)\n",
    "noise.play()"
   ]
  },
  {
   "cell_type": "code",
   "execution_count": null,
   "metadata": {},
   "outputs": [],
   "source": [
    "# Generate a sound object that contains 1 second of white noise and play it in a loop 5 times.\n",
    "# Play a tone 1 second after the noise started\n",
    "\n",
    "# Solution\n",
    "noise = sound.Sound()\n",
    "noise.setSound(np.random.randn(48000))\n",
    "tone = sound.Sound()\n",
    "noise.play(loops=5)\n",
    "core.wait(1)\n",
    "tone.play()"
   ]
  },
  {
   "cell_type": "code",
   "execution_count": null,
   "metadata": {},
   "outputs": [],
   "source": [
    "# Repeat the above exercise but schedule the tone so that it plays EXACTLY 0.5 seconds after the noise onset.\n",
    "\n",
    "# Solution\n",
    "noise = sound.Sound()\n",
    "noise.setSound(np.random.randn(48000))\n",
    "tone = sound.Sound()\n",
    "now = ptb.GetSecs()\n",
    "tone.play(when=now+0.5)\n",
    "noise.play(loops=5)\n",
    "core.wait(1)\n",
    "tone.play()\n"
   ]
  }
 ],
 "metadata": {
  "kernelspec": {
   "display_name": "psychopy",
   "language": "python",
   "name": "python3"
  },
  "language_info": {
   "codemirror_mode": {
    "name": "ipython",
    "version": 3
   },
   "file_extension": ".py",
   "mimetype": "text/x-python",
   "name": "python",
   "nbconvert_exporter": "python",
   "pygments_lexer": "ipython3",
   "version": "3.9.20"
  }
 },
 "nbformat": 4,
 "nbformat_minor": 2
}
