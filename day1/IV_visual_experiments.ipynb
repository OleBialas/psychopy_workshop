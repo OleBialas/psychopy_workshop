{
 "cells": [
  {
   "cell_type": "markdown",
   "metadata": {},
   "source": [
    "# IV. Configuring an Experiment"
   ]
  },
  {
   "cell_type": "markdown",
   "metadata": {},
   "source": [
    "## 1. Showing Visual Stimuli\n",
    "\n",
    "| Code                                                            | Description                                                   |\n",
    "| ---                                                             | ---                                                           |\n",
    "| `win = visual.Window(size=(800,600))`                           | Create an Window that is 800x600 pixels                       |\n",
    "| `win.flip()`                                                    | Clear the screen and display new image                        |\n",
    "| `win.close()`                                                   | Close the Window (usually at the end of the experiment)       |\n",
    "| `text = visual.textstim(win, text=\"hi!\")`                       | Create a text object for the given `Window`                   |\n",
    "| `rect = visual.Rect(win, width=1, height=1, lineColor=\"white\")` | Create a rectangle for the given `Window`                     |\n",
    "| `rect.draw()`                                                   | Draw a visual stimulus (e.g. rectangle) to the buffer         |"
   ]
  },
  {
   "cell_type": "code",
   "execution_count": null,
   "metadata": {},
   "outputs": [
    {
     "name": "stdout",
     "output_type": "stream",
     "text": [
      "4481.2320 \tWARNING \tMonitor specification not found. Creating a temporary one...\n"
     ]
    }
   ],
   "source": [
    "# Open a Window, wait for a keypress and close it again\n",
    "\n",
    "# Solution\n",
    "win = visual.Window()\n",
    "kb.waitKeys()\n",
    "win.close()\n"
   ]
  },
  {
   "cell_type": "code",
   "execution_count": null,
   "metadata": {},
   "outputs": [],
   "source": [
    "# Make the window fullscreen\n",
    "\n",
    "# Solution\n",
    "win = visual.Window(fullscr=True)\n",
    "kb.waitKeys()\n",
    "win.close()"
   ]
  },
  {
   "cell_type": "code",
   "execution_count": null,
   "metadata": {},
   "outputs": [
    {
     "name": "stdout",
     "output_type": "stream",
     "text": [
      "37076.6426 \tWARNING \tMonitor specification not found. Creating a temporary one...\n"
     ]
    }
   ],
   "source": [
    "# Draw a text to the window that says:\n",
    "# Welcome to the experiment!\n",
    "# (Press space to continue)\n",
    "# Then wait for the space key and close the window\n",
    "\n",
    "# Solution\n",
    "win = visual.Window()\n",
    "text = \"Welcome to the experiment! \\n (Press space to continue)\"\n",
    "text_stim = visual.TextStim(win, text=text)\n",
    "text_stim.draw()\n",
    "win.flip()\n",
    "kb.waitKeys()\n",
    "win.close()"
   ]
  },
  {
   "cell_type": "code",
   "execution_count": null,
   "metadata": {},
   "outputs": [
    {
     "name": "stdout",
     "output_type": "stream",
     "text": [
      "37149.9298 \tWARNING \tMonitor specification not found. Creating a temporary one...\n"
     ]
    }
   ],
   "source": [
    "# Increase the fontsize of the text\n",
    "\n",
    "# Solution\n",
    "win = visual.Window()\n",
    "text = \"Welcome to the experiment! \\n (Press space to continue)\"\n",
    "text_stim = visual.TextStim(win, text=text, height=0.2)\n",
    "text_stim.draw()\n",
    "win.flip()\n",
    "kb.waitKeys(keyList=['space'])\n",
    "win.close()"
   ]
  },
  {
   "cell_type": "code",
   "execution_count": null,
   "metadata": {},
   "outputs": [
    {
     "name": "stdout",
     "output_type": "stream",
     "text": [
      "38890.3995 \tWARNING \tMonitor specification not found. Creating a temporary one...\n"
     ]
    }
   ],
   "source": [
    "# Draw a rectangle with height and width equal to 1 and wait for a key press. \n",
    "# How does the resulting shape look?  What does that tell you about the coordinate system?\n",
    "\n",
    "# Solution\n",
    "win = visual.Window()\n",
    "rect = visual.Rect(win, width=1, height=1, lineColor='white')\n",
    "rect.draw()\n",
    "win.flip()\n",
    "kb.waitKeys()\n",
    "win.close()\n"
   ]
  },
  {
   "cell_type": "code",
   "execution_count": null,
   "metadata": {},
   "outputs": [
    {
     "name": "stdout",
     "output_type": "stream",
     "text": [
      "37908.0412 \tWARNING \tMonitor specification not found. Creating a temporary one...\n",
      "37908.1641 \tWARNING \tUser requested fullscreen with size [800 600], but screen is actually [1920, 1080]. Using actual size\n"
     ]
    }
   ],
   "source": [
    "# Draw the image `smile.png` in the `day1` folder to a fullscreen window, wait for 2 seconds and close the window again\n",
    "\n",
    "# Solution\n",
    "win = visual.Window(fullscr=True)\n",
    "image = visual.ImageStim(win, image=\"smile.png\")\n",
    "image.draw()\n",
    "win.flip()\n",
    "core.wait(2)\n",
    "win.close()"
   ]
  },
  {
   "cell_type": "code",
   "execution_count": null,
   "metadata": {},
   "outputs": [
    {
     "name": "stdout",
     "output_type": "stream",
     "text": [
      "39077.0154 \tWARNING \tMonitor specification not found. Creating a temporary one...\n"
     ]
    }
   ],
   "source": [
    "# Draw a rectangle around the smiley face.\n",
    "\n",
    "# Solution\n",
    "win = visual.Window()\n",
    "image = visual.ImageStim(win, image=\"smile.png\")\n",
    "rect = visual.Rect(win, height=1.8, width=1.5, lineColor=\"white\")\n",
    "image.draw()\n",
    "rect.draw()\n",
    "win.flip()\n",
    "core.wait(2)# Draw a circle with radius 0.1 to every corner of the screen (you may use a for loop to do this)\n",
    "\n",
    "# Solution\n",
    "win = visual.Window()\n",
    "positions = [(-0.8, 0.8), (0.8, -0.8), (0.8, 0.8), (-0.8, -0.8)]\n",
    "for pos in positions:\n",
    "    circle = visual.Circle(win, radius=0.1, pos=pos, lineColor=\"white\")\n",
    "    circle.draw()\n",
    "win.flip()\n",
    "kb.waitKeys()\n",
    "win.close()\n",
    "win.close()"
   ]
  },
  {
   "cell_type": "code",
   "execution_count": null,
   "metadata": {},
   "outputs": [],
   "source": [
    "%%capture\n",
    "!python posner_task.py"
   ]
  },
  {
   "cell_type": "markdown",
   "metadata": {},
   "source": [
    "## 2.Experimental Configuration\n",
    "\n",
    "### Reference Table\n",
    "| Code                           | Description                                                |\n",
    "| ---                            | ---                                                        |\n",
    "| `f = open(\"config.json\", \"w\")` | Open a file called `\"config.json\"` in `\"w\"` (writing) mode |\n",
    "| `f = open(\"config.json\", \"r\")` | Open a file called `\"config.json\"` in `\"r\"` (reading) mode |\n",
    "| `f.close()`                    | Close the file `f`                                         |\n",
    "| `x = {\"dur\": 0.5, \"freq\":500}` | Define a dictionary and assign it to the variable `x`      |\n",
    "| `json.dump(x, f)`              | Save the dictionary `x` to the (opened) file `f`          |\n",
    "| `json.load(f)`                 | Load a dictionary from the (opened) JSON file `f` and assign it to `x` |"
   ]
  },
  {
   "cell_type": "code",
   "execution_count": 22,
   "metadata": {},
   "outputs": [],
   "source": [
    "import json"
   ]
  },
  {
   "cell_type": "code",
   "execution_count": 26,
   "metadata": {},
   "outputs": [],
   "source": [
    "# Write the dictionary `cfg` to a .json file\n",
    "cfg = {\"conditions\": [\"a\", \"b\", \"c\"], \"probability\": [0.2, 0.2, 0.6]}\n",
    "\n",
    "# Solution\n",
    "f = open(\"test_config.json\", \"w\")\n",
    "json.dump(cfg, f)\n",
    "f.close()"
   ]
  },
  {
   "cell_type": "code",
   "execution_count": 27,
   "metadata": {},
   "outputs": [
    {
     "name": "stdout",
     "output_type": "stream",
     "text": [
      "{'freqs': [800, 1000, 1200], 'dB_start': 65, 'dB_step:': 1.5, 'n_reversals': 5}\n"
     ]
    }
   ],
   "source": [
    "# Load the configuration file `tone_detection_config.json` and print out it's contents\n",
    "config_fname = \"tone_detection_config.json\"\n",
    "\n",
    "# Solution\n",
    "f = open(config_fname, \"r\")\n",
    "cfg = json.load(f)\n",
    "f.close()\n",
    "print(cfg)"
   ]
  },
  {
   "cell_type": "code",
   "execution_count": null,
   "metadata": {},
   "outputs": [
    {
     "name": "stdout",
     "output_type": "stream",
     "text": [
      "{'freqs': [800, 1000, 1200], 'dB_start': 65, 'dB_step:': 1.5, 'n_reversals': 5}\n"
     ]
    }
   ],
   "source": [
    "# Open `tone_detection_config.json` in your editor, increase the number of reversals, decrease the step size and save the file. \n",
    "# Then load the config and print out the value of `n_trials` to confirm it was modified\n",
    "\n",
    "# Solution\n",
    "f = open(config_fname, \"r\")\n",
    "cfg = json.load(f)\n",
    "f.close()\n",
    "print(cfg)"
   ]
  },
  {
   "cell_type": "code",
   "execution_count": 29,
   "metadata": {},
   "outputs": [
    {
     "name": "stdout",
     "output_type": "stream",
     "text": [
      "{'n_trials': 10, 'p_valid': 0.8, 'fix_dur': 0.5, 'cue_dur': 0.5}\n"
     ]
    }
   ],
   "source": [
    "# Load the config file `posner_task_config.json` and print out it's contents\n",
    "config_fname = \"posner_task_config.json\"\n",
    "\n",
    "# Solution\n",
    "f = open(config_fname, \"r\")\n",
    "cfg = json.load(f)\n",
    "f.close()\n",
    "print(cfg)"
   ]
  },
  {
   "cell_type": "code",
   "execution_count": null,
   "metadata": {},
   "outputs": [],
   "source": [
    "# Modify posner_task.py so that it loads `posner_task_config.json` and\n",
    "# replace the paramteres defined at the beginning of the script with those from the file.\n",
    "# Then, run `posner_task.py`"
   ]
  },
  {
   "cell_type": "code",
   "execution_count": null,
   "metadata": {},
   "outputs": [],
   "source": [
    "# Change the value of `fix_dur` to 1 and the value of `cue` dur to 0.5.\n",
    "# Rerun `posner_task.py` to see the effect of the changes."
   ]
  },
  {
   "cell_type": "code",
   "execution_count": null,
   "metadata": {},
   "outputs": [],
   "source": [
    "# Include the coordinates for the left and right side that are passed to the `pos` argument of the\n",
    "# `Rect` and `Circle` class in `posner_task_config.json`. Replace all occurrences with the\n",
    "# respective values from the config. Run the experiment to confirm your modification worked."
   ]
  },
  {
   "cell_type": "markdown",
   "metadata": {},
   "source": [
    "## 3. Timing Visual Stimuli"
   ]
  },
  {
   "cell_type": "code",
   "execution_count": null,
   "metadata": {},
   "outputs": [],
   "source": [
    "# Get the frame rate"
   ]
  },
  {
   "cell_type": "code",
   "execution_count": null,
   "metadata": {},
   "outputs": [],
   "source": [
    "# get future flip time"
   ]
  },
  {
   "cell_type": "code",
   "execution_count": null,
   "metadata": {},
   "outputs": [],
   "source": [
    "# calculate the time it takes to load and draw an image"
   ]
  }
 ],
 "metadata": {
  "kernelspec": {
   "display_name": "psychopy",
   "language": "python",
   "name": "python3"
  },
  "language_info": {
   "codemirror_mode": {
    "name": "ipython",
    "version": 3
   },
   "file_extension": ".py",
   "mimetype": "text/x-python",
   "name": "python",
   "nbconvert_exporter": "python",
   "pygments_lexer": "ipython3",
   "version": "3.9.20"
  }
 },
 "nbformat": 4,
 "nbformat_minor": 2
}
