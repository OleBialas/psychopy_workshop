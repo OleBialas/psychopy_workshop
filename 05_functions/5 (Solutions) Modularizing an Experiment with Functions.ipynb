{
 "cells": [
  {
   "cell_type": "markdown",
   "metadata": {},
   "source": [
    "# Modularizing an Experiment with Functions\n",
    "\n",
    "The aim of this course is to learn how to create programs that are robust and reusable.\n",
    "Functions play an ingetral role in achieving this aim.\n",
    "Functions allow us to spearate our program into different logical units that have a clear scope and purpose.\n",
    "This allow us to reuse the same function in multiple programs.\n",
    "A function that does one thing can also be easily tested because its scope is limited. Finally, functions with a clear purpose and descriptive name make our code much more readable and act as a form of self-documenting code: it is very clear what unctions called `play_tone()` or `draw_circle()` do without having to consult any additional documentation."
   ]
  },
  {
   "cell_type": "code",
   "execution_count": 137,
   "metadata": {},
   "outputs": [
    {
     "name": "stdout",
     "output_type": "stream",
     "text": [
      "Requirement already satisfied: psychopy in c:\\users\\olebi\\miniforge3\\envs\\psychopy\\lib\\site-packages (2024.2.4)\n",
      "Requirement already satisfied: mypy in c:\\users\\olebi\\miniforge3\\envs\\psychopy\\lib\\site-packages (1.13.0)\n",
      "Requirement already satisfied: numpy<2.0 in c:\\users\\olebi\\miniforge3\\envs\\psychopy\\lib\\site-packages (from psychopy) (1.26.4)\n",
      "Requirement already satisfied: scipy in c:\\users\\olebi\\miniforge3\\envs\\psychopy\\lib\\site-packages (from psychopy) (1.14.1)\n",
      "Requirement already satisfied: matplotlib in c:\\users\\olebi\\miniforge3\\envs\\psychopy\\lib\\site-packages (from psychopy) (3.9.3)\n",
      "Requirement already satisfied: pyglet==1.4.11 in c:\\users\\olebi\\miniforge3\\envs\\psychopy\\lib\\site-packages (from psychopy) (1.4.11)\n",
      "Requirement already satisfied: pillow>=9.4.0 in c:\\users\\olebi\\miniforge3\\envs\\psychopy\\lib\\site-packages (from psychopy) (10.4.0)\n",
      "Requirement already satisfied: pyqt6 in c:\\users\\olebi\\miniforge3\\envs\\psychopy\\lib\\site-packages (from psychopy) (6.7.1)\n",
      "Requirement already satisfied: pandas>=1.5.3 in c:\\users\\olebi\\miniforge3\\envs\\psychopy\\lib\\site-packages (from psychopy) (2.2.3)\n",
      "Requirement already satisfied: questplus>=2023.1 in c:\\users\\olebi\\miniforge3\\envs\\psychopy\\lib\\site-packages (from psychopy) (2023.1)\n",
      "Requirement already satisfied: openpyxl in c:\\users\\olebi\\miniforge3\\envs\\psychopy\\lib\\site-packages (from psychopy) (3.1.5)\n",
      "Requirement already satisfied: xmlschema in c:\\users\\olebi\\miniforge3\\envs\\psychopy\\lib\\site-packages (from psychopy) (3.4.3)\n",
      "Requirement already satisfied: soundfile in c:\\users\\olebi\\miniforge3\\envs\\psychopy\\lib\\site-packages (from psychopy) (0.12.1)\n",
      "Requirement already satisfied: imageio in c:\\users\\olebi\\miniforge3\\envs\\psychopy\\lib\\site-packages (from psychopy) (2.36.1)\n",
      "Requirement already satisfied: imageio-ffmpeg in c:\\users\\olebi\\miniforge3\\envs\\psychopy\\lib\\site-packages (from psychopy) (0.5.1)\n",
      "Requirement already satisfied: psychtoolbox in c:\\users\\olebi\\miniforge3\\envs\\psychopy\\lib\\site-packages (from psychopy) (3.0.19.14)\n",
      "Requirement already satisfied: pywinhook in c:\\users\\olebi\\miniforge3\\envs\\psychopy\\lib\\site-packages (from psychopy) (1.6.2)\n",
      "Requirement already satisfied: gevent in c:\\users\\olebi\\miniforge3\\envs\\psychopy\\lib\\site-packages (from psychopy) (24.11.1)\n",
      "Requirement already satisfied: psutil in c:\\users\\olebi\\miniforge3\\envs\\psychopy\\lib\\site-packages (from psychopy) (6.1.0)\n",
      "Requirement already satisfied: pyzmq>=22.2.1 in c:\\users\\olebi\\miniforge3\\envs\\psychopy\\lib\\site-packages (from psychopy) (26.2.0)\n",
      "Requirement already satisfied: ujson in c:\\users\\olebi\\miniforge3\\envs\\psychopy\\lib\\site-packages (from psychopy) (5.10.0)\n",
      "Requirement already satisfied: msgpack in c:\\users\\olebi\\miniforge3\\envs\\psychopy\\lib\\site-packages (from psychopy) (1.1.0)\n",
      "Requirement already satisfied: msgpack-numpy in c:\\users\\olebi\\miniforge3\\envs\\psychopy\\lib\\site-packages (from psychopy) (0.4.8)\n",
      "Requirement already satisfied: pyyaml in c:\\users\\olebi\\miniforge3\\envs\\psychopy\\lib\\site-packages (from psychopy) (6.0.2)\n",
      "Requirement already satisfied: freetype-py in c:\\users\\olebi\\miniforge3\\envs\\psychopy\\lib\\site-packages (from psychopy) (2.5.1)\n",
      "Requirement already satisfied: python-bidi in c:\\users\\olebi\\miniforge3\\envs\\psychopy\\lib\\site-packages (from psychopy) (0.6.3)\n",
      "Requirement already satisfied: arabic-reshaper in c:\\users\\olebi\\miniforge3\\envs\\psychopy\\lib\\site-packages (from psychopy) (3.0.0)\n",
      "Requirement already satisfied: javascripthon in c:\\users\\olebi\\miniforge3\\envs\\psychopy\\lib\\site-packages (from psychopy) (0.13)\n",
      "Requirement already satisfied: websockets in c:\\users\\olebi\\miniforge3\\envs\\psychopy\\lib\\site-packages (from psychopy) (14.1)\n",
      "Requirement already satisfied: wxPython>=4.1.1 in c:\\users\\olebi\\miniforge3\\envs\\psychopy\\lib\\site-packages (from psychopy) (4.2.2)\n",
      "Requirement already satisfied: markdown-it-py in c:\\users\\olebi\\miniforge3\\envs\\psychopy\\lib\\site-packages (from psychopy) (3.0.0)\n",
      "Requirement already satisfied: requests in c:\\users\\olebi\\miniforge3\\envs\\psychopy\\lib\\site-packages (from psychopy) (2.32.3)\n",
      "Requirement already satisfied: future in c:\\users\\olebi\\miniforge3\\envs\\psychopy\\lib\\site-packages (from psychopy) (1.0.0)\n",
      "Requirement already satisfied: pypi-search>=1.2.1 in c:\\users\\olebi\\miniforge3\\envs\\psychopy\\lib\\site-packages (from psychopy) (2.0)\n",
      "Requirement already satisfied: setuptools==70.3.0 in c:\\users\\olebi\\miniforge3\\envs\\psychopy\\lib\\site-packages (from psychopy) (70.3.0)\n",
      "Requirement already satisfied: python-gitlab in c:\\users\\olebi\\miniforge3\\envs\\psychopy\\lib\\site-packages (from psychopy) (5.1.0)\n",
      "Requirement already satisfied: gitpython in c:\\users\\olebi\\miniforge3\\envs\\psychopy\\lib\\site-packages (from psychopy) (3.1.43)\n",
      "Requirement already satisfied: cryptography in c:\\users\\olebi\\miniforge3\\envs\\psychopy\\lib\\site-packages (from psychopy) (44.0.0)\n",
      "Requirement already satisfied: astunparse in c:\\users\\olebi\\miniforge3\\envs\\psychopy\\lib\\site-packages (from psychopy) (1.6.3)\n",
      "Requirement already satisfied: esprima in c:\\users\\olebi\\miniforge3\\envs\\psychopy\\lib\\site-packages (from psychopy) (4.0.1)\n",
      "Requirement already satisfied: jedi>=0.16 in c:\\users\\olebi\\miniforge3\\envs\\psychopy\\lib\\site-packages (from psychopy) (0.19.2)\n",
      "Requirement already satisfied: pyserial in c:\\users\\olebi\\miniforge3\\envs\\psychopy\\lib\\site-packages (from psychopy) (3.5)\n",
      "Requirement already satisfied: pyparallel in c:\\users\\olebi\\miniforge3\\envs\\psychopy\\lib\\site-packages (from psychopy) (0.2.2)\n",
      "Requirement already satisfied: ffpyplayer in c:\\users\\olebi\\miniforge3\\envs\\psychopy\\lib\\site-packages (from psychopy) (4.5.2)\n",
      "Requirement already satisfied: opencv-python in c:\\users\\olebi\\miniforge3\\envs\\psychopy\\lib\\site-packages (from psychopy) (4.10.0.84)\n",
      "Requirement already satisfied: python-vlc==3.0.11115 in c:\\users\\olebi\\miniforge3\\envs\\psychopy\\lib\\site-packages (from psychopy) (3.0.11115)\n",
      "Requirement already satisfied: pypiwin32 in c:\\users\\olebi\\miniforge3\\envs\\psychopy\\lib\\site-packages (from psychopy) (223)\n",
      "Requirement already satisfied: tables!=3.9.2 in c:\\users\\olebi\\miniforge3\\envs\\psychopy\\lib\\site-packages (from psychopy) (3.10.1)\n",
      "Requirement already satisfied: packaging>=24.0 in c:\\users\\olebi\\miniforge3\\envs\\psychopy\\lib\\site-packages (from psychopy) (24.2)\n",
      "Requirement already satisfied: moviepy in c:\\users\\olebi\\miniforge3\\envs\\psychopy\\lib\\site-packages (from psychopy) (2.1.1)\n",
      "Requirement already satisfied: typing-extensions>=4.6.0 in c:\\users\\olebi\\miniforge3\\envs\\psychopy\\lib\\site-packages (from mypy) (4.12.2)\n",
      "Requirement already satisfied: mypy-extensions>=1.0.0 in c:\\users\\olebi\\miniforge3\\envs\\psychopy\\lib\\site-packages (from mypy) (1.0.0)\n",
      "Requirement already satisfied: tomli>=1.1.0 in c:\\users\\olebi\\miniforge3\\envs\\psychopy\\lib\\site-packages (from mypy) (2.2.1)\n",
      "Requirement already satisfied: dukpy<=0.2.3 in c:\\users\\olebi\\miniforge3\\envs\\psychopy\\lib\\site-packages (from javascripthon->psychopy) (0.2.3)\n",
      "Requirement already satisfied: parso<0.9.0,>=0.8.4 in c:\\users\\olebi\\miniforge3\\envs\\psychopy\\lib\\site-packages (from jedi>=0.16->psychopy) (0.8.4)\n",
      "Requirement already satisfied: python-dateutil>=2.8.2 in c:\\users\\olebi\\miniforge3\\envs\\psychopy\\lib\\site-packages (from pandas>=1.5.3->psychopy) (2.9.0.post0)\n",
      "Requirement already satisfied: pytz>=2020.1 in c:\\users\\olebi\\miniforge3\\envs\\psychopy\\lib\\site-packages (from pandas>=1.5.3->psychopy) (2024.2)\n",
      "Requirement already satisfied: tzdata>=2022.7 in c:\\users\\olebi\\miniforge3\\envs\\psychopy\\lib\\site-packages (from pandas>=1.5.3->psychopy) (2024.2)\n",
      "Requirement already satisfied: beautifulsoup4>=4.9.2 in c:\\users\\olebi\\miniforge3\\envs\\psychopy\\lib\\site-packages (from pypi-search>=1.2.1->psychopy) (4.12.3)\n",
      "Requirement already satisfied: html2text>=2020.1.16 in c:\\users\\olebi\\miniforge3\\envs\\psychopy\\lib\\site-packages (from pypi-search>=1.2.1->psychopy) (2024.2.26)\n",
      "Requirement already satisfied: xarray in c:\\users\\olebi\\miniforge3\\envs\\psychopy\\lib\\site-packages (from questplus>=2023.1->psychopy) (2024.11.0)\n",
      "Requirement already satisfied: json-tricks in c:\\users\\olebi\\miniforge3\\envs\\psychopy\\lib\\site-packages (from questplus>=2023.1->psychopy) (3.17.3)\n",
      "Requirement already satisfied: charset-normalizer<4,>=2 in c:\\users\\olebi\\miniforge3\\envs\\psychopy\\lib\\site-packages (from requests->psychopy) (3.4.0)\n",
      "Requirement already satisfied: idna<4,>=2.5 in c:\\users\\olebi\\miniforge3\\envs\\psychopy\\lib\\site-packages (from requests->psychopy) (3.10)\n",
      "Requirement already satisfied: urllib3<3,>=1.21.1 in c:\\users\\olebi\\miniforge3\\envs\\psychopy\\lib\\site-packages (from requests->psychopy) (2.2.3)\n",
      "Requirement already satisfied: certifi>=2017.4.17 in c:\\users\\olebi\\miniforge3\\envs\\psychopy\\lib\\site-packages (from requests->psychopy) (2024.8.30)\n",
      "Requirement already satisfied: numexpr>=2.6.2 in c:\\users\\olebi\\miniforge3\\envs\\psychopy\\lib\\site-packages (from tables!=3.9.2->psychopy) (2.10.2)\n",
      "Requirement already satisfied: py-cpuinfo in c:\\users\\olebi\\miniforge3\\envs\\psychopy\\lib\\site-packages (from tables!=3.9.2->psychopy) (9.0.0)\n",
      "Requirement already satisfied: blosc2>=2.3.0 in c:\\users\\olebi\\miniforge3\\envs\\psychopy\\lib\\site-packages (from tables!=3.9.2->psychopy) (2.7.1)\n",
      "Requirement already satisfied: six in c:\\users\\olebi\\miniforge3\\envs\\psychopy\\lib\\site-packages (from wxPython>=4.1.1->psychopy) (1.17.0)\n",
      "Requirement already satisfied: wheel<1.0,>=0.23.0 in c:\\users\\olebi\\miniforge3\\envs\\psychopy\\lib\\site-packages (from astunparse->psychopy) (0.45.1)\n",
      "Requirement already satisfied: cffi>=1.12 in c:\\users\\olebi\\miniforge3\\envs\\psychopy\\lib\\site-packages (from cryptography->psychopy) (1.17.1)\n",
      "Requirement already satisfied: zope.event in c:\\users\\olebi\\miniforge3\\envs\\psychopy\\lib\\site-packages (from gevent->psychopy) (5.0)\n",
      "Requirement already satisfied: zope.interface in c:\\users\\olebi\\miniforge3\\envs\\psychopy\\lib\\site-packages (from gevent->psychopy) (7.2)\n",
      "Requirement already satisfied: greenlet>=3.1.1 in c:\\users\\olebi\\miniforge3\\envs\\psychopy\\lib\\site-packages (from gevent->psychopy) (3.1.1)\n",
      "Requirement already satisfied: gitdb<5,>=4.0.1 in c:\\users\\olebi\\miniforge3\\envs\\psychopy\\lib\\site-packages (from gitpython->psychopy) (4.0.11)\n",
      "Requirement already satisfied: mdurl~=0.1 in c:\\users\\olebi\\miniforge3\\envs\\psychopy\\lib\\site-packages (from markdown-it-py->psychopy) (0.1.2)\n",
      "Requirement already satisfied: contourpy>=1.0.1 in c:\\users\\olebi\\miniforge3\\envs\\psychopy\\lib\\site-packages (from matplotlib->psychopy) (1.3.1)\n",
      "Requirement already satisfied: cycler>=0.10 in c:\\users\\olebi\\miniforge3\\envs\\psychopy\\lib\\site-packages (from matplotlib->psychopy) (0.12.1)\n",
      "Requirement already satisfied: fonttools>=4.22.0 in c:\\users\\olebi\\miniforge3\\envs\\psychopy\\lib\\site-packages (from matplotlib->psychopy) (4.55.2)\n",
      "Requirement already satisfied: kiwisolver>=1.3.1 in c:\\users\\olebi\\miniforge3\\envs\\psychopy\\lib\\site-packages (from matplotlib->psychopy) (1.4.7)\n",
      "Requirement already satisfied: pyparsing>=2.3.1 in c:\\users\\olebi\\miniforge3\\envs\\psychopy\\lib\\site-packages (from matplotlib->psychopy) (3.2.0)\n",
      "Requirement already satisfied: decorator<6.0,>=4.0.2 in c:\\users\\olebi\\miniforge3\\envs\\psychopy\\lib\\site-packages (from moviepy->psychopy) (5.1.1)\n",
      "Requirement already satisfied: proglog<=1.0.0 in c:\\users\\olebi\\miniforge3\\envs\\psychopy\\lib\\site-packages (from moviepy->psychopy) (0.1.10)\n",
      "Requirement already satisfied: python-dotenv>=0.10 in c:\\users\\olebi\\miniforge3\\envs\\psychopy\\lib\\site-packages (from moviepy->psychopy) (1.0.1)\n",
      "Requirement already satisfied: et-xmlfile in c:\\users\\olebi\\miniforge3\\envs\\psychopy\\lib\\site-packages (from openpyxl->psychopy) (2.0.0)\n",
      "Requirement already satisfied: pywin32>=223 in c:\\users\\olebi\\miniforge3\\envs\\psychopy\\lib\\site-packages (from pypiwin32->psychopy) (308)\n",
      "Requirement already satisfied: PyQt6-sip<14,>=13.8 in c:\\users\\olebi\\miniforge3\\envs\\psychopy\\lib\\site-packages (from pyqt6->psychopy) (13.9.0)\n",
      "Requirement already satisfied: PyQt6-Qt6<6.8.0,>=6.7.0 in c:\\users\\olebi\\miniforge3\\envs\\psychopy\\lib\\site-packages (from pyqt6->psychopy) (6.7.3)\n",
      "Requirement already satisfied: requests-toolbelt>=1.0.0 in c:\\users\\olebi\\miniforge3\\envs\\psychopy\\lib\\site-packages (from python-gitlab->psychopy) (1.0.0)\n",
      "Requirement already satisfied: elementpath<5.0.0,>=4.4.0 in c:\\users\\olebi\\miniforge3\\envs\\psychopy\\lib\\site-packages (from xmlschema->psychopy) (4.6.0)\n",
      "Requirement already satisfied: soupsieve>1.2 in c:\\users\\olebi\\miniforge3\\envs\\psychopy\\lib\\site-packages (from beautifulsoup4>=4.9.2->pypi-search>=1.2.1->psychopy) (2.6)\n",
      "Requirement already satisfied: ndindex>=1.4 in c:\\users\\olebi\\miniforge3\\envs\\psychopy\\lib\\site-packages (from blosc2>=2.3.0->tables!=3.9.2->psychopy) (1.9.2)\n",
      "Requirement already satisfied: pycparser in c:\\users\\olebi\\miniforge3\\envs\\psychopy\\lib\\site-packages (from cffi>=1.12->cryptography->psychopy) (2.22)\n",
      "Requirement already satisfied: smmap<6,>=3.0.1 in c:\\users\\olebi\\miniforge3\\envs\\psychopy\\lib\\site-packages (from gitdb<5,>=4.0.1->gitpython->psychopy) (5.0.1)\n",
      "Requirement already satisfied: tqdm in c:\\users\\olebi\\miniforge3\\envs\\psychopy\\lib\\site-packages (from proglog<=1.0.0->moviepy->psychopy) (4.67.1)\n",
      "Requirement already satisfied: colorama in c:\\users\\olebi\\miniforge3\\envs\\psychopy\\lib\\site-packages (from tqdm->proglog<=1.0.0->moviepy->psychopy) (0.4.6)\n",
      "Note: you may need to restart the kernel to use updated packages.\n",
      "The autoreload extension is already loaded. To reload it, use:\n",
      "  %reload_ext autoreload\n"
     ]
    }
   ],
   "source": [
    "%pip install psychopy mypy\n",
    "%load_ext autoreload\n",
    "%autoreload 2"
   ]
  },
  {
   "cell_type": "code",
   "execution_count": 138,
   "metadata": {},
   "outputs": [],
   "source": [
    "import random\n",
    "from psychopy.sound import Sound\n",
    "from psychopy.event import waitKeys\n",
    "from psychopy.visual import Window\n",
    "Sound(stereo=False);"
   ]
  },
  {
   "cell_type": "markdown",
   "metadata": {},
   "source": [
    "## 1. Defining Functions\n",
    "\n",
    "A function is defined by the `def` keyword, may accept certain input parameters and may `return` a result. A function has only access to the parameters that are passed to it as arguments and any result produced by the function can only be accessed by other parts of the program if that value is explicitly returned. This limited scope makes functions great for testing and robustness! In this notebook you will find many `assert` statements which test the functions that you will write. Don't worry about how exactly `assert` works just yet - just treat it as a tool that provides feedback on the correctness of your functions.\n",
    "\n",
    "### Reference Table\n",
    "|Code | Duration |\n",
    "| ---| ---|\n",
    "|`def add(a,b):` <br> &nbsp;&nbsp;&nbsp;&nbsp; `return a+b` | Define an `add()` function that takes in two parameters `a` and `b` and returns their sum\n",
    "|`assert a == b` | Raise an `AssertionError` if `a` is NOT equal to `b`, otherwise do nothing |\n",
    "|`tone = Sound(value=350, secs=0.5)` | Create a `tone` at `350`Hz with a duration of `0.5` seconds |"
   ]
  },
  {
   "cell_type": "markdown",
   "metadata": {},
   "source": [
    "**Example**: Write the `add()` function below, so that running the tests below shows `\"Success!\"`\n"
   ]
  },
  {
   "cell_type": "code",
   "execution_count": 139,
   "metadata": {},
   "outputs": [],
   "source": [
    "# Solution\n",
    "def add(a,b):\n",
    "    return a+b"
   ]
  },
  {
   "cell_type": "code",
   "execution_count": 140,
   "metadata": {},
   "outputs": [
    {
     "name": "stdout",
     "output_type": "stream",
     "text": [
      "Success!\n"
     ]
    }
   ],
   "source": [
    "assert add(2,3) == 5\n",
    "assert add(4,4) == 8\n",
    "print('Success!')"
   ]
  },
  {
   "cell_type": "markdown",
   "metadata": {},
   "source": [
    "---\n",
    "**Exercise**: Write the `subtract()` function below, so that running the tests below shows `\"Success!\"`"
   ]
  },
  {
   "cell_type": "code",
   "execution_count": 141,
   "metadata": {},
   "outputs": [],
   "source": [
    "# Solution\n",
    "def subtract(a, b):\n",
    "    return a-b"
   ]
  },
  {
   "cell_type": "code",
   "execution_count": 142,
   "metadata": {},
   "outputs": [
    {
     "name": "stdout",
     "output_type": "stream",
     "text": [
      "Success!\n"
     ]
    }
   ],
   "source": [
    "assert subtract(4,1) == 3\n",
    "assert subtract(7,12) == -5\n",
    "print('Success!')"
   ]
  },
  {
   "cell_type": "code",
   "execution_count": 143,
   "metadata": {},
   "outputs": [],
   "source": [
    "# Solution\n",
    "def is_odd(a):\n",
    "    return bool(a%2)"
   ]
  },
  {
   "cell_type": "code",
   "execution_count": 144,
   "metadata": {},
   "outputs": [
    {
     "name": "stdout",
     "output_type": "stream",
     "text": [
      "Success!\n"
     ]
    }
   ],
   "source": [
    "assert is_odd(8) == False\n",
    "assert is_odd(5) == True\n",
    "print('Success!')"
   ]
  },
  {
   "cell_type": "markdown",
   "metadata": {},
   "source": [
    "---\n",
    "**Exercise**: Write the `make_list_of_zeros()` function below, so that running the tests below shows `\"Success!\"`\n"
   ]
  },
  {
   "cell_type": "code",
   "execution_count": 145,
   "metadata": {},
   "outputs": [],
   "source": [
    "# Solution\n",
    "def make_list_of_zeros(n):\n",
    "    return [0]*n"
   ]
  },
  {
   "cell_type": "code",
   "execution_count": 146,
   "metadata": {},
   "outputs": [
    {
     "name": "stdout",
     "output_type": "stream",
     "text": [
      "Success!\n"
     ]
    }
   ],
   "source": [
    "assert len(make_list_of_zeros(10)) == 10\n",
    "for z in make_list_of_zeros(5):\n",
    "    assert z == 0\n",
    "print('Success!')"
   ]
  },
  {
   "cell_type": "markdown",
   "metadata": {},
   "source": [
    "---\n",
    "**Exercise**: Write a `fist_and_last()` function below, so that running the tests below shows \"Success!\". (Hint: to return multiple values, separate them by a comma: `return val1, val2`)"
   ]
  },
  {
   "cell_type": "code",
   "execution_count": 147,
   "metadata": {},
   "outputs": [],
   "source": [
    "def first_and_last(x):\n",
    "    return x[0], x[-1]"
   ]
  },
  {
   "cell_type": "code",
   "execution_count": 148,
   "metadata": {},
   "outputs": [
    {
     "name": "stdout",
     "output_type": "stream",
     "text": [
      "Success!\n"
     ]
    }
   ],
   "source": [
    "assert first_and_last([1,2,3,4]) == (1,4)\n",
    "assert first_and_last([\"x\", \"c\"]) == (\"x\", \"c\")\n",
    "print(\"Success!\")"
   ]
  },
  {
   "cell_type": "markdown",
   "metadata": {},
   "source": [
    "---\n",
    "**Exercise**: Write the `make_tone()` function below, so that running the tests below shows `\"Success!\"`.<br>(Hint: `Sound(value==800).sound == 800`)\n"
   ]
  },
  {
   "cell_type": "code",
   "execution_count": 149,
   "metadata": {},
   "outputs": [],
   "source": [
    "# Solution\n",
    "def make_tone(freq):\n",
    "    return Sound(value=freq)"
   ]
  },
  {
   "cell_type": "code",
   "execution_count": 150,
   "metadata": {},
   "outputs": [
    {
     "name": "stdout",
     "output_type": "stream",
     "text": [
      "Success!\n"
     ]
    }
   ],
   "source": [
    "assert make_tone(500).sound == 500\n",
    "assert make_tone(1200).sound == 1200\n",
    "print('Success!')"
   ]
  },
  {
   "cell_type": "markdown",
   "metadata": {},
   "source": [
    "---\n",
    "**Exercise**: Write the `change_pitch()` function below, so that running the tests below shows `\"Success!\"`"
   ]
  },
  {
   "cell_type": "code",
   "execution_count": 151,
   "metadata": {},
   "outputs": [],
   "source": [
    "# Solution\n",
    "def change_pitch(tone, d):\n",
    "    return Sound(value=tone.sound+d)"
   ]
  },
  {
   "cell_type": "code",
   "execution_count": 152,
   "metadata": {},
   "outputs": [
    {
     "name": "stdout",
     "output_type": "stream",
     "text": [
      "Success!\n"
     ]
    }
   ],
   "source": [
    "tone = Sound(value=700)\n",
    "assert change_pitch(tone, 50).sound == 750\n",
    "assert change_pitch(tone, -100).sound == 600\n",
    "print('Success!')"
   ]
  },
  {
   "cell_type": "markdown",
   "metadata": {},
   "source": [
    "----\n",
    "**Exercise**: Write the `cumulative_duration()` function below, so that running the tests below shows `\"Success!\"`"
   ]
  },
  {
   "cell_type": "code",
   "execution_count": 153,
   "metadata": {},
   "outputs": [],
   "source": [
    "# Solution\n",
    "def cumulative_duration(sound1, sound2):\n",
    "    return sound1.secs+sound2.secs"
   ]
  },
  {
   "cell_type": "code",
   "execution_count": 154,
   "metadata": {},
   "outputs": [],
   "source": [
    "assert cumulative_duration(Sound(secs=1.2), Sound(secs=0.5)) == 1.7\n",
    "assert cumulative_duration(Sound(secs=0.8), Sound(secs=2)) == 2.8"
   ]
  },
  {
   "cell_type": "markdown",
   "metadata": {},
   "source": [
    "# 2. Optional Arguments\n",
    "\n",
    "Parameters be passed to a function based on their name or their position. For example, we can call the `say_hi_to()` function below as `say_hi_to(\"John\", \"Doe\", True)`.\n",
    "However, this means we have to pass the parameters in the correct order.\n",
    "If we instead give the names of the parameters, we make the call more descriptive and independent of the parameters order: `say_hi_to(sout=True, first=\"John\", last=\"Doe\")`.\n",
    "Some arguments are **optional** which means that they have a default value defined in the function's definition.\n",
    "If we pass in a value for that parameter, the default will be overwritten, if not, the function will use the default.\n",
    "\n",
    "\n",
    "### Reference Table\n",
    "|Code | Duration |\n",
    "| ---| ---|\n",
    "|`def add(a,b, c=0):` <br> &nbsp;&nbsp;&nbsp;&nbsp; `return a+b+c` | Define an `add()` function that takes in two required parameters `a` and `b` and an optional parameter `c` and returns their sum |\n",
    "|`key = waitKeys(keyList=\"space\", timeStamped=True)` | Wait until the `\"space\"` key was pressed and return a list of lists with [[name, time]].|"
   ]
  },
  {
   "cell_type": "markdown",
   "metadata": {},
   "source": [
    "**Example**: Write the `say_hi_to()` function below, so that running the tests below shows `\"Success!\"`"
   ]
  },
  {
   "cell_type": "code",
   "execution_count": 155,
   "metadata": {},
   "outputs": [],
   "source": [
    "# Solutuon\n",
    "def say_hi_to(first, last=\"\", shout=False):\n",
    "    text = \"Hi\" + \" \" + first + \" \" + last + \"!\"\n",
    "    if shout:\n",
    "        return text.upper()\n",
    "    else:\n",
    "        return text"
   ]
  },
  {
   "cell_type": "code",
   "execution_count": 156,
   "metadata": {},
   "outputs": [
    {
     "name": "stdout",
     "output_type": "stream",
     "text": [
      "Success!\n"
     ]
    }
   ],
   "source": [
    "assert say_hi_to(first=\"Bob\") == \"Hi Bob !\"\n",
    "assert say_hi_to(first=\"Bob\", last=\"McBobface\") == \"Hi Bob McBobface!\"\n",
    "assert say_hi_to(first=\"Bob\", last=\"McBobface\", shout=True) == \"HI BOB MCBOBFACE!\"\n",
    "print(\"Success!\")"
   ]
  },
  {
   "cell_type": "markdown",
   "metadata": {},
   "source": [
    "---\n",
    "**Exercise**: Write the `make_tone()` function below, so that running the tests below shows `\"Success!\"`"
   ]
  },
  {
   "cell_type": "code",
   "execution_count": 157,
   "metadata": {},
   "outputs": [],
   "source": [
    "# Solution\n",
    "def make_tone(frequency, duration=1.5):\n",
    "    return Sound(value=frequency, secs=duration)"
   ]
  },
  {
   "cell_type": "code",
   "execution_count": 158,
   "metadata": {},
   "outputs": [
    {
     "name": "stdout",
     "output_type": "stream",
     "text": [
      "Success!\n"
     ]
    }
   ],
   "source": [
    "assert make_tone(550).sound == 550\n",
    "assert make_tone(550).secs== 1.5\n",
    "assert make_tone(750, 0.1).sound == 750\n",
    "assert make_tone(750, 0.1).secs== 0.1\n",
    "print(\"Success!\")\n"
   ]
  },
  {
   "cell_type": "markdown",
   "metadata": {},
   "source": [
    "---\n",
    "**Exercise**: Write a `make_and_play_tone()` function below, so that running the tests below shows `\"Success!\"`"
   ]
  },
  {
   "cell_type": "code",
   "execution_count": 159,
   "metadata": {},
   "outputs": [],
   "source": [
    "# Solution\n",
    "def make_and_play_tone(frequency, duration, play=False):\n",
    "    tone = Sound(value=frequency, secs=duration)\n",
    "    if play:\n",
    "        tone.play()\n",
    "    return tone"
   ]
  },
  {
   "cell_type": "code",
   "execution_count": 160,
   "metadata": {},
   "outputs": [
    {
     "name": "stdout",
     "output_type": "stream",
     "text": [
      "Success!\n"
     ]
    }
   ],
   "source": [
    "assert make_and_play_tone(500, duration=0.2, play=True).statusDetailed[\"State\"] == 1\n",
    "assert make_and_play_tone(500, 0.2).statusDetailed[\"State\"] == 0\n",
    "print(\"Success!\")"
   ]
  },
  {
   "cell_type": "markdown",
   "metadata": {},
   "source": [
    "---\n",
    "**Exercise**: Write a `make_two_tones()` function below, so that running the tests below shows `\"Success!\"`"
   ]
  },
  {
   "cell_type": "code",
   "execution_count": 161,
   "metadata": {},
   "outputs": [],
   "source": [
    "# Solution\n",
    "def make_two_tones(freq1, freq2):\n",
    "    tone1 = Sound(value=freq1)\n",
    "    tone2 = Sound(value=freq2)\n",
    "    return tone1, tone2"
   ]
  },
  {
   "cell_type": "code",
   "execution_count": 162,
   "metadata": {},
   "outputs": [],
   "source": [
    "assert make_two_tones(250, 4000)[0].sound == 250\n",
    "assert make_two_tones(250, 4000)[1].sound == 4000"
   ]
  },
  {
   "cell_type": "markdown",
   "metadata": {},
   "source": [
    "---\n",
    "**Exercise**: Write the `wait_keys()` function below, so that running the tests below shows `\"Success!\"`\n"
   ]
  },
  {
   "cell_type": "code",
   "execution_count": 163,
   "metadata": {},
   "outputs": [],
   "source": [
    "# Solution\n",
    "def wait_keys(keys=None, timed=False):\n",
    "    keys = waitKeys(keyList=keys, timeStamped=timed)\n",
    "    return keys[0]"
   ]
  },
  {
   "cell_type": "code",
   "execution_count": 164,
   "metadata": {},
   "outputs": [
    {
     "name": "stdout",
     "output_type": "stream",
     "text": [
      "2882.6333 \tWARNING \tMonitor specification not found. Creating a temporary one...\n",
      "Success!\n"
     ]
    }
   ],
   "source": [
    "with Window() as win:\n",
    "    assert wait_keys([\"space\"]) == \"space\"\n",
    "    assert len(wait_keys(timed=True)) == 2\n",
    "print(\"Success!\")\n",
    "    "
   ]
  },
  {
   "cell_type": "markdown",
   "metadata": {},
   "source": [
    "---\n",
    "**Exercise**: Write a different `wait_keys()` function below, so that running the tests below shows `\"Success!\"`"
   ]
  },
  {
   "cell_type": "code",
   "execution_count": 165,
   "metadata": {},
   "outputs": [],
   "source": [
    "# Solution\n",
    "def wait_keys(keys=[\"space\"], timed=True):\n",
    "    keys = waitKeys(keyList=keys, timeStamped=timed)\n",
    "    return keys[0]"
   ]
  },
  {
   "cell_type": "code",
   "execution_count": 166,
   "metadata": {},
   "outputs": [
    {
     "name": "stdout",
     "output_type": "stream",
     "text": [
      "2890.3163 \tWARNING \tMonitor specification not found. Creating a temporary one...\n"
     ]
    }
   ],
   "source": [
    "with Window() as win:\n",
    "    assert len(wait_keys()) == 2\n",
    "    assert wait_keys()[0] == \"space\""
   ]
  },
  {
   "cell_type": "markdown",
   "metadata": {},
   "source": [
    "## 3. Importing functions\n",
    "\n",
    "Importing allows us to make our code truly reusable. We can build up our own library of functions and import from this library across all of our projects.\n",
    "When we import functions we have to provide their full name, similar to how you would locate files and folders on your computer. For example, the function `add()` within the file `maths.py` can be imported as `from maths import add`. Just like with variables, there can every only be one function with the same name in your namespace, so if there already is a function called `add()`, it will be overwritten by this import.\n",
    "Alternatively, you could just `import maths` and call the function as `maths.add()`. This is a bit more to type but it will make sure that your other `add()` function is not overwritten.\n",
    "\n",
    "### Reference Table\n",
    "|Code                      | Description                                         |\n",
    "|---                       | ---                                                 |\n",
    "|`import mymod` | Import the module `mymod`                                      |\n",
    "|`import mymod as m`       | Import the module `mymod` with the alias `m`     |\n",
    "|`from mymod import myfun` | Import the function `myfun` from the module `mymod` |\n",
    "|`from mymod import *`     | Import all functions from the module `mymod`        |\n"
   ]
  },
  {
   "cell_type": "markdown",
   "metadata": {},
   "source": [
    "**Example**: Create a file `say_hi_to.py` that contains a `say_hi_to()` function, and import it so it passes the tests below"
   ]
  },
  {
   "cell_type": "code",
   "execution_count": 167,
   "metadata": {},
   "outputs": [],
   "source": [
    "from say_hi_to import say_hi_to"
   ]
  },
  {
   "cell_type": "code",
   "execution_count": 168,
   "metadata": {},
   "outputs": [
    {
     "name": "stdout",
     "output_type": "stream",
     "text": [
      "Success!\n"
     ]
    }
   ],
   "source": [
    "assert say_hi_to(first=\"Bob\") == \"Hi Bob !\"\n",
    "assert say_hi_to(first=\"Bob\", last=\"McBobface\") == \"Hi Bob McBobface!\"\n",
    "assert say_hi_to(first=\"Bob\", last=\"McBobface\", shout=True) == \"HI BOB MCBOBFACE!\"\n",
    "print(\"Success!\")"
   ]
  },
  {
   "cell_type": "markdown",
   "metadata": {},
   "source": [
    "---\n",
    "**Example**: Create a file `make_tone.py` that contains a `make_tone()` function and import it so it passes the tests below"
   ]
  },
  {
   "cell_type": "code",
   "execution_count": 169,
   "metadata": {},
   "outputs": [],
   "source": [
    "# Solution\n",
    "from make_tone import make_tone"
   ]
  },
  {
   "cell_type": "code",
   "execution_count": 170,
   "metadata": {},
   "outputs": [
    {
     "name": "stdout",
     "output_type": "stream",
     "text": [
      "Success!\n"
     ]
    }
   ],
   "source": [
    "assert make_tone(frequency=700).secs== 0.3\n",
    "assert make_tone(duration=1).sound==300\n",
    "print(\"Success!\")\n"
   ]
  },
  {
   "cell_type": "markdown",
   "metadata": {},
   "source": [
    "---\n",
    "**Example**: Add a `make_and_play_tone()` function to `make_tone.py` and import it under the alias `mpt` so it passes the tests below"
   ]
  },
  {
   "cell_type": "code",
   "execution_count": 174,
   "metadata": {},
   "outputs": [],
   "source": [
    "# Solution\n",
    "from make_tone import make_and_play_tone as mpt"
   ]
  },
  {
   "cell_type": "code",
   "execution_count": 175,
   "metadata": {},
   "outputs": [
    {
     "name": "stdout",
     "output_type": "stream",
     "text": [
      "Success!\n"
     ]
    }
   ],
   "source": [
    "assert mpt(3000, duration=0.2, play=True).statusDetailed[\"State\"] == 1\n",
    "assert mpt(frequency=500, duration=0.2).statusDetailed[\"State\"] == 0\n",
    "print(\"Success!\")"
   ]
  },
  {
   "cell_type": "markdown",
   "metadata": {},
   "source": [
    "---\n",
    "**Example**: Create a file `keys.py` that contains a `wait_three_keys()` function and import it passes the tests below"
   ]
  },
  {
   "cell_type": "code",
   "execution_count": 176,
   "metadata": {},
   "outputs": [],
   "source": [
    "# Solution\n",
    "import keys"
   ]
  },
  {
   "cell_type": "code",
   "execution_count": 177,
   "metadata": {},
   "outputs": [
    {
     "name": "stdout",
     "output_type": "stream",
     "text": [
      "2916.2706 \tWARNING \tMonitor specification not found. Creating a temporary one...\n",
      "Success!\n"
     ]
    }
   ],
   "source": [
    "with Window() as win:\n",
    "    assert keys.wait_three_keys(\"space\", \"space\", \"space\") == (\"space\", \"space\", \"space\")\n",
    "    assert keys.wait_three_keys(\"a\", \"b\", \"c\") == (\"a\", \"b\", \"c\")\n",
    "print(\"Success!\")"
   ]
  },
  {
   "cell_type": "markdown",
   "metadata": {},
   "source": [
    "## 4. Type Hints\n",
    "\n",
    "Another great way of making code more readable is by introducing type hints. Type hints are an, entirely optional way of declaring the data type of the parameters and return values of a function. This allows specific type-checking tools to probe our code for logical inconsistencies. What's more, it gives additional information to the user by clearly declaring what types of data have to be provided as inputs and can be expected as returns. This can be really helpful to know, for example, if the length of a signal is defined in samples (an integer value) or in seconds (a float value).\n",
    "\n",
    "### Reference Table\n",
    "|Code | Duration |\n",
    "| ---| ---|\n",
    "|`def say_hi(name:str):` <br> &nbsp;&nbsp;&nbsp;&nbsp; `return a/b` | Define a `say_hi()` function that takes in one string parameter `name` |\n",
    "|`def divide(a:int,b:int)->float:` <br> &nbsp;&nbsp;&nbsp;&nbsp; `return a/b` | Define a `divide()` function that takes in two integer parameters `a` and `b` and returns a float |\n",
    "|`!mypy my_module.py`  | Run MyPy to typecheck the functions in `my_module.py`\n"
   ]
  },
  {
   "cell_type": "markdown",
   "metadata": {},
   "source": [
    "**Exercise** Add type hints to `find_primes` to indicate the types of the input and returned values"
   ]
  },
  {
   "cell_type": "code",
   "execution_count": 178,
   "metadata": {},
   "outputs": [],
   "source": [
    "def find_primes(start, stop):\n",
    "    primes=[]\n",
    "    for i in range(start, stop):\n",
    "        is_prime = True\n",
    "        for j in range(2,int(i/2)):\n",
    "            if i%j == 0:\n",
    "                is_prime = False\n",
    "        if is_prime:\n",
    "            primes.append(i)\n",
    "    return primes"
   ]
  },
  {
   "cell_type": "code",
   "execution_count": 179,
   "metadata": {},
   "outputs": [],
   "source": [
    "# Solution\n",
    "def find_primes(start:int, stop:int) -> list:\n",
    "    primes=[]\n",
    "    for i in range(start, stop):\n",
    "        is_prime = True\n",
    "        for j in range(2,int(i/2)):\n",
    "            if i%j == 0:\n",
    "                is_prime = False\n",
    "        if is_prime:\n",
    "            primes.append(i)\n",
    "    return primes"
   ]
  },
  {
   "cell_type": "markdown",
   "metadata": {},
   "source": [
    "---"
   ]
  },
  {
   "cell_type": "code",
   "execution_count": 180,
   "metadata": {},
   "outputs": [],
   "source": [
    "def shuffle_trials(trials, max_iter=1000) -> list:\n",
    "    ok = False\n",
    "    count = 0\n",
    "    while not ok:\n",
    "        count+=1\n",
    "        if count > max_iter:\n",
    "            raise StopIteration\n",
    "        found_duplicate = False\n",
    "        for i in range(1, len(trials)):\n",
    "            if trials[i] == trials[i-1]:\n",
    "                found_duplicate = True\n",
    "        if not found_duplicate:\n",
    "            ok = True\n",
    "        else:\n",
    "            random.shuffle(trials)\n",
    "    return trials"
   ]
  },
  {
   "cell_type": "code",
   "execution_count": 181,
   "metadata": {},
   "outputs": [],
   "source": [
    "# Solution\n",
    "def shuffle_trials(trials:list, max_iter:int=1000) -> list:\n",
    "    ok = False\n",
    "    count = 0\n",
    "    while not ok:\n",
    "        count+=1\n",
    "        if count > max_iter:\n",
    "            raise StopIteration\n",
    "        found_duplicate = False\n",
    "        for i in range(1, len(trials)):\n",
    "            if trials[i] == trials[i-1]:\n",
    "                found_duplicate = True\n",
    "        if not found_duplicate:\n",
    "            ok = True\n",
    "        else:\n",
    "            random.shuffle(trials)\n",
    "    return trials"
   ]
  },
  {
   "cell_type": "markdown",
   "metadata": {},
   "source": [
    "---\n",
    "**Exercise**: Include type hints to `say_hi_to()` to indictate the type of each variable and the type of the returned value"
   ]
  },
  {
   "cell_type": "code",
   "execution_count": 182,
   "metadata": {},
   "outputs": [],
   "source": [
    "def say_hi_to(first, last=\"\", do_print=False):\n",
    "    text = \"Hi\" + \" \" + first + \" \" + last + \"!\"\n",
    "    if print:\n",
    "        print(text)\n",
    "    else:\n",
    "        return text"
   ]
  },
  {
   "cell_type": "code",
   "execution_count": 183,
   "metadata": {},
   "outputs": [],
   "source": [
    "# Solution\n",
    "def say_hi_to(first:str, last:str=\"\", do_print:bool=False)->str:\n",
    "    text = \"Hi\" + \" \" + first + \" \" + last + \"!\"\n",
    "    if print:\n",
    "        print(text)\n",
    "    else:\n",
    "        return text"
   ]
  },
  {
   "cell_type": "markdown",
   "metadata": {},
   "source": [
    "**Execise**: Move the type-annotated versions of `shuffle_trials()`, `find_primes()` and `say_hi_to()` to a new file called `my_functions.py`. Then run a static type analysis with MyPy using the script below"
   ]
  },
  {
   "cell_type": "code",
   "execution_count": 185,
   "metadata": {},
   "outputs": [
    {
     "name": "stdout",
     "output_type": "stream",
     "text": [
      "my_module.py:4: \u001b[1m\u001b[91merror:\u001b[0m Missing return statement  \u001b[0m\u001b[93m[return]\u001b[0m\n",
      "\u001b[1m\u001b[91mFound 1 error in 1 file (checked 1 source file)\u001b[0m\n"
     ]
    }
   ],
   "source": [
    "!mypy ./my_module.py"
   ]
  }
 ],
 "metadata": {
  "kernelspec": {
   "display_name": "psychopy",
   "language": "python",
   "name": "python3"
  },
  "language_info": {
   "codemirror_mode": {
    "name": "ipython",
    "version": 3
   },
   "file_extension": ".py",
   "mimetype": "text/x-python",
   "name": "python",
   "nbconvert_exporter": "python",
   "pygments_lexer": "ipython3",
   "version": "3.10.16"
  }
 },
 "nbformat": 4,
 "nbformat_minor": 2
}
