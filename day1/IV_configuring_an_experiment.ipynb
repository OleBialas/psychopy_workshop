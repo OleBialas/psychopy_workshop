{
 "cells": [
  {
   "cell_type": "markdown",
   "metadata": {},
   "source": [
    "# IV. Configuring an Experiment"
   ]
  },
  {
   "cell_type": "code",
   "execution_count": null,
   "metadata": {},
   "outputs": [],
   "source": [
    "%%capture\n",
    "!python posner_task.py"
   ]
  },
  {
   "cell_type": "markdown",
   "metadata": {},
   "source": [
    "## 1. Saving and Loading Configuration Files\n",
    "\n",
    "### Reference Table\n",
    "| Code                           | Description                                                |\n",
    "| ---                            | ---                                                        |\n",
    "| `f = open(\"config.json\", \"w\")` | Open a file called `\"config.json\"` in `\"w\"` (writing) mode |\n",
    "| `f = open(\"config.json\", \"r\")` | Open a file called `\"config.json\"` in `\"r\"` (reading) mode |\n",
    "| `f.close()`                    | Close the file `f`                                         |\n",
    "| `x = {\"dur\": 0.5, \"freq\":500}` | Define a dictionary and assign it to the variable `x`      |\n",
    "| `json.dump(x, f)`              | Save the dictionary `x` to the (opened) file `f`          |\n",
    "| `json.load(f)`                 | Load a dictionary from the (opened) JSON file `f` and assign it to `x` |"
   ]
  },
  {
   "cell_type": "code",
   "execution_count": 22,
   "metadata": {},
   "outputs": [],
   "source": [
    "import json"
   ]
  },
  {
   "cell_type": "code",
   "execution_count": 26,
   "metadata": {},
   "outputs": [],
   "source": [
    "# Write the dictionary `cfg` to a .json file\n",
    "cfg = {\"conditions\": [\"a\", \"b\", \"c\"], \"probability\": [0.2, 0.2, 0.6]}\n",
    "\n",
    "# Solution\n",
    "f = open(\"test_config.json\", \"w\")\n",
    "json.dump(cfg, f)\n",
    "f.close()"
   ]
  },
  {
   "cell_type": "code",
   "execution_count": 27,
   "metadata": {},
   "outputs": [
    {
     "name": "stdout",
     "output_type": "stream",
     "text": [
      "{'freqs': [800, 1000, 1200], 'dB_start': 65, 'dB_step:': 1.5, 'n_reversals': 5}\n"
     ]
    }
   ],
   "source": [
    "# Load the configuration file `tone_detection_config.json` and print out it's contents\n",
    "config_fname = \"tone_detection_config.json\"\n",
    "\n",
    "# Solution\n",
    "f = open(config_fname, \"r\")\n",
    "cfg = json.load(f)\n",
    "f.close()\n",
    "print(cfg)"
   ]
  },
  {
   "cell_type": "code",
   "execution_count": null,
   "metadata": {},
   "outputs": [
    {
     "name": "stdout",
     "output_type": "stream",
     "text": [
      "{'freqs': [800, 1000, 1200], 'dB_start': 65, 'dB_step:': 1.5, 'n_reversals': 5}\n"
     ]
    }
   ],
   "source": [
    "# Open `tone_detection_config.json` in your editor, increase the number of reversals, decrease the step size and save the file. \n",
    "# Then load the config and print out the value of `n_trials` to confirm it was modified\n",
    "\n",
    "# Solution\n",
    "f = open(config_fname, \"r\")\n",
    "cfg = json.load(f)\n",
    "f.close()\n",
    "print(cfg)"
   ]
  },
  {
   "cell_type": "code",
   "execution_count": 29,
   "metadata": {},
   "outputs": [
    {
     "name": "stdout",
     "output_type": "stream",
     "text": [
      "{'n_trials': 10, 'p_valid': 0.8, 'fix_dur': 0.5, 'cue_dur': 0.5}\n"
     ]
    }
   ],
   "source": [
    "# Load the config file `posner_task_config.json` and print out it's contents\n",
    "config_fname = \"posner_task_config.json\"\n",
    "\n",
    "# Solution\n",
    "f = open(config_fname, \"r\")\n",
    "cfg = json.load(f)\n",
    "f.close()\n",
    "print(cfg)"
   ]
  },
  {
   "cell_type": "code",
   "execution_count": null,
   "metadata": {},
   "outputs": [],
   "source": [
    "# Modify posner_task.py so that it loads `posner_task_config.json` and\n",
    "# replace the paramteres defined at the beginning of the script with those from the file.\n",
    "# Then, run `posner_task.py`"
   ]
  },
  {
   "cell_type": "code",
   "execution_count": null,
   "metadata": {},
   "outputs": [],
   "source": [
    "# Change the value of `fix_dur` to 1 and the value of `cue` dur to 0.5.\n",
    "# Rerun `posner_task.py` to see the effect of the changes."
   ]
  },
  {
   "cell_type": "code",
   "execution_count": null,
   "metadata": {},
   "outputs": [],
   "source": [
    "# Include the coordinates for the left and right side that are passed to the `pos` argument of the\n",
    "# `Rect` and `Circle` class in `posner_task_config.json`. Replace all occurrences with the\n",
    "# respective values from the config. Run the experiment to confirm your modification worked."
   ]
  },
  {
   "cell_type": "markdown",
   "metadata": {},
   "source": [
    "# 2. Adding a Command Line Interface (CLI)\n",
    "\n",
    "### Reference table\n",
    "| Code                                   | Description                                     |\n",
    "| ---                                    | ---                                             |\n",
    "| `parser = argparse.ArgumentParser()`   | Create a parser for command line arguments      |\n",
    "| `parser.add_argument(\"--id\" type=int)` | Add a argument called \"id\" of type int          |\n",
    "| `args = parser.parse_args()`           | Parse the command line input                    |\n",
    "| `args.id`                              | Value passed to the \"id\" argument               |\n",
    "| `python experiment.py --id 7`               | Run \"experiment.py\" and pass 7 to the \"id\" argument |"
   ]
  },
  {
   "cell_type": "code",
   "execution_count": null,
   "metadata": {},
   "outputs": [],
   "source": [
    "import argparse"
   ]
  },
  {
   "cell_type": "code",
   "execution_count": 34,
   "metadata": {},
   "outputs": [
    {
     "name": "stdout",
     "output_type": "stream",
     "text": [
      "usage: say_hi_to.py [-h] [--shout SHOUT] name\n",
      "\n",
      "Say hi to someone\n",
      "\n",
      "positional arguments:\n",
      "  name           Name of the person you want to say hi to\n",
      "\n",
      "optional arguments:\n",
      "  -h, --help     show this help message and exit\n",
      "  --shout SHOUT  Use this flag to shout\n"
     ]
    }
   ],
   "source": [
    "# Run the scripy `say_hi_to.py` with the --help flag to print out the script's description\n",
    "\n",
    "# Solution\n",
    "!python say_hi_to.py --help"
   ]
  },
  {
   "cell_type": "code",
   "execution_count": 36,
   "metadata": {},
   "outputs": [
    {
     "name": "stdout",
     "output_type": "stream",
     "text": [
      "Hi Bob!\n"
     ]
    }
   ],
   "source": [
    "# Run the script `say_hi_to.py` so that it says \"Hi Bob!\"\n",
    "\n",
    "#Solution\n",
    "!python say_hi_to.py Bob"
   ]
  },
  {
   "cell_type": "code",
   "execution_count": 41,
   "metadata": {},
   "outputs": [
    {
     "name": "stdout",
     "output_type": "stream",
     "text": [
      "True\n",
      "HI BOB!\n"
     ]
    }
   ],
   "source": [
    "# Run the script `say_hi_to.py` so that it shouts \"HI BOB!\"\n",
    "\n",
    "# Solution\n",
    "!python say_hi_to.py Bob --shout"
   ]
  },
  {
   "cell_type": "code",
   "execution_count": null,
   "metadata": {},
   "outputs": [],
   "source": [
    "# Add a \"lastname\" argument to the parser, then run `say_hi_to.py` to shout \"HI BOB MCBOBFACE!\""
   ]
  },
  {
   "cell_type": "code",
   "execution_count": null,
   "metadata": {},
   "outputs": [],
   "source": [
    "# Add an argument parser to `posner_task.py` that takes `sub_id` as an argument and replace the parameter `SUB_ID` with\n",
    "# the command line argument. Then, run `posner_task.py` for subject 03."
   ]
  },
  {
   "cell_type": "code",
   "execution_count": null,
   "metadata": {},
   "outputs": [],
   "source": [
    "# Add another argument for the `session_id` to the argument parser. This argument should also be included in the file name.\n",
    "# For example, if we call `posner_task.py sub01 2`, the result should be saved as `posner_task_sub01_ses2.csv`"
   ]
  },
  {
   "cell_type": "markdown",
   "metadata": {},
   "source": [
    "## 3. Analyzing responses"
   ]
  },
  {
   "cell_type": "code",
   "execution_count": null,
   "metadata": {},
   "outputs": [],
   "source": []
  }
 ],
 "metadata": {
  "kernelspec": {
   "display_name": "psychopy",
   "language": "python",
   "name": "python3"
  },
  "language_info": {
   "codemirror_mode": {
    "name": "ipython",
    "version": 3
   },
   "file_extension": ".py",
   "mimetype": "text/x-python",
   "name": "python",
   "nbconvert_exporter": "python",
   "pygments_lexer": "ipython3",
   "version": "3.9.20"
  }
 },
 "nbformat": 4,
 "nbformat_minor": 2
}
