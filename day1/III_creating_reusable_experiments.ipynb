{
 "cells": [
  {
   "cell_type": "markdown",
   "metadata": {
    "vscode": {
     "languageId": "plaintext"
    }
   },
   "source": [
    "# Creating Reusable Experiments with Command Line Interfaces"
   ]
  },
  {
   "cell_type": "code",
   "execution_count": null,
   "metadata": {},
   "outputs": [],
   "source": [
    "%pip install psychopy"
   ]
  },
  {
   "cell_type": "code",
   "execution_count": null,
   "metadata": {},
   "outputs": [],
   "source": [
    "from argparse import ArgumentParser\n",
    "from psychopy.sound import Sound\n",
    "from psychopy.hardware.keyboard import Keyboard\n",
    "Sound(stereo=False);  # avoid bug that results from automatically setting `stereo`"
   ]
  },
  {
   "cell_type": "markdown",
   "metadata": {
    "vscode": {
     "languageId": "plaintext"
    }
   },
   "source": [
    "## 1. Creating an Argument Parser\n",
    "\n",
    "### Reference Table\n",
    "\n",
    "| Code                                            | Description |\n",
    "| :---------------------------------------------- | :---------- |\n",
    "| `parser = ArgumentParser()`                 | Create a parser for command line arguments |\n",
    "| `parser.add_argument(\"x\", type=int)`        | Add an integer argument `\"x\"` to the parser |\n",
    "| `parser.add_argument(\"y\", type=str)`        | Add a string argument `\"y\"` to the parser |\n",
    "| `parser.print_help()`                                              | Print the help documentation of the `parser`            |\n",
    "| `args = parser.parse_args(args=[\"3\", \"y\"])` | Parse the arguments and set the `\"x\"` to `\"3\"` and `\"y\"` to `\"hi\"`|\n",
    "| `args.x`                                    | Access the value passed to the argument `\"x\"`             |\n",
    "| `tone = Sound()`                         | Create a pure tone |\n",
    "| `tone = Sound(value=800)`                | Create a pure tone with a frequency of `800` Hz |\n",
    "| `tone = Sound(secs=1.5)`                 | Create a pure tone with a duration of `1.5` seconds |\n",
    "| `tone = Sound(hamming=True)`              | Create a sound where the onset and offset are smoothly ramped up/down using a hamming window |\n",
    "| `tone.play()`              | Play the sound |"
   ]
  },
  {
   "cell_type": "markdown",
   "metadata": {},
   "source": [
    "---\n",
    "**Example**: Make a parser that accepts integers for `n_trials`:"
   ]
  },
  {
   "cell_type": "code",
   "execution_count": null,
   "metadata": {},
   "outputs": [],
   "source": [
    "parser = ArgumentParser()\n",
    "parser.add_argument(\"n_trials\", type=int)\n",
    "parser.print_help()"
   ]
  },
  {
   "cell_type": "markdown",
   "metadata": {},
   "source": [
    "Make `args` from the `parser` above, with `args.n_trials` set to `10`:"
   ]
  },
  {
   "cell_type": "code",
   "execution_count": null,
   "metadata": {},
   "outputs": [],
   "source": [
    "args = parser.parse_args(args=[\"10\"])\n",
    "args.n_trials"
   ]
  },
  {
   "cell_type": "markdown",
   "metadata": {},
   "source": [
    "Make `args` from the `parser` above, with `args.n_trials` set to `18`:"
   ]
  },
  {
   "cell_type": "code",
   "execution_count": null,
   "metadata": {},
   "outputs": [],
   "source": [
    "args = parser.parse_args(args=[\"18\"])\n",
    "args.n_trials"
   ]
  },
  {
   "cell_type": "markdown",
   "metadata": {},
   "source": [
    "---\n",
    "**Exercise**: Make a parser that accepts integers for `n_blocks`:\n",
    "\n"
   ]
  },
  {
   "cell_type": "code",
   "execution_count": null,
   "metadata": {},
   "outputs": [],
   "source": [
    "# Solution\n",
    "parser = ArgumentParser()\n",
    "parser.add_argument('n_blocks', type=int)\n",
    "parser.print_help()"
   ]
  },
  {
   "cell_type": "markdown",
   "metadata": {},
   "source": [
    "Make `args` from the `parser` above, with `args.n_blocks` set to `2`:"
   ]
  },
  {
   "cell_type": "code",
   "execution_count": null,
   "metadata": {},
   "outputs": [],
   "source": [
    "# Solution\n",
    "args = parser.parse_args(args=['2'])\n",
    "args.n_blocks"
   ]
  },
  {
   "cell_type": "markdown",
   "metadata": {},
   "source": [
    "Make `args` from the `parser` above, with `args.n_blocks` set to `5`:"
   ]
  },
  {
   "cell_type": "code",
   "execution_count": null,
   "metadata": {},
   "outputs": [],
   "source": [
    "# Solution\n",
    "args = parser.parse_args(args=['5'])\n",
    "args.n_blocks"
   ]
  },
  {
   "cell_type": "markdown",
   "metadata": {},
   "source": [
    "---\n",
    "**Exercise**: Make a parser that accepts strings for `subject`:\n"
   ]
  },
  {
   "cell_type": "code",
   "execution_count": null,
   "metadata": {},
   "outputs": [],
   "source": [
    "# Solution\n",
    "parser = ArgumentParser()\n",
    "parser.add_argument('subject', type=str)\n",
    "parser.print_help()"
   ]
  },
  {
   "cell_type": "markdown",
   "metadata": {},
   "source": [
    "Make `args` from the `parser` above,  with `args.subject` set to `Fred`:"
   ]
  },
  {
   "cell_type": "code",
   "execution_count": null,
   "metadata": {},
   "outputs": [],
   "source": [
    "# Solution\n",
    "args = parser.parse_args(args=['Fred'])\n",
    "args.subject"
   ]
  },
  {
   "cell_type": "markdown",
   "metadata": {},
   "source": [
    "Make `args` from the `parser` above,  with `args.subject` set to `Julia`:"
   ]
  },
  {
   "cell_type": "code",
   "execution_count": null,
   "metadata": {},
   "outputs": [],
   "source": [
    "# Solution\n",
    "args = parser.parse_args(args=['Julia'])\n",
    "args.subject"
   ]
  },
  {
   "cell_type": "markdown",
   "metadata": {},
   "source": [
    "---\n",
    "**Exercise**: Make a parser that accepts integers for `freq`:"
   ]
  },
  {
   "cell_type": "code",
   "execution_count": null,
   "metadata": {},
   "outputs": [],
   "source": [
    "# Solution\n",
    "parser = ArgumentParser()\n",
    "parser.add_argument('freq', type=int)\n",
    "parser.print_help()"
   ]
  },
  {
   "cell_type": "markdown",
   "metadata": {},
   "source": [
    "Make PsychoPy play a sound at **800** Hz when `args.freq` is set to `800`:"
   ]
  },
  {
   "cell_type": "code",
   "execution_count": null,
   "metadata": {},
   "outputs": [],
   "source": [
    "# Solution\n",
    "args = parser.parse_args(args=['800'])\n",
    "sound = Sound(value=args.freq)\n",
    "sound.play()"
   ]
  },
  {
   "cell_type": "markdown",
   "metadata": {},
   "source": [
    "Make Psychopy play a sound at **1200** Hz when `args.freq` is set to `1200`:"
   ]
  },
  {
   "cell_type": "code",
   "execution_count": null,
   "metadata": {},
   "outputs": [],
   "source": [
    "# Solution\n",
    "args = parser.parse_args(args=['1200'])\n",
    "sound = Sound(value=args.freq)\n",
    "sound.play()"
   ]
  },
  {
   "cell_type": "markdown",
   "metadata": {},
   "source": [
    "---\n",
    "**Exercise**: Make a parser that accepts integers for `freq` and `dur`:"
   ]
  },
  {
   "cell_type": "code",
   "execution_count": null,
   "metadata": {},
   "outputs": [],
   "source": [
    "# Solution\n",
    "parser = ArgumentParser()\n",
    "parser.add_argument('freq', type=int)\n",
    "parser.add_argument('secs', type=float)\n",
    "parser.print_help()"
   ]
  },
  {
   "cell_type": "markdown",
   "metadata": {},
   "source": [
    "Make PsychoPy play a **500** Hz tone with a duration of **1.8** seconds with `args` from the `parser` above, when `args.freq` set to `500` and `args.secs` set to `1.8`:"
   ]
  },
  {
   "cell_type": "code",
   "execution_count": null,
   "metadata": {},
   "outputs": [],
   "source": [
    "# Solution\n",
    "args = parser.parse_args(args=[\"500\", \"1.8\"])\n",
    "sound = Sound(value=args.freq, secs=args.secs)\n",
    "sound.play()"
   ]
  },
  {
   "cell_type": "markdown",
   "metadata": {},
   "source": [
    "Make PsychoPy play a **4000** Hz tone with a duration of **0.25** seconds with `args` from the `parser` above, when `args.freq` set to `4000` and `args.secs` set to `0.25`:"
   ]
  },
  {
   "cell_type": "code",
   "execution_count": null,
   "metadata": {},
   "outputs": [],
   "source": [
    "# Solution\n",
    "args = parser.parse_args(args=[\"4000\", \"0.25\"])\n",
    "sound = Sound(value=args.freq, secs=args.secs)\n",
    "sound.play()"
   ]
  },
  {
   "cell_type": "markdown",
   "metadata": {},
   "source": [
    "---\n",
    "**Exercise**: Make a parser that accepts integers for `freq` and booleans for `hamming`:"
   ]
  },
  {
   "cell_type": "code",
   "execution_count": null,
   "metadata": {},
   "outputs": [],
   "source": [
    "# Solution\n",
    "parser = ArgumentParser()\n",
    "parser.add_argument('freq', type=int)\n",
    "parser.add_argument('hamming', type=bool)\n",
    "parser.print_help()"
   ]
  },
  {
   "cell_type": "markdown",
   "metadata": {},
   "source": [
    "Make PsychoPy play a **330** Hz tone with onset and offset ramp with `args` from the `parser` above, when `args.freq` is set to `330` and `args.hamming` set to `True`:"
   ]
  },
  {
   "cell_type": "code",
   "execution_count": null,
   "metadata": {},
   "outputs": [],
   "source": [
    "args = parser.parse_args(args=[\"330\", \"True\"])\n",
    "sound = Sound(value=args.freq, hamming=args.hamming)\n",
    "sound.play()"
   ]
  },
  {
   "cell_type": "markdown",
   "metadata": {},
   "source": [
    "Make PsychoPy play a **950** Hz tone without onset and offset ramp with `args` from the `parser` above, when `args.freq` is set to `950` and `args.hamming` set to `False`:"
   ]
  },
  {
   "cell_type": "code",
   "execution_count": null,
   "metadata": {},
   "outputs": [],
   "source": [
    "args = parser.parse_args(args=[\"300\", \"False\"])\n",
    "sound = Sound(value=args.freq, hamming=args.hamming)\n",
    "sound.play()"
   ]
  },
  {
   "cell_type": "markdown",
   "metadata": {},
   "source": [
    "## 2. Documenting your CLI\n",
    "\n",
    "### Reference Table\n",
    "| Code                                                                   | Description |\n",
    "| :--------------------------------------------------------------------- | :---------- |\n",
    "| `parser = ArgumentParser(description=\"This program ...\")`    | Create an argument parser and add a `description` about the program|\n",
    "| `parser.add_argument(\"n\", help=\"This argument...\")`        | Add a positional argument `\"n\"` and add a `help` text about the argument             |\n",
    "| `parser.add_argument(\"--sub\", type=str)`                           | Add an optional named argument `\"--sub\"` of type string             | \n",
    "| `parser.add_argument(\"--train\", action=\"store_true\")`                 | Add an optional named argument `\"--train\"` that, when included, takes the value `True`             |\n",
    "| `args = parser.parse_args(args=[\"--sub\", \"Bob\", \"--train\"])` | Parse the arguments and set `args.sub` to `\"Bob\"` and `args.train` to `True`             | \n",
    "| `kb = Keyboard()`                                | Initialize the `Keyboard` and assign it to the variable `kb`|\n",
    "| `kb.waitKeys()`                                | Wait until any key is pressed |\n",
    "| `kb.waitKeys(keyList=[\"a\", \"b\"])`              | Wait until the keys `\"a\"` or `\"b\"` are pressed | \n",
    "| `kb.waitKeys(maxWait=3)`                       | Wait until any key is pressed but maximally `5` seconds |\n",
    "| `kb.waitKeys(waitRelease=True)`                | Wait until any key is pressed and released again |\n"
   ]
  },
  {
   "cell_type": "markdown",
   "metadata": {},
   "source": [
    "**Example**: Make an argument parser that accepts strings for `--key1` and `--key2`"
   ]
  },
  {
   "cell_type": "code",
   "execution_count": null,
   "metadata": {},
   "outputs": [],
   "source": [
    "parser = ArgumentParser()\n",
    "parser.add_argument(\"--key1\", type=str)\n",
    "parser.add_argument(\"--key2\", type=str)\n",
    "parser.print_help()"
   ]
  },
  {
   "cell_type": "markdown",
   "metadata": {},
   "source": [
    "Make PsychoPy wait until the keys **q** or **p** were pressed with `args` from the `parser` above, when `args.key1` is set to `\"q\"` and `args.key2` set to `\"p\"`:"
   ]
  },
  {
   "cell_type": "code",
   "execution_count": null,
   "metadata": {},
   "outputs": [],
   "source": [
    "\n",
    "args = parser.parse_args(args=[\"--key1\", \"q\", \"--key2\", \"p\"])\n",
    "kb = Keyboard()\n",
    "kb.waitKeys(keyList=[args.key1, args.key2])"
   ]
  },
  {
   "cell_type": "markdown",
   "metadata": {},
   "source": [
    "Make PsychoPy wait until the **return/enter** key was pressed with `args` from the `parser` above, when `args.key1` is set to `\"return\"` and `args.key2` is not used at all:"
   ]
  },
  {
   "cell_type": "code",
   "execution_count": null,
   "metadata": {},
   "outputs": [],
   "source": [
    "args = parser.parse_args(args=[\"--key1\", \"return\"])\n",
    "kb = Keyboard()\n",
    "kb.waitKeys(keyList=[args.key1, args.key2])"
   ]
  },
  {
   "cell_type": "markdown",
   "metadata": {},
   "source": [
    "---\n",
    "**Exercise**: Make an argument parser that accepts strings for `--yes` and `--no` "
   ]
  },
  {
   "cell_type": "code",
   "execution_count": null,
   "metadata": {},
   "outputs": [],
   "source": [
    "# Solution\n",
    "parser = ArgumentParser()\n",
    "parser.add_argument(\"--yes\", type=str)\n",
    "parser.add_argument(\"--no\", type=str)\n",
    "parser.print_help()"
   ]
  },
  {
   "cell_type": "markdown",
   "metadata": {},
   "source": [
    "Make PsychoPy wait until the keys **y** or **n** were pressed with `args` from the `parser` above, when `args.yes` is set to `\"y\"` and `args.no` is set to `\"n\"`:"
   ]
  },
  {
   "cell_type": "code",
   "execution_count": null,
   "metadata": {},
   "outputs": [],
   "source": [
    "# Solution\n",
    "args = parser.parse_args(args=[\"--yes\", \"y\", \"--no\", \"n\"])\n",
    "kb = Keyboard()\n",
    "kb.waitKeys(keyList=[args.yes, args.no])"
   ]
  },
  {
   "cell_type": "markdown",
   "metadata": {},
   "source": [
    "Make PsychoPy wait until the key **space** was pressed with `args` from the `parser` above, when `args.yes` is set to `\"space\"` and `args.no` is not used at all:"
   ]
  },
  {
   "cell_type": "code",
   "execution_count": null,
   "metadata": {},
   "outputs": [],
   "source": [
    "# Solution\n",
    "args = parser.parse_args(args=[\"--yes\", \"enter\"])\n",
    "kb = Keyboard()\n",
    "kb.waitKeys(keyList=[args.yes, args.no])"
   ]
  },
  {
   "cell_type": "markdown",
   "metadata": {},
   "source": [
    "---\n",
    "**Exercise**: Make an argument parser with the `description=\"This program waits until 'maxwait' has passed or the 'key' was pressed`.\n",
    "Make the parser accept strings for `\"--key\"` and add the `help=\"Wait for this key (e.g. 'space')\"`.\n",
    "Also make the parser accept floats for `\"--maxwait\"` and add the `help=\"Maximum time to wait in seconds\"`:"
   ]
  },
  {
   "cell_type": "code",
   "execution_count": null,
   "metadata": {},
   "outputs": [],
   "source": [
    "# Solution\n",
    "parser = ArgumentParser(description=\"This program waits until 'maxwait has passed or the `key` was pressed\")\n",
    "parser.add_argument(\"--key\", type=str, help=\"Wait for this key (e.g. 'space')\")\n",
    "parser.add_argument(\"--maxwait\", type=float, help=\"Maximum time to wait in seconds\")\n",
    "parser.print_help()"
   ]
  },
  {
   "cell_type": "markdown",
   "metadata": {},
   "source": [
    "Make PsychoPy wait until the key **z** was pressed or **2.5** seconds passed with `args` from the `parser` above, when `args.key` is set to `\"z\"` and `args.maxwait` is set to `\"2.5\"`:"
   ]
  },
  {
   "cell_type": "code",
   "execution_count": null,
   "metadata": {},
   "outputs": [],
   "source": [
    "# Solution\n",
    "args = parser.parse_args(args=[\"--maxwait\", \"2.5\"])\n",
    "kb = Keyboard()\n",
    "kb.waitKeys(keyList=[args.key], maxWait=args.maxwait)"
   ]
  },
  {
   "cell_type": "markdown",
   "metadata": {},
   "source": [
    "Make PsychoPy wait until the key **g** was pressed or **3.25** seconds passed with `args` from the `parser` above, when `args.key` is set to `\"g\"` and `args.maxwait` is set to `\"3.25\"`:"
   ]
  },
  {
   "cell_type": "code",
   "execution_count": null,
   "metadata": {},
   "outputs": [],
   "source": [
    "# Solution\n",
    "args = parser.parse_args(args=[\"--key\", \"g\", \"--maxwait\", \"3.25\"])\n",
    "kb = Keyboard()\n",
    "kb.waitKeys(keyList=[args.key], maxWait=args.maxwait)"
   ]
  },
  {
   "cell_type": "markdown",
   "metadata": {},
   "source": [
    "---\n",
    "**Exercise**: Make an argument parser that accepts strings for `\"--key\"` and add a `\"--release\"` flag with `action=\"store_true\"`:"
   ]
  },
  {
   "cell_type": "code",
   "execution_count": null,
   "metadata": {},
   "outputs": [],
   "source": [
    "# Solution\n",
    "parser = ArgumentParser()\n",
    "parser.add_argument(\"--key\", type=str)\n",
    "parser.add_argument(\"--release\", action=\"store_true\")\n",
    "parser.print_help()"
   ]
  },
  {
   "cell_type": "markdown",
   "metadata": {},
   "source": [
    "Make PsychoPy wait until the key **space** was pressed with `args` from the `parser` above when `args.key` is set to `\"space\"` and wait until the key was released again `if args.release== True`:"
   ]
  },
  {
   "cell_type": "code",
   "execution_count": null,
   "metadata": {},
   "outputs": [],
   "source": [
    "args = parser.parse_args(args=[\"--key\", \"space\", \"--release\"])\n",
    "kb = Keyboard()\n",
    "kb.waitKeys(keyList=[args.key], waitRelease=args.release)"
   ]
  },
  {
   "cell_type": "markdown",
   "metadata": {},
   "source": [
    "Make PsychoPy wait until the key **space** was pressed with `args` from the `parser` above when `args.key` is set to `\"space\"` and don't wait for the key release if the `\"--release\"` flag was not included:"
   ]
  },
  {
   "cell_type": "code",
   "execution_count": null,
   "metadata": {},
   "outputs": [],
   "source": [
    "args = parser.parse_args(args=[\"--key\", \"space\"])\n",
    "kb = Keyboard()\n",
    "kb.waitKeys(keyList=[args.key], waitRelease=args.release)"
   ]
  },
  {
   "cell_type": "markdown",
   "metadata": {},
   "source": [
    "---\n",
    "**Exercise**: Make an argument parser that accepts strings for `\"--left\"` and `\"--right\"` and add a `\"--wait\"` flag with `action=\"store_true\"`:"
   ]
  },
  {
   "cell_type": "code",
   "execution_count": null,
   "metadata": {},
   "outputs": [],
   "source": [
    "# Solution\n",
    "parser = ArgumentParser()\n",
    "parser.add_argument(\"--left\", type=str)\n",
    "parser.add_argument(\"--right\", type=str)\n",
    "parser.add_argument(\"--wait\", action=\"store_true\")\n",
    "parser.print_help()"
   ]
  },
  {
   "cell_type": "markdown",
   "metadata": {},
   "source": [
    "Make PsychoPy wait until the **left** or **right** arrow key was pressed if `args.left=\"left\"` and `args.right=\"right\"` but only wait `if args.wait==True`:"
   ]
  },
  {
   "cell_type": "code",
   "execution_count": null,
   "metadata": {},
   "outputs": [],
   "source": [
    "args = parser.parse_args(args=['--left', 'left', '--right', 'right', '--wait'])\n",
    "kb = Keyboard()\n",
    "if args.wait:\n",
    "    kb.waitKeys(keyList=[args.left, args.right])"
   ]
  },
  {
   "cell_type": "markdown",
   "metadata": {},
   "source": [
    "Execute the code from above again but without waiting by omitting `\"--wait\"` flag from `\"args\"`."
   ]
  },
  {
   "cell_type": "code",
   "execution_count": null,
   "metadata": {},
   "outputs": [],
   "source": [
    "args = parser.parse_args(args=['--left', 'a', '--right', 'd'])\n",
    "kb = Keyboard()\n",
    "if args.wait:\n",
    "    kb.waitKeys(keyList=[args.left, args.right])"
   ]
  },
  {
   "cell_type": "markdown",
   "metadata": {
    "vscode": {
     "languageId": "plaintext"
    }
   },
   "source": [
    "## 3. Writing a program with a command line interface\n",
    "\n",
    "Multiple PsychoPy programs that interact with the same sound device can cause problems. Restart the kernel before proceeding.\n",
    "\n",
    "#### Reference Table\n",
    "\n",
    "|Code | Description |\n",
    "|---|---|\n",
    "|`!python some_program.py -h` | Print the help documentation of `some_program`'s command line interface |\n",
    "|`!python some_program.py hi` | Execute `some_program.py` with `hi` as the first positional argument |\n",
    "|`!python some_program.py hi --arg1 2` | Execute `some_program.py` with `hi` as the first positional argument and `2` as the value of the optional argument `--arg1` |"
   ]
  },
  {
   "cell_type": "markdown",
   "metadata": {},
   "source": [
    "**Exercise**: Call the help of the Python program `say_hi_to.py`"
   ]
  },
  {
   "cell_type": "code",
   "execution_count": null,
   "metadata": {},
   "outputs": [],
   "source": [
    "!python say_hi_to.py -h"
   ]
  },
  {
   "cell_type": "markdown",
   "metadata": {},
   "source": [
    "**Exercise**: Use `say_hi_to.py` to say hi to **\"John Doe\"**"
   ]
  },
  {
   "cell_type": "code",
   "execution_count": null,
   "metadata": {},
   "outputs": [],
   "source": [
    "!python say_hi_to.py --first John --last Doe"
   ]
  },
  {
   "cell_type": "markdown",
   "metadata": {},
   "source": [
    "**Exercise**: Use `say_hi_to.py` to say hi to shout **\"HI BOB!\"**"
   ]
  },
  {
   "cell_type": "code",
   "execution_count": null,
   "metadata": {},
   "outputs": [],
   "source": [
    "!python say_hi_to.py --first Bob --shout"
   ]
  },
  {
   "cell_type": "markdown",
   "metadata": {},
   "source": [
    "---\n",
    "**Exercise**: Write a program called `react_to_tone.py` with an `ArgumentParser` that accepts a string argument `key`, an integer argument `freq` and a `--release` flag.\n",
    " Make the program play a tone at the given frequency, wait fo the `key` and prints the value returned by `Keyboard.waitKeys()`. \n",
    " Make the program wait until the key was released again if the `--release` flag was included."
   ]
  },
  {
   "cell_type": "markdown",
   "metadata": {},
   "source": [
    "Make `react_to_tone.py` play a **600 Hz** tone and wait until **y** was pressed:"
   ]
  },
  {
   "cell_type": "code",
   "execution_count": null,
   "metadata": {},
   "outputs": [],
   "source": [
    "# Solution\n",
    "!python react_to_tone.py 600 y"
   ]
  },
  {
   "cell_type": "markdown",
   "metadata": {},
   "source": [
    "Make `react_to_tone.py` play a **750 Hz** tone and wait until the key **n** was pressed and **released** again:"
   ]
  },
  {
   "cell_type": "code",
   "execution_count": null,
   "metadata": {},
   "outputs": [],
   "source": [
    "# Solution\n",
    "!python react_to_tone.py 750 n --release"
   ]
  },
  {
   "cell_type": "markdown",
   "metadata": {},
   "source": [
    "---\n",
    "**Exercise**: Write a program called `react_to_tones.py` with an `ArgumentParser` that accepts a string argument `key`, an integer argument `freq` and an integer argument `n_trials`.\n",
    "Make the program play multiple tones at the given frequency in a loop with `for i in range(args.n_trials)`. \n",
    "Make the program wait for the `key` and print out the value returned by `Keyboard.waitKeys()` after every tone."
   ]
  },
  {
   "cell_type": "markdown",
   "metadata": {},
   "source": [
    "Make `react_to_tones.py` play **3** tones at **1000** Hz and wait for the **space** key"
   ]
  },
  {
   "cell_type": "code",
   "execution_count": null,
   "metadata": {},
   "outputs": [],
   "source": [
    "# Solution\n",
    "!python react_to_tones.py 1000 space 3"
   ]
  },
  {
   "cell_type": "markdown",
   "metadata": {},
   "source": [
    "Make `react_to_tones.py` play **5** tones at **1600** Hz and wait for the **n** key"
   ]
  },
  {
   "cell_type": "code",
   "execution_count": null,
   "metadata": {},
   "outputs": [],
   "source": [
    "# Solution\n",
    "!python react_to_tones.py 1600 n 5"
   ]
  },
  {
   "cell_type": "markdown",
   "metadata": {},
   "source": [
    "---\n",
    "**Exercise**: Write a program called `change_pitch.py` with an ArgumentParser that accepts integers for `freq`, `step` and `n_trials`.\n",
    "Make the program play mutliple tones using a loop with `for i in range(args.n_trials)`. After every tone, wait until the `\"up\"` or `\"down\"` key was pressed.\n",
    "If the `\"down\"` key was pressed, decrease the tone frequency by `step`, if `\"up\"` was pressed, increase the tone frequency by `step`. \n",
    "Start at the frequency passed to the `freq` parameter.\n",
    "(Hint: `Keyboard.waitKeys()` returns a list of `keys` --- access the name of the pressed key as `keys[0].name`)"
   ]
  },
  {
   "cell_type": "markdown",
   "metadata": {},
   "source": [
    "Make `change_pitch.py` play **10** tones, starting at **1200** Hz with a step size of **50** Hz"
   ]
  },
  {
   "cell_type": "code",
   "execution_count": 6,
   "metadata": {},
   "outputs": [
    {
     "name": "stdout",
     "output_type": "stream",
     "text": [
      "10.4444 \tWARNING \tStopping key buffers but this could be dangerous ifother keyboards rely on the same.\n"
     ]
    }
   ],
   "source": [
    "# Solution\n",
    "!python change_pitch.py 1200 50 10"
   ]
  },
  {
   "cell_type": "markdown",
   "metadata": {},
   "source": [
    "Make `change_pitch.py` play **5** tones, starting at **2100** Hz with a step size of **100** Hz"
   ]
  },
  {
   "cell_type": "code",
   "execution_count": 10,
   "metadata": {},
   "outputs": [
    {
     "name": "stdout",
     "output_type": "stream",
     "text": [
      "43.9738 \tWARNING \tStopping key buffers but this could be dangerous ifother keyboards rely on the same.\n"
     ]
    }
   ],
   "source": [
    "# Solution\n",
    "!python change_pitch.py 2100 100 5"
   ]
  }
 ],
 "metadata": {
  "kernelspec": {
   "display_name": "Python 3",
   "language": "python",
   "name": "python3"
  },
  "language_info": {
   "codemirror_mode": {
    "name": "ipython",
    "version": 3
   },
   "file_extension": ".py",
   "mimetype": "text/x-python",
   "name": "python",
   "nbconvert_exporter": "python",
   "pygments_lexer": "ipython3",
   "version": "3.9.20"
  }
 },
 "nbformat": 4,
 "nbformat_minor": 2
}
