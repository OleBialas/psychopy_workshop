{
 "cells": [
  {
   "cell_type": "code",
   "execution_count": 9,
   "metadata": {},
   "outputs": [],
   "source": [
    "from unittest.mock import Mock"
   ]
  },
  {
   "cell_type": "markdown",
   "metadata": {},
   "source": [
    "## Making Code More Testable: Utilizing Mocks and Patches in pytest"
   ]
  },
  {
   "cell_type": "markdown",
   "metadata": {},
   "source": [
    "### Mocking to Create Predictable Behavior\n",
    "\n",
    "| Code | Description |\n",
    "| :- | :- |\n",
    "| **`mock = Mock()`** | Create a Mock() object |\n",
    "| **`mock(1, 2)`** | Call the mock object as though it were **any function you want**. Doesn't actually do anything. |\n",
    "| **`mock.return_value = 5`** | Tell the mock function to always return `5` when called, no matter the inputs. |\n",
    "| **`mock.some_method(3, 5)`** | Call **any method you want** on the mock object. Doesn't actually do anything.|\n",
    "| **`mock.some_method.return_value = 10`** | Tell the `some_method` mock method to always return `10` when called, no matter the inputs. |\n"
   ]
  },
  {
   "cell_type": "markdown",
   "metadata": {},
   "source": [
    "### Mocking to Spy on your Code\n",
    "\n",
    "| **Code** | **Description** |\n",
    "| :-- | :-- |\n",
    "| **`spy = Mock(wraps=print)`** | Wrap the `print()` function, so you can find out how it was called. |\n",
    "| **`args, kwargs = spy.call_args`** | Find out what positional and keyword arguments were used when calling the spy` |\n",
    "| **`spy.assert_called()`** | Raises an `AssertionError` if `spy` was never called. |\n",
    "| **`spy.assert_called_once()`** | Raises an `AssertionError` if `spy` was called more or less than once. |\n",
    "| **`spy.assert_called_with('hello')`** | Raises an `AssertionError` if `spy` was not called with `'hello'` as the input. |\n"
   ]
  },
  {
   "cell_type": "code",
   "execution_count": 18,
   "metadata": {},
   "outputs": [
    {
     "name": "stdout",
     "output_type": "stream",
     "text": [
      "Hello, World\n"
     ]
    },
    {
     "data": {
      "text/plain": [
       "call('Hello, World')"
      ]
     },
     "execution_count": 18,
     "metadata": {},
     "output_type": "execute_result"
    }
   ],
   "source": [
    "spy = Mock(wraps=print)\n",
    "spy('Hello, World')\n",
    "spy.call_args"
   ]
  },
  {
   "cell_type": "code",
   "execution_count": null,
   "metadata": {},
   "outputs": [],
   "source": []
  },
  {
   "cell_type": "markdown",
   "metadata": {},
   "source": [
    "### Mocking to Block Side Effects\n",
    "\n",
    "| **Code** | **Description** |\n",
    "| :-- | :-- |\n",
    "| **``** |"
   ]
  },
  {
   "cell_type": "code",
   "execution_count": null,
   "metadata": {},
   "outputs": [],
   "source": []
  },
  {
   "cell_type": "markdown",
   "metadata": {},
   "source": [
    "### Patching to Make a Mock"
   ]
  }
 ],
 "metadata": {
  "kernelspec": {
   "display_name": "ds",
   "language": "python",
   "name": "python3"
  },
  "language_info": {
   "codemirror_mode": {
    "name": "ipython",
    "version": 3
   },
   "file_extension": ".py",
   "mimetype": "text/x-python",
   "name": "python",
   "nbconvert_exporter": "python",
   "pygments_lexer": "ipython3",
   "version": "3.11.9"
  }
 },
 "nbformat": 4,
 "nbformat_minor": 2
}
